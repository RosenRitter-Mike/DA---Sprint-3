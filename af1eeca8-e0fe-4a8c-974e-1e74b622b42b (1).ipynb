{
 "cells": [
  {
   "cell_type": "markdown",
   "metadata": {},
   "source": [
    "<div style=\"border:solid green 2px; padding: 20px\"> <h1 style=\"color:green; margin-bottom:20px\">Reviewer's comment v1</h1>\n",
    "\n",
    "Hello, my name is Dmitrii Pyshnenko. Happy to review your project! 🙌\n",
    "\n",
    "As usual you can find my comments under the heading **«Review»**. I will categorize my comments in green, blue or red boxes like this:\n",
    "\n",
    "<div class=\"alert alert-success\">\n",
    "    <b>Success:</b> if everything is done successfully\n",
    "</div>\n",
    "<div class=\"alert alert-warning\">\n",
    "    <b>Remarks:</b> if I can give some recommendations or ways to improve the project\n",
    "</div>\n",
    "<div class=\"alert alert-danger\">\n",
    "    <b>Needs fixing:</b> if the block requires some corrections. Work can't be accepted with the red comments\n",
    "</div>\n",
    "\n",
    "Please don't remove my comments :) If you have any questions don't hesitate to respond to my comments in a different section. \n",
    "\n"
   ]
  },
  {
   "cell_type": "markdown",
   "metadata": {},
   "source": [
    "<div style=\"border:solid green 2px; padding: 20px\">\n",
    "<b>Reviewer's comment v1</b>\n",
    "    \n",
    "<b>Overall Feedback</b> \n",
    "    \n",
    "Overall well done! I can see that a lot of effort has been made! Your project already looks really good, and you accomplished impressive results.\n",
    "\n",
    "There are no critical issues, so your project has been accepted. Congratulations! However, I want to send it back to you in case you have any questions along the way or you want to make additional changes to the project.\n",
    "  \n",
    "And of course, if you have any questions along the way, remember that you can always reach out to your tutor for any clarification.\n",
    "</div>"
   ]
  },
  {
   "cell_type": "markdown",
   "metadata": {},
   "source": [
    "<div class=\"alert alert-block alert-info\">\n",
    "<b>Student answer.</b> <a class=\"tocSkip\"></a>\n",
    "     Hello Dmitrii, Thanks your feedback was very helpfull!\n",
    "</div>\n"
   ]
  },
  {
   "cell_type": "markdown",
   "metadata": {},
   "source": [
    "<div style=\"border:solid green 2px; padding: 20px\">\n",
    "<b>Reviewer's comment v2:</b>\n",
    "    \n",
    "<b>Overall Feedback</b> \n",
    "    \n",
    "Thank you for submitting your project with all corrections! \n",
    "- Now everything is perfect. No critial issues left, so your project has been accepted! \n",
    "- Wish you cool projects in the next sprints! ☘️\n",
    "    \n",
    "PS: As a last thing, I can recommend cool lectures on stat analysis here: https://www.youtube.com/playlist?list=PL2SOU6wwxB0uwwH80KTQ6ht66KWxbzTIo  🙌\n",
    "\n",
    "</div>"
   ]
  },
  {
   "cell_type": "markdown",
   "metadata": {},
   "source": [
    "### Introduction for the project"
   ]
  },
  {
   "cell_type": "markdown",
   "metadata": {},
   "source": [
    "The goal of this project is to asses the paterns in behaviur of custumers of the telecom operator Megaline, The company offers its clients two prepaid plans, Surf and Ultimate. The commercial department wants to know which of the plans brings in more revenue in order to adjust the advertising budget.\n",
    "\n",
    "This is a preliminary analysis of the plans based on a relatively small client selection. Based on the data on 500 Megaline clients: who the clients are, where they're from, which plan they use, and the number of calls they made and text messages they sent in 2018."
   ]
  },
  {
   "cell_type": "markdown",
   "metadata": {},
   "source": [
    "#### Outline of work"
   ]
  },
  {
   "cell_type": "markdown",
   "metadata": {},
   "source": [
    "- Assess the data, and make decisions about the values.\n",
    "\n",
    "- construct charts, histograms and boxplots to find distrebution of values.\n",
    "\n",
    "- Perform hypothesis testing on the data using Pandas, Numpy, and the spicy.stats module in Python.\n"
   ]
  },
  {
   "cell_type": "markdown",
   "metadata": {},
   "source": [
    "### Open the data file and study the general information"
   ]
  },
  {
   "cell_type": "markdown",
   "metadata": {},
   "source": [
    "<div class=\"alert alert-block alert-warning\">\n",
    "<b>Reviewer's comment v1</b>\n",
    " \n",
    "It would be great to add additional information about the project goal and tasks. It gives an overview of what you are going to achieve in this project. Also, this introduction potentially can be used as a Readme file in your portfolio on Github. One example of a nice introduction for a data analysis project can be found here: https://github.com/CICIFLY/Data-Analytics-Projects/blob/master/AB%20Testing%20Result%20Analyze/readme.md"
   ]
  },
  {
   "cell_type": "code",
   "execution_count": 1,
   "metadata": {},
   "outputs": [],
   "source": [
    "# Loading all the libraries\n",
    "\n",
    "import pandas as pd\n",
    "import numpy as np\n",
    "from scipy import stats as st\n",
    "import datetime as dt\n",
    "import seaborn as sns\n",
    "import matplotlib.pyplot as plt\n",
    "from functools import reduce\n",
    "\n",
    "%matplotlib inline\n",
    "\n",
    "pd.options.display.float_format = '{:.3f}'.format\n"
   ]
  },
  {
   "cell_type": "code",
   "execution_count": 2,
   "metadata": {},
   "outputs": [],
   "source": [
    "import sys\n",
    "import warnings\n",
    "if not sys.warnoptions:\n",
    "        warnings.simplefilter(\"ignore\");"
   ]
  },
  {
   "cell_type": "code",
   "execution_count": 3,
   "metadata": {
    "scrolled": true
   },
   "outputs": [
    {
     "name": "stdout",
     "output_type": "stream",
     "text": [
      "Defaulting to user installation because normal site-packages is not writeable\n",
      "Requirement already up-to-date: seaborn in /home/jovyan/.local/lib/python3.7/site-packages (0.11.2)\n",
      "Requirement already satisfied, skipping upgrade: matplotlib>=2.2 in /opt/conda/lib/python3.7/site-packages (from seaborn) (3.1.0)\n",
      "Requirement already satisfied, skipping upgrade: pandas>=0.23 in /opt/conda/lib/python3.7/site-packages (from seaborn) (0.25.1)\n",
      "Requirement already satisfied, skipping upgrade: scipy>=1.0 in /opt/conda/lib/python3.7/site-packages (from seaborn) (1.4.1)\n",
      "Requirement already satisfied, skipping upgrade: numpy>=1.15 in /opt/conda/lib/python3.7/site-packages (from seaborn) (1.19.5)\n",
      "Requirement already satisfied, skipping upgrade: kiwisolver>=1.0.1 in /opt/conda/lib/python3.7/site-packages (from matplotlib>=2.2->seaborn) (1.3.1)\n",
      "Requirement already satisfied, skipping upgrade: pyparsing!=2.0.4,!=2.1.2,!=2.1.6,>=2.0.1 in /opt/conda/lib/python3.7/site-packages (from matplotlib>=2.2->seaborn) (2.4.7)\n",
      "Requirement already satisfied, skipping upgrade: cycler>=0.10 in /opt/conda/lib/python3.7/site-packages (from matplotlib>=2.2->seaborn) (0.10.0)\n",
      "Requirement already satisfied, skipping upgrade: python-dateutil>=2.1 in /opt/conda/lib/python3.7/site-packages (from matplotlib>=2.2->seaborn) (2.8.1)\n",
      "Requirement already satisfied, skipping upgrade: pytz>=2017.2 in /opt/conda/lib/python3.7/site-packages (from pandas>=0.23->seaborn) (2021.1)\n",
      "Requirement already satisfied, skipping upgrade: six in /opt/conda/lib/python3.7/site-packages (from cycler>=0.10->matplotlib>=2.2->seaborn) (1.15.0)\n",
      "Note: you may need to restart the kernel to use updated packages.\n"
     ]
    }
   ],
   "source": [
    "pip install -U seaborn"
   ]
  },
  {
   "cell_type": "code",
   "execution_count": 4,
   "metadata": {},
   "outputs": [
    {
     "name": "stdout",
     "output_type": "stream",
     "text": [
      "137735          id  user_id   call_date  duration\n",
      "0   1000_93     1000  2018-12-27     8.520\n",
      "1  1000_145     1000  2018-12-27    13.660\n",
      "2  1000_247     1000  2018-12-27    14.480\n",
      "3  1000_309     1000  2018-12-28     5.760\n",
      "4  1000_380     1000  2018-12-30     4.220\n"
     ]
    }
   ],
   "source": [
    "# Load the data files into a DataFrame\n",
    "\n",
    "try: \n",
    "    data_calls = pd.read_csv('megaline_calls.csv')\n",
    "except:\n",
    "    data_calls = pd.read_csv('/datasets/megaline_calls.csv')\n",
    "   \n",
    " \n",
    "print(len(data_calls), data_calls.head())    "
   ]
  },
  {
   "cell_type": "code",
   "execution_count": 5,
   "metadata": {},
   "outputs": [
    {
     "name": "stdout",
     "output_type": "stream",
     "text": [
      "<class 'pandas.core.frame.DataFrame'>\n",
      "RangeIndex: 137735 entries, 0 to 137734\n",
      "Data columns (total 4 columns):\n",
      "id           137735 non-null object\n",
      "user_id      137735 non-null int64\n",
      "call_date    137735 non-null object\n",
      "duration     137735 non-null float64\n",
      "dtypes: float64(1), int64(1), object(2)\n",
      "memory usage: 4.2+ MB\n"
     ]
    }
   ],
   "source": [
    "data_calls.info()"
   ]
  },
  {
   "cell_type": "code",
   "execution_count": 6,
   "metadata": {},
   "outputs": [
    {
     "data": {
      "text/plain": [
       "26834"
      ]
     },
     "execution_count": 6,
     "metadata": {},
     "output_type": "execute_result"
    }
   ],
   "source": [
    "data_calls.query('duration<0.01')['duration'].count()"
   ]
  },
  {
   "cell_type": "markdown",
   "metadata": {},
   "source": [
    "many calls have a duration of less then 0.01 minutes (missed calls), but they do not realy influence the data of duration as they are to short to change the revenue charged for phone time. So they can be left alone."
   ]
  },
  {
   "cell_type": "markdown",
   "metadata": {},
   "source": [
    "<div class=\"alert alert-block alert-success\">\n",
    "<b>Reviewer's comment v1</b>\n",
    " \n",
    "Great that you've added a solution for zero-based sessions.\n",
    "\n",
    "On a real project, of course, you can always find out the reason for such zeros. But in this case, it is enough to consider the alternatives and the impact of each decision."
   ]
  },
  {
   "cell_type": "code",
   "execution_count": 7,
   "metadata": {},
   "outputs": [
    {
     "name": "stdout",
     "output_type": "stream",
     "text": [
      "2018-01-15\n",
      "2018-12-31\n"
     ]
    }
   ],
   "source": [
    "#I check that the date data is only for 2018\n",
    "\n",
    "print(data_calls.call_date.min())\n",
    "print(data_calls.call_date.max())"
   ]
  },
  {
   "cell_type": "code",
   "execution_count": 8,
   "metadata": {},
   "outputs": [
    {
     "name": "stdout",
     "output_type": "stream",
     "text": [
      "         id  user_id  call_date  duration  month\n",
      "0   1000_93     1000 2018-12-27     8.520     12\n",
      "1  1000_145     1000 2018-12-27    13.660     12\n",
      "2  1000_247     1000 2018-12-27    14.480     12\n",
      "3  1000_309     1000 2018-12-28     5.760     12\n",
      "4  1000_380     1000 2018-12-30     4.220     12\n"
     ]
    }
   ],
   "source": [
    "data_calls['call_date'] = pd.to_datetime(data_calls['call_date'])\n",
    "data_calls['month'] = pd.DatetimeIndex(data_calls['call_date']).month\n",
    "\n",
    "print(data_calls.head())  "
   ]
  },
  {
   "cell_type": "markdown",
   "metadata": {},
   "source": [
    "<div class=\"alert alert-block alert-warning\">\n",
    "<b>Reviewer's comment v1:</b>\n",
    "    \n",
    "Everything is correct here but usually, it is always helpful to double-check whether we indeed have data within one year/time period. If not then selecting and aggregating data by the month number will cause an issue. So here it is safer to use datetime64[M] which provides a complete date. "
   ]
  },
  {
   "cell_type": "code",
   "execution_count": 9,
   "metadata": {},
   "outputs": [
    {
     "data": {
      "text/plain": [
       "0    9.000\n",
       "1   14.000\n",
       "2   15.000\n",
       "3    6.000\n",
       "4    5.000\n",
       "Name: duration, dtype: float64"
      ]
     },
     "execution_count": 9,
     "metadata": {},
     "output_type": "execute_result"
    }
   ],
   "source": [
    "#For calls, each individual call is rounded up: even if the call lasted just one second, it will be counted as one minute. \n",
    "\n",
    "data_calls['duration'] = data_calls['duration'].apply(np.ceil)\n",
    "data_calls['duration'].head()"
   ]
  },
  {
   "cell_type": "markdown",
   "metadata": {},
   "source": [
    "<div class=\"alert alert-block alert-success\">\n",
    "<b>Reviewer's comment v1:</b>\n",
    "    \n",
    "Ok, great job! Good that you did not forget about data rounding. Also, great choice of np.ceil () method :)\n"
   ]
  },
  {
   "cell_type": "code",
   "execution_count": 10,
   "metadata": {},
   "outputs": [
    {
     "data": {
      "text/plain": [
       "user_id  month\n",
       "1000     12      124.000\n",
       "1001     8       182.000\n",
       "         9       315.000\n",
       "         10      393.000\n",
       "         11      426.000\n",
       "                   ...  \n",
       "1498     12      339.000\n",
       "1499     9       346.000\n",
       "         10      385.000\n",
       "         11      308.000\n",
       "         12      496.000\n",
       "Name: duration, Length: 2258, dtype: float64"
      ]
     },
     "execution_count": 10,
     "metadata": {},
     "output_type": "execute_result"
    }
   ],
   "source": [
    "data_calls.groupby(['user_id','month'])['duration'].sum()"
   ]
  },
  {
   "cell_type": "code",
   "execution_count": 11,
   "metadata": {},
   "outputs": [
    {
     "name": "stdout",
     "output_type": "stream",
     "text": [
      "104825          id  user_id session_date  mb_used\n",
      "0   1000_13     1000   2018-12-29   89.860\n",
      "1  1000_204     1000   2018-12-31    0.000\n",
      "2  1000_379     1000   2018-12-28  660.400\n",
      "3  1000_413     1000   2018-12-26  270.990\n",
      "4  1000_442     1000   2018-12-27  880.220\n"
     ]
    }
   ],
   "source": [
    "try: \n",
    "    data_inter = pd.read_csv('megaline_internet.csv')\n",
    "except:\n",
    "    data_inter = pd.read_csv('/datasets/megaline_internet.csv')\n",
    "    \n",
    "    \n",
    "print(len(data_inter), data_inter.head())     "
   ]
  },
  {
   "cell_type": "code",
   "execution_count": 12,
   "metadata": {},
   "outputs": [
    {
     "name": "stdout",
     "output_type": "stream",
     "text": [
      "<class 'pandas.core.frame.DataFrame'>\n",
      "RangeIndex: 104825 entries, 0 to 104824\n",
      "Data columns (total 4 columns):\n",
      "id              104825 non-null object\n",
      "user_id         104825 non-null int64\n",
      "session_date    104825 non-null object\n",
      "mb_used         104825 non-null float64\n",
      "dtypes: float64(1), int64(1), object(2)\n",
      "memory usage: 3.2+ MB\n"
     ]
    }
   ],
   "source": [
    "data_inter.info()"
   ]
  },
  {
   "cell_type": "code",
   "execution_count": 13,
   "metadata": {},
   "outputs": [
    {
     "name": "stdout",
     "output_type": "stream",
     "text": [
      "2018-01-15\n",
      "2018-12-31\n"
     ]
    }
   ],
   "source": [
    "#I check that the date data is only for 2018\n",
    "\n",
    "print(data_inter.session_date.min())\n",
    "print(data_inter.session_date.max())"
   ]
  },
  {
   "cell_type": "code",
   "execution_count": 14,
   "metadata": {},
   "outputs": [
    {
     "name": "stdout",
     "output_type": "stream",
     "text": [
      "         id  user_id session_date  mb_used  month\n",
      "0   1000_13     1000   2018-12-29   89.860     12\n",
      "1  1000_204     1000   2018-12-31    0.000     12\n",
      "2  1000_379     1000   2018-12-28  660.400     12\n",
      "3  1000_413     1000   2018-12-26  270.990     12\n",
      "4  1000_442     1000   2018-12-27  880.220     12\n"
     ]
    }
   ],
   "source": [
    "data_inter['session_date'] = pd.to_datetime(data_inter['session_date'])\n",
    "data_inter['month'] = pd.DatetimeIndex(data_inter['session_date']).month\n",
    "\n",
    "print(data_inter.head())  "
   ]
  },
  {
   "cell_type": "code",
   "execution_count": 15,
   "metadata": {},
   "outputs": [
    {
     "data": {
      "text/plain": [
       "user_id  month\n",
       "1000     12       2.000\n",
       "1001     8        7.000\n",
       "         9       14.000\n",
       "         10      22.000\n",
       "         11      19.000\n",
       "                  ...  \n",
       "1498     12      23.000\n",
       "1499     9       13.000\n",
       "         10      20.000\n",
       "         11      17.000\n",
       "         12      22.000\n",
       "Name: mb_used, Length: 2277, dtype: float64"
      ]
     },
     "execution_count": 15,
     "metadata": {},
     "output_type": "execute_result"
    }
   ],
   "source": [
    "#For web traffic, individual web sessions are not rounded up.\n",
    "#Instead, the total for the month is rounded up. If someone uses 1025 megabytes this month, they will be charged for 2 gigabytes.\n",
    "\n",
    "((data_inter.groupby(['user_id','month'])['mb_used'].sum())/1024).apply(np.ceil)"
   ]
  },
  {
   "cell_type": "markdown",
   "metadata": {},
   "source": [
    "<div class=\"alert alert-success\">\n",
    "<b>Reviewer's comment v1:</b>\n",
    "    \n",
    "Well done! Both data aggregation and rounding is correct. "
   ]
  },
  {
   "cell_type": "code",
   "execution_count": 16,
   "metadata": {},
   "outputs": [
    {
     "name": "stdout",
     "output_type": "stream",
     "text": [
      "76051          id  user_id message_date\n",
      "0  1000_125     1000   2018-12-27\n",
      "1  1000_160     1000   2018-12-31\n",
      "2  1000_223     1000   2018-12-31\n",
      "3  1000_251     1000   2018-12-27\n",
      "4  1000_255     1000   2018-12-26\n"
     ]
    }
   ],
   "source": [
    "try: \n",
    "    data_mess = pd.read_csv('megaline_messages.csv')\n",
    "except:\n",
    "    data_mess = pd.read_csv('/datasets/megaline_messages.csv')\n",
    "        \n",
    "    \n",
    "print(len(data_mess), data_mess.head())     "
   ]
  },
  {
   "cell_type": "code",
   "execution_count": 17,
   "metadata": {},
   "outputs": [
    {
     "name": "stdout",
     "output_type": "stream",
     "text": [
      "<class 'pandas.core.frame.DataFrame'>\n",
      "RangeIndex: 76051 entries, 0 to 76050\n",
      "Data columns (total 3 columns):\n",
      "id              76051 non-null object\n",
      "user_id         76051 non-null int64\n",
      "message_date    76051 non-null object\n",
      "dtypes: int64(1), object(2)\n",
      "memory usage: 1.7+ MB\n"
     ]
    }
   ],
   "source": [
    "data_mess.info()"
   ]
  },
  {
   "cell_type": "code",
   "execution_count": 18,
   "metadata": {},
   "outputs": [
    {
     "name": "stdout",
     "output_type": "stream",
     "text": [
      "2018-01-15\n",
      "2018-12-31\n"
     ]
    }
   ],
   "source": [
    "#I check that the date data is only for 2018\n",
    "\n",
    "print(data_mess.message_date.min())\n",
    "print(data_mess.message_date.max())"
   ]
  },
  {
   "cell_type": "code",
   "execution_count": 19,
   "metadata": {},
   "outputs": [
    {
     "name": "stdout",
     "output_type": "stream",
     "text": [
      "         id  user_id message_date  month\n",
      "0  1000_125     1000   2018-12-27     12\n",
      "1  1000_160     1000   2018-12-31     12\n",
      "2  1000_223     1000   2018-12-31     12\n",
      "3  1000_251     1000   2018-12-27     12\n",
      "4  1000_255     1000   2018-12-26     12\n"
     ]
    }
   ],
   "source": [
    "data_mess['message_date'] = pd.to_datetime(data_mess['message_date'])\n",
    "data_mess['month'] = pd.DatetimeIndex(data_mess['message_date']).month\n",
    "\n",
    "print(data_mess.head())  "
   ]
  },
  {
   "cell_type": "code",
   "execution_count": 20,
   "metadata": {},
   "outputs": [
    {
     "data": {
      "text/plain": [
       "user_id  month\n",
       "1000     12       11\n",
       "1001     8        30\n",
       "         9        44\n",
       "         10       53\n",
       "         11       36\n",
       "                  ..\n",
       "1496     9        21\n",
       "         10       18\n",
       "         11       13\n",
       "         12       11\n",
       "1497     12       50\n",
       "Name: id, Length: 1806, dtype: int64"
      ]
     },
     "execution_count": 20,
     "metadata": {},
     "output_type": "execute_result"
    }
   ],
   "source": [
    "data_mess.groupby(['user_id','month'])['id'].count()"
   ]
  },
  {
   "cell_type": "code",
   "execution_count": 21,
   "metadata": {},
   "outputs": [
    {
     "name": "stdout",
     "output_type": "stream",
     "text": [
      "2    messages_included  mb_per_month_included  minutes_included  \\\n",
      "0                 50                  15360               500   \n",
      "1               1000                  30720              3000   \n",
      "\n",
      "   usd_monthly_pay  usd_per_gb  usd_per_message  usd_per_minute plan_name  \n",
      "0               20          10            0.030           0.030      surf  \n",
      "1               70           7            0.010           0.010  ultimate  \n"
     ]
    }
   ],
   "source": [
    "try: \n",
    "    data_plans = pd.read_csv('megaline_plans.csv')\n",
    "except:\n",
    "    data_plans = pd.read_csv('/datasets/megaline_plans.csv')\n",
    "\n",
    "    \n",
    "print(len(data_plans), data_plans.head())   "
   ]
  },
  {
   "cell_type": "code",
   "execution_count": 22,
   "metadata": {},
   "outputs": [
    {
     "name": "stdout",
     "output_type": "stream",
     "text": [
      "500    user_id first_name  last_name  age                                   city  \\\n",
      "0     1000   Anamaria      Bauer   45  Atlanta-Sandy Springs-Roswell, GA MSA   \n",
      "1     1001     Mickey  Wilkerson   28        Seattle-Tacoma-Bellevue, WA MSA   \n",
      "2     1002     Carlee    Hoffman   36   Las Vegas-Henderson-Paradise, NV MSA   \n",
      "3     1003   Reynaldo    Jenkins   52                          Tulsa, OK MSA   \n",
      "4     1004    Leonila   Thompson   40        Seattle-Tacoma-Bellevue, WA MSA   \n",
      "\n",
      "     reg_date      plan churn_date  \n",
      "0  2018-12-24  ultimate        NaN  \n",
      "1  2018-08-13      surf        NaN  \n",
      "2  2018-10-21      surf        NaN  \n",
      "3  2018-01-28      surf        NaN  \n",
      "4  2018-05-23      surf        NaN  \n"
     ]
    }
   ],
   "source": [
    "try: \n",
    "    data_users = pd.read_csv('megaline_users.csv')\n",
    "except:\n",
    "    data_users = pd.read_csv('/datasets/megaline_users.csv')\n",
    "    \n",
    "\n",
    "print(len(data_users), data_users.head())      "
   ]
  },
  {
   "cell_type": "code",
   "execution_count": 23,
   "metadata": {},
   "outputs": [
    {
     "name": "stdout",
     "output_type": "stream",
     "text": [
      "<class 'pandas.core.frame.DataFrame'>\n",
      "RangeIndex: 500 entries, 0 to 499\n",
      "Data columns (total 8 columns):\n",
      "user_id       500 non-null int64\n",
      "first_name    500 non-null object\n",
      "last_name     500 non-null object\n",
      "age           500 non-null int64\n",
      "city          500 non-null object\n",
      "reg_date      500 non-null object\n",
      "plan          500 non-null object\n",
      "churn_date    34 non-null object\n",
      "dtypes: int64(2), object(6)\n",
      "memory usage: 31.4+ KB\n"
     ]
    }
   ],
   "source": [
    "data_users.info()"
   ]
  },
  {
   "cell_type": "code",
   "execution_count": 24,
   "metadata": {
    "scrolled": true
   },
   "outputs": [
    {
     "name": "stdout",
     "output_type": "stream",
     "text": [
      "<class 'pandas.core.frame.DataFrame'>\n",
      "RangeIndex: 500 entries, 0 to 499\n",
      "Data columns (total 8 columns):\n",
      "user_id       500 non-null int64\n",
      "first_name    500 non-null object\n",
      "last_name     500 non-null object\n",
      "age           500 non-null int64\n",
      "city          500 non-null object\n",
      "reg_date      500 non-null datetime64[ns]\n",
      "plan          500 non-null object\n",
      "churn_date    34 non-null object\n",
      "dtypes: datetime64[ns](1), int64(2), object(5)\n",
      "memory usage: 31.4+ KB\n"
     ]
    }
   ],
   "source": [
    "data_users['reg_date'] = pd.to_datetime(data_users['reg_date'])\n",
    "data_users.info()"
   ]
  },
  {
   "cell_type": "markdown",
   "metadata": {},
   "source": [
    "### Prepare the data"
   ]
  },
  {
   "cell_type": "markdown",
   "metadata": {},
   "source": [
    "#### The number of minutes per month, the number of text messages per month, the volume of data per month\n",
    "\n"
   ]
  },
  {
   "cell_type": "code",
   "execution_count": 25,
   "metadata": {
    "scrolled": true
   },
   "outputs": [
    {
     "data": {
      "text/html": [
       "<div>\n",
       "<style scoped>\n",
       "    .dataframe tbody tr th:only-of-type {\n",
       "        vertical-align: middle;\n",
       "    }\n",
       "\n",
       "    .dataframe tbody tr th {\n",
       "        vertical-align: top;\n",
       "    }\n",
       "\n",
       "    .dataframe thead th {\n",
       "        text-align: right;\n",
       "    }\n",
       "</style>\n",
       "<table border=\"1\" class=\"dataframe\">\n",
       "  <thead>\n",
       "    <tr style=\"text-align: right;\">\n",
       "      <th></th>\n",
       "      <th></th>\n",
       "      <th>duration</th>\n",
       "      <th>id</th>\n",
       "      <th>mb_used</th>\n",
       "    </tr>\n",
       "    <tr>\n",
       "      <th>user_id</th>\n",
       "      <th>month</th>\n",
       "      <th></th>\n",
       "      <th></th>\n",
       "      <th></th>\n",
       "    </tr>\n",
       "  </thead>\n",
       "  <tbody>\n",
       "    <tr>\n",
       "      <td>1000</td>\n",
       "      <td>12</td>\n",
       "      <td>124.000</td>\n",
       "      <td>11.000</td>\n",
       "      <td>2.000</td>\n",
       "    </tr>\n",
       "    <tr>\n",
       "      <td rowspan=\"4\" valign=\"top\">1001</td>\n",
       "      <td>8</td>\n",
       "      <td>182.000</td>\n",
       "      <td>30.000</td>\n",
       "      <td>7.000</td>\n",
       "    </tr>\n",
       "    <tr>\n",
       "      <td>9</td>\n",
       "      <td>315.000</td>\n",
       "      <td>44.000</td>\n",
       "      <td>14.000</td>\n",
       "    </tr>\n",
       "    <tr>\n",
       "      <td>10</td>\n",
       "      <td>393.000</td>\n",
       "      <td>53.000</td>\n",
       "      <td>22.000</td>\n",
       "    </tr>\n",
       "    <tr>\n",
       "      <td>11</td>\n",
       "      <td>426.000</td>\n",
       "      <td>36.000</td>\n",
       "      <td>19.000</td>\n",
       "    </tr>\n",
       "  </tbody>\n",
       "</table>\n",
       "</div>"
      ],
      "text/plain": [
       "               duration     id  mb_used\n",
       "user_id month                          \n",
       "1000    12      124.000 11.000    2.000\n",
       "1001    8       182.000 30.000    7.000\n",
       "        9       315.000 44.000   14.000\n",
       "        10      393.000 53.000   22.000\n",
       "        11      426.000 36.000   19.000"
      ]
     },
     "execution_count": 25,
     "metadata": {},
     "output_type": "execute_result"
    }
   ],
   "source": [
    "#merging data (by user id, month)\n",
    "calls = data_calls.groupby(['user_id','month'])['duration'].sum()\n",
    "messages = data_mess.groupby(['user_id','month'])['id'].count()\n",
    "internet = ((data_inter.groupby(['user_id','month'])['mb_used'].sum())/1024).apply(np.ceil)\n",
    "\n",
    "\n",
    "data_frames = [calls, messages, internet]\n",
    "df_merged = reduce(lambda  left,right: pd.merge(left,right,on=['user_id', 'month'], how='outer'), data_frames)\n",
    "\n",
    "df_merged.head()"
   ]
  },
  {
   "cell_type": "markdown",
   "metadata": {},
   "source": [
    "<div class=\"alert alert-block alert-success\">\n",
    "<b>Reviewer's comment v1:</b>\n",
    "    \n",
    "Indeed `how = 'outer' can be used here to prevent data loss.\n",
    "   \n",
    "Or use concat method, as it already has `how = 'outer' by default. "
   ]
  },
  {
   "cell_type": "code",
   "execution_count": 26,
   "metadata": {},
   "outputs": [
    {
     "name": "stdout",
     "output_type": "stream",
     "text": [
      "2293                call_minutes  messages  gb_used\n",
      "user_id month                                 \n",
      "1000    12          124.000    11.000    2.000\n",
      "1001    8           182.000    30.000    7.000\n",
      "        9           315.000    44.000   14.000\n",
      "        10          393.000    53.000   22.000\n",
      "        11          426.000    36.000   19.000\n"
     ]
    }
   ],
   "source": [
    "#I realy need to change column names...\n",
    "\n",
    "df_merged.columns=['call_minutes', 'messages', 'gb_used']\n",
    "\n",
    "print(len(df_merged), df_merged.head())   "
   ]
  },
  {
   "cell_type": "markdown",
   "metadata": {},
   "source": [
    "#### The monthly revenue from each user"
   ]
  },
  {
   "cell_type": "code",
   "execution_count": 27,
   "metadata": {},
   "outputs": [
    {
     "name": "stdout",
     "output_type": "stream",
     "text": [
      "2293    user_id  call_minutes  messages  gb_used first_name  last_name  age  \\\n",
      "0     1000       124.000    11.000    2.000   Anamaria      Bauer   45   \n",
      "1     1001       182.000    30.000    7.000     Mickey  Wilkerson   28   \n",
      "2     1001       315.000    44.000   14.000     Mickey  Wilkerson   28   \n",
      "3     1001       393.000    53.000   22.000     Mickey  Wilkerson   28   \n",
      "4     1001       426.000    36.000   19.000     Mickey  Wilkerson   28   \n",
      "\n",
      "                                    city   reg_date      plan churn_date  \n",
      "0  Atlanta-Sandy Springs-Roswell, GA MSA 2018-12-24  ultimate        NaN  \n",
      "1        Seattle-Tacoma-Bellevue, WA MSA 2018-08-13      surf        NaN  \n",
      "2        Seattle-Tacoma-Bellevue, WA MSA 2018-08-13      surf        NaN  \n",
      "3        Seattle-Tacoma-Bellevue, WA MSA 2018-08-13      surf        NaN  \n",
      "4        Seattle-Tacoma-Bellevue, WA MSA 2018-08-13      surf        NaN  \n"
     ]
    }
   ],
   "source": [
    "df_merged_plan = df_merged.copy()\n",
    "#df_merged_plan['month_calc'] = df_merged_plan['month']\n",
    "df_merged_plan = df_merged_plan.merge(data_users, on='user_id')\n",
    "\n",
    "print(len(df_merged_plan), df_merged_plan.head())   "
   ]
  },
  {
   "cell_type": "code",
   "execution_count": 28,
   "metadata": {
    "scrolled": true
   },
   "outputs": [],
   "source": [
    "def revenue(row):\n",
    "    ulti_gb = 30720/1024\n",
    "    surf_gb = 15360/1024\n",
    "    plan=row['plan']\n",
    "    phone=row['call_minutes']\n",
    "    mess=row['messages']\n",
    "    inter=row['gb_used']\n",
    "    if plan == 'ultimate':\n",
    "        fee=70\n",
    "        if phone > 3000:\n",
    "            fee+= (phone-3000)*0.01\n",
    "        if mess >  1000:\n",
    "            fee+= (mess-1000)*0.01\n",
    "        if inter > ulti_gb:\n",
    "            fee+= (inter-ulti_gb)*7\n",
    "        return fee\n",
    "    elif plan == 'surf':\n",
    "        fee=20\n",
    "        if phone > 500:\n",
    "            fee+= (phone-500)*0.03\n",
    "        if mess >  50:\n",
    "            fee+= (mess-50)*0.03\n",
    "        if inter > surf_gb:\n",
    "            fee+= (inter-surf_gb)*10\n",
    "        return fee"
   ]
  },
  {
   "cell_type": "code",
   "execution_count": 29,
   "metadata": {},
   "outputs": [
    {
     "data": {
      "text/html": [
       "<div>\n",
       "<style scoped>\n",
       "    .dataframe tbody tr th:only-of-type {\n",
       "        vertical-align: middle;\n",
       "    }\n",
       "\n",
       "    .dataframe tbody tr th {\n",
       "        vertical-align: top;\n",
       "    }\n",
       "\n",
       "    .dataframe thead th {\n",
       "        text-align: right;\n",
       "    }\n",
       "</style>\n",
       "<table border=\"1\" class=\"dataframe\">\n",
       "  <thead>\n",
       "    <tr style=\"text-align: right;\">\n",
       "      <th></th>\n",
       "      <th>user_id</th>\n",
       "      <th>call_minutes</th>\n",
       "      <th>messages</th>\n",
       "      <th>gb_used</th>\n",
       "      <th>first_name</th>\n",
       "      <th>last_name</th>\n",
       "      <th>age</th>\n",
       "      <th>city</th>\n",
       "      <th>reg_date</th>\n",
       "      <th>plan</th>\n",
       "      <th>churn_date</th>\n",
       "      <th>revenue</th>\n",
       "    </tr>\n",
       "  </thead>\n",
       "  <tbody>\n",
       "    <tr>\n",
       "      <td>0</td>\n",
       "      <td>1000</td>\n",
       "      <td>124.000</td>\n",
       "      <td>11.000</td>\n",
       "      <td>2.000</td>\n",
       "      <td>Anamaria</td>\n",
       "      <td>Bauer</td>\n",
       "      <td>45</td>\n",
       "      <td>Atlanta-Sandy Springs-Roswell, GA MSA</td>\n",
       "      <td>2018-12-24</td>\n",
       "      <td>ultimate</td>\n",
       "      <td>NaN</td>\n",
       "      <td>70.000</td>\n",
       "    </tr>\n",
       "    <tr>\n",
       "      <td>1</td>\n",
       "      <td>1001</td>\n",
       "      <td>182.000</td>\n",
       "      <td>30.000</td>\n",
       "      <td>7.000</td>\n",
       "      <td>Mickey</td>\n",
       "      <td>Wilkerson</td>\n",
       "      <td>28</td>\n",
       "      <td>Seattle-Tacoma-Bellevue, WA MSA</td>\n",
       "      <td>2018-08-13</td>\n",
       "      <td>surf</td>\n",
       "      <td>NaN</td>\n",
       "      <td>20.000</td>\n",
       "    </tr>\n",
       "    <tr>\n",
       "      <td>2</td>\n",
       "      <td>1001</td>\n",
       "      <td>315.000</td>\n",
       "      <td>44.000</td>\n",
       "      <td>14.000</td>\n",
       "      <td>Mickey</td>\n",
       "      <td>Wilkerson</td>\n",
       "      <td>28</td>\n",
       "      <td>Seattle-Tacoma-Bellevue, WA MSA</td>\n",
       "      <td>2018-08-13</td>\n",
       "      <td>surf</td>\n",
       "      <td>NaN</td>\n",
       "      <td>20.000</td>\n",
       "    </tr>\n",
       "    <tr>\n",
       "      <td>3</td>\n",
       "      <td>1001</td>\n",
       "      <td>393.000</td>\n",
       "      <td>53.000</td>\n",
       "      <td>22.000</td>\n",
       "      <td>Mickey</td>\n",
       "      <td>Wilkerson</td>\n",
       "      <td>28</td>\n",
       "      <td>Seattle-Tacoma-Bellevue, WA MSA</td>\n",
       "      <td>2018-08-13</td>\n",
       "      <td>surf</td>\n",
       "      <td>NaN</td>\n",
       "      <td>90.090</td>\n",
       "    </tr>\n",
       "    <tr>\n",
       "      <td>4</td>\n",
       "      <td>1001</td>\n",
       "      <td>426.000</td>\n",
       "      <td>36.000</td>\n",
       "      <td>19.000</td>\n",
       "      <td>Mickey</td>\n",
       "      <td>Wilkerson</td>\n",
       "      <td>28</td>\n",
       "      <td>Seattle-Tacoma-Bellevue, WA MSA</td>\n",
       "      <td>2018-08-13</td>\n",
       "      <td>surf</td>\n",
       "      <td>NaN</td>\n",
       "      <td>60.000</td>\n",
       "    </tr>\n",
       "    <tr>\n",
       "      <td>5</td>\n",
       "      <td>1001</td>\n",
       "      <td>412.000</td>\n",
       "      <td>44.000</td>\n",
       "      <td>19.000</td>\n",
       "      <td>Mickey</td>\n",
       "      <td>Wilkerson</td>\n",
       "      <td>28</td>\n",
       "      <td>Seattle-Tacoma-Bellevue, WA MSA</td>\n",
       "      <td>2018-08-13</td>\n",
       "      <td>surf</td>\n",
       "      <td>NaN</td>\n",
       "      <td>60.000</td>\n",
       "    </tr>\n",
       "    <tr>\n",
       "      <td>6</td>\n",
       "      <td>1002</td>\n",
       "      <td>59.000</td>\n",
       "      <td>15.000</td>\n",
       "      <td>7.000</td>\n",
       "      <td>Carlee</td>\n",
       "      <td>Hoffman</td>\n",
       "      <td>36</td>\n",
       "      <td>Las Vegas-Henderson-Paradise, NV MSA</td>\n",
       "      <td>2018-10-21</td>\n",
       "      <td>surf</td>\n",
       "      <td>NaN</td>\n",
       "      <td>20.000</td>\n",
       "    </tr>\n",
       "    <tr>\n",
       "      <td>7</td>\n",
       "      <td>1002</td>\n",
       "      <td>386.000</td>\n",
       "      <td>32.000</td>\n",
       "      <td>19.000</td>\n",
       "      <td>Carlee</td>\n",
       "      <td>Hoffman</td>\n",
       "      <td>36</td>\n",
       "      <td>Las Vegas-Henderson-Paradise, NV MSA</td>\n",
       "      <td>2018-10-21</td>\n",
       "      <td>surf</td>\n",
       "      <td>NaN</td>\n",
       "      <td>60.000</td>\n",
       "    </tr>\n",
       "    <tr>\n",
       "      <td>8</td>\n",
       "      <td>1002</td>\n",
       "      <td>384.000</td>\n",
       "      <td>41.000</td>\n",
       "      <td>15.000</td>\n",
       "      <td>Carlee</td>\n",
       "      <td>Hoffman</td>\n",
       "      <td>36</td>\n",
       "      <td>Las Vegas-Henderson-Paradise, NV MSA</td>\n",
       "      <td>2018-10-21</td>\n",
       "      <td>surf</td>\n",
       "      <td>NaN</td>\n",
       "      <td>20.000</td>\n",
       "    </tr>\n",
       "    <tr>\n",
       "      <td>9</td>\n",
       "      <td>1003</td>\n",
       "      <td>1104.000</td>\n",
       "      <td>50.000</td>\n",
       "      <td>27.000</td>\n",
       "      <td>Reynaldo</td>\n",
       "      <td>Jenkins</td>\n",
       "      <td>52</td>\n",
       "      <td>Tulsa, OK MSA</td>\n",
       "      <td>2018-01-28</td>\n",
       "      <td>surf</td>\n",
       "      <td>NaN</td>\n",
       "      <td>158.120</td>\n",
       "    </tr>\n",
       "    <tr>\n",
       "      <td>10</td>\n",
       "      <td>1004</td>\n",
       "      <td>193.000</td>\n",
       "      <td>7.000</td>\n",
       "      <td>7.000</td>\n",
       "      <td>Leonila</td>\n",
       "      <td>Thompson</td>\n",
       "      <td>40</td>\n",
       "      <td>Seattle-Tacoma-Bellevue, WA MSA</td>\n",
       "      <td>2018-05-23</td>\n",
       "      <td>surf</td>\n",
       "      <td>NaN</td>\n",
       "      <td>20.000</td>\n",
       "    </tr>\n",
       "    <tr>\n",
       "      <td>11</td>\n",
       "      <td>1004</td>\n",
       "      <td>275.000</td>\n",
       "      <td>18.000</td>\n",
       "      <td>21.000</td>\n",
       "      <td>Leonila</td>\n",
       "      <td>Thompson</td>\n",
       "      <td>40</td>\n",
       "      <td>Seattle-Tacoma-Bellevue, WA MSA</td>\n",
       "      <td>2018-05-23</td>\n",
       "      <td>surf</td>\n",
       "      <td>NaN</td>\n",
       "      <td>80.000</td>\n",
       "    </tr>\n",
       "    <tr>\n",
       "      <td>12</td>\n",
       "      <td>1004</td>\n",
       "      <td>381.000</td>\n",
       "      <td>26.000</td>\n",
       "      <td>24.000</td>\n",
       "      <td>Leonila</td>\n",
       "      <td>Thompson</td>\n",
       "      <td>40</td>\n",
       "      <td>Seattle-Tacoma-Bellevue, WA MSA</td>\n",
       "      <td>2018-05-23</td>\n",
       "      <td>surf</td>\n",
       "      <td>NaN</td>\n",
       "      <td>110.000</td>\n",
       "    </tr>\n",
       "    <tr>\n",
       "      <td>13</td>\n",
       "      <td>1004</td>\n",
       "      <td>354.000</td>\n",
       "      <td>25.000</td>\n",
       "      <td>28.000</td>\n",
       "      <td>Leonila</td>\n",
       "      <td>Thompson</td>\n",
       "      <td>40</td>\n",
       "      <td>Seattle-Tacoma-Bellevue, WA MSA</td>\n",
       "      <td>2018-05-23</td>\n",
       "      <td>surf</td>\n",
       "      <td>NaN</td>\n",
       "      <td>150.000</td>\n",
       "    </tr>\n",
       "    <tr>\n",
       "      <td>14</td>\n",
       "      <td>1004</td>\n",
       "      <td>301.000</td>\n",
       "      <td>21.000</td>\n",
       "      <td>19.000</td>\n",
       "      <td>Leonila</td>\n",
       "      <td>Thompson</td>\n",
       "      <td>40</td>\n",
       "      <td>Seattle-Tacoma-Bellevue, WA MSA</td>\n",
       "      <td>2018-05-23</td>\n",
       "      <td>surf</td>\n",
       "      <td>NaN</td>\n",
       "      <td>60.000</td>\n",
       "    </tr>\n",
       "  </tbody>\n",
       "</table>\n",
       "</div>"
      ],
      "text/plain": [
       "    user_id  call_minutes  messages  gb_used first_name  last_name  age  \\\n",
       "0      1000       124.000    11.000    2.000   Anamaria      Bauer   45   \n",
       "1      1001       182.000    30.000    7.000     Mickey  Wilkerson   28   \n",
       "2      1001       315.000    44.000   14.000     Mickey  Wilkerson   28   \n",
       "3      1001       393.000    53.000   22.000     Mickey  Wilkerson   28   \n",
       "4      1001       426.000    36.000   19.000     Mickey  Wilkerson   28   \n",
       "5      1001       412.000    44.000   19.000     Mickey  Wilkerson   28   \n",
       "6      1002        59.000    15.000    7.000     Carlee    Hoffman   36   \n",
       "7      1002       386.000    32.000   19.000     Carlee    Hoffman   36   \n",
       "8      1002       384.000    41.000   15.000     Carlee    Hoffman   36   \n",
       "9      1003      1104.000    50.000   27.000   Reynaldo    Jenkins   52   \n",
       "10     1004       193.000     7.000    7.000    Leonila   Thompson   40   \n",
       "11     1004       275.000    18.000   21.000    Leonila   Thompson   40   \n",
       "12     1004       381.000    26.000   24.000    Leonila   Thompson   40   \n",
       "13     1004       354.000    25.000   28.000    Leonila   Thompson   40   \n",
       "14     1004       301.000    21.000   19.000    Leonila   Thompson   40   \n",
       "\n",
       "                                     city   reg_date      plan churn_date  \\\n",
       "0   Atlanta-Sandy Springs-Roswell, GA MSA 2018-12-24  ultimate        NaN   \n",
       "1         Seattle-Tacoma-Bellevue, WA MSA 2018-08-13      surf        NaN   \n",
       "2         Seattle-Tacoma-Bellevue, WA MSA 2018-08-13      surf        NaN   \n",
       "3         Seattle-Tacoma-Bellevue, WA MSA 2018-08-13      surf        NaN   \n",
       "4         Seattle-Tacoma-Bellevue, WA MSA 2018-08-13      surf        NaN   \n",
       "5         Seattle-Tacoma-Bellevue, WA MSA 2018-08-13      surf        NaN   \n",
       "6    Las Vegas-Henderson-Paradise, NV MSA 2018-10-21      surf        NaN   \n",
       "7    Las Vegas-Henderson-Paradise, NV MSA 2018-10-21      surf        NaN   \n",
       "8    Las Vegas-Henderson-Paradise, NV MSA 2018-10-21      surf        NaN   \n",
       "9                           Tulsa, OK MSA 2018-01-28      surf        NaN   \n",
       "10        Seattle-Tacoma-Bellevue, WA MSA 2018-05-23      surf        NaN   \n",
       "11        Seattle-Tacoma-Bellevue, WA MSA 2018-05-23      surf        NaN   \n",
       "12        Seattle-Tacoma-Bellevue, WA MSA 2018-05-23      surf        NaN   \n",
       "13        Seattle-Tacoma-Bellevue, WA MSA 2018-05-23      surf        NaN   \n",
       "14        Seattle-Tacoma-Bellevue, WA MSA 2018-05-23      surf        NaN   \n",
       "\n",
       "    revenue  \n",
       "0    70.000  \n",
       "1    20.000  \n",
       "2    20.000  \n",
       "3    90.090  \n",
       "4    60.000  \n",
       "5    60.000  \n",
       "6    20.000  \n",
       "7    60.000  \n",
       "8    20.000  \n",
       "9   158.120  \n",
       "10   20.000  \n",
       "11   80.000  \n",
       "12  110.000  \n",
       "13  150.000  \n",
       "14   60.000  "
      ]
     },
     "execution_count": 29,
     "metadata": {},
     "output_type": "execute_result"
    }
   ],
   "source": [
    "df_merged_plan['revenue'] = df_merged_plan.apply(revenue, axis=1)\n",
    "df_merged_plan.head(15)"
   ]
  },
  {
   "cell_type": "markdown",
   "metadata": {},
   "source": [
    "<div class=\"alert alert-success\">\n",
    "<b>Reviewer's comment v1:</b>\n",
    "    \n",
    "Everything is correct here and great that you created a funciton to calculate revenue.  \n",
    "    \n",
    "Btw it is also possible to make the calculation of revenue a little bit differently using np.where - [https://numpy.org/doc/stable/reference/generated/numpy.where.html](https://numpy.org/doc/stable/reference/generated/numpy.where.html)\n",
    "\n",
    "```\n",
    "  np.where ('condition: if exceeding the package limit', 'multiply the difference by the price of additional services', '0')\n",
    "```\n",
    "    \n",
    "Great thing about python is that there are so many libraries and ready-to-use functions. For example, this task can also be solved using .clip() (a useful method in many tasks). You can read about it here: https://www.pythonpool.com/numpy-clip/\n",
    "\n",
    "```\n",
    "total5['gb_surcharge'] = (total5['gb_used'] - total5['gb_per_month_included']).clip(0) * total5['usd_per_gb']\n",
    "```\n",
    "\n",
    "Also, it is better to avoid hard-coding in your functions of all values from the data plans. These values could be frequently updated and it will be annoyingly inconvenient to update them once again in the function. I would recommend using an actual table with values or create a separate data dictionary - https://towardsdatascience.com/12-examples-to-master-python-dictionaries-5a8bcd688c6d"
   ]
  },
  {
   "cell_type": "markdown",
   "metadata": {},
   "source": [
    "### Analyze the data"
   ]
  },
  {
   "cell_type": "markdown",
   "metadata": {},
   "source": [
    "Find the minutes, texts, and volume of data the users of each plan require per month. Calculate the mean, dispersion, and standard deviation. Plot histograms. Describe the distributions."
   ]
  },
  {
   "cell_type": "code",
   "execution_count": 30,
   "metadata": {},
   "outputs": [
    {
     "name": "stdout",
     "output_type": "stream",
     "text": [
      "   user_id  call_minutes  messages  gb_used first_name  last_name  age  \\\n",
      "1     1001       182.000    30.000    7.000     Mickey  Wilkerson   28   \n",
      "2     1001       315.000    44.000   14.000     Mickey  Wilkerson   28   \n",
      "3     1001       393.000    53.000   22.000     Mickey  Wilkerson   28   \n",
      "4     1001       426.000    36.000   19.000     Mickey  Wilkerson   28   \n",
      "5     1001       412.000    44.000   19.000     Mickey  Wilkerson   28   \n",
      "\n",
      "                              city   reg_date  plan churn_date  revenue  \n",
      "1  Seattle-Tacoma-Bellevue, WA MSA 2018-08-13  surf        NaN   20.000  \n",
      "2  Seattle-Tacoma-Bellevue, WA MSA 2018-08-13  surf        NaN   20.000  \n",
      "3  Seattle-Tacoma-Bellevue, WA MSA 2018-08-13  surf        NaN   90.090  \n",
      "4  Seattle-Tacoma-Bellevue, WA MSA 2018-08-13  surf        NaN   60.000  \n",
      "5  Seattle-Tacoma-Bellevue, WA MSA 2018-08-13  surf        NaN   60.000       user_id  call_minutes  messages  gb_used first_name last_name  age  \\\n",
      "0      1000       124.000    11.000    2.000   Anamaria     Bauer   45   \n",
      "19     1006        10.000    15.000    3.000     Jesusa  Bradford   73   \n",
      "20     1006        59.000   139.000   32.000     Jesusa  Bradford   73   \n",
      "26     1008       476.000    21.000   17.000      Emely   Hoffman   53   \n",
      "27     1008       446.000    37.000   24.000      Emely   Hoffman   53   \n",
      "\n",
      "                                      city   reg_date      plan  churn_date  \\\n",
      "0    Atlanta-Sandy Springs-Roswell, GA MSA 2018-12-24  ultimate         NaN   \n",
      "19  San Francisco-Oakland-Berkeley, CA MSA 2018-11-27  ultimate  2018-12-18   \n",
      "20  San Francisco-Oakland-Berkeley, CA MSA 2018-11-27  ultimate  2018-12-18   \n",
      "26       Orlando-Kissimmee-Sanford, FL MSA 2018-08-03  ultimate         NaN   \n",
      "27       Orlando-Kissimmee-Sanford, FL MSA 2018-08-03  ultimate         NaN   \n",
      "\n",
      "    revenue  \n",
      "0    70.000  \n",
      "19   70.000  \n",
      "20   84.000  \n",
      "26   70.000  \n",
      "27   70.000  \n"
     ]
    }
   ],
   "source": [
    "df_surf = df_merged_plan.query('plan == \"surf\"')\n",
    "df_ulti = df_merged_plan.query('plan == \"ultimate\"')\n",
    "print(df_surf.head(),df_ulti.head())"
   ]
  },
  {
   "cell_type": "markdown",
   "metadata": {},
   "source": [
    "#### minutes per month"
   ]
  },
  {
   "cell_type": "code",
   "execution_count": 31,
   "metadata": {},
   "outputs": [
    {
     "data": {
      "image/png": "[encoded data removed]",
      "text/plain": [
       "<Figure size 432x288 with 1 Axes>"
      ]
     },
     "metadata": {
      "needs_background": "light"
     },
     "output_type": "display_data"
    }
   ],
   "source": [
    "sns.histplot(data=df_surf, x=\"call_minutes\")\n",
    "plt.title(\"Surf plan call duration distrebution\")\n",
    "plt.show()"
   ]
  },
  {
   "cell_type": "markdown",
   "metadata": {},
   "source": [
    "<div class=\"alert alert-warning\">\n",
    "<b>Reviewer's comment v1:</b>\n",
    "    \n",
    "Adding titles to your graphs is important for providing context for the users so they understand what they are looking at. Together with for example legends and axis labels this is important to support unambiguous interpretation of displayed information."
   ]
  },
  {
   "cell_type": "code",
   "execution_count": 32,
   "metadata": {},
   "outputs": [
    {
     "data": {
      "text/plain": [
       "True"
      ]
     },
     "execution_count": 32,
     "metadata": {},
     "output_type": "execute_result"
    }
   ],
   "source": [
    "#histogram is skewed right \n",
    "df_surf['call_minutes'].mean()>df_surf['call_minutes'].median()"
   ]
  },
  {
   "cell_type": "code",
   "execution_count": 33,
   "metadata": {},
   "outputs": [
    {
     "data": {
      "text/plain": [
       "count   1545.000\n",
       "mean     436.520\n",
       "std      229.284\n",
       "min        0.000\n",
       "25%      279.000\n",
       "50%      430.000\n",
       "75%      579.000\n",
       "max     1510.000\n",
       "Name: call_minutes, dtype: float64"
      ]
     },
     "execution_count": 33,
     "metadata": {},
     "output_type": "execute_result"
    }
   ],
   "source": [
    "df_surf['call_minutes'].describe()"
   ]
  },
  {
   "cell_type": "markdown",
   "metadata": {},
   "source": [
    "As can be seen in the histogram chart most monthly call_minutes duration amount to between 300 and 550 minutes (as also can be seen by the positions of Q1 and Q3). With a mean of ~437, and median of 430 call minutes per month, which is within the program limit of 500 minutes, without overcharge fees.  "
   ]
  },
  {
   "cell_type": "code",
   "execution_count": 48,
   "metadata": {},
   "outputs": [
    {
     "data": {
      "image/png": "[encoded data removed]",
      "text/plain": [
       "<Figure size 432x288 with 1 Axes>"
      ]
     },
     "metadata": {
      "needs_background": "light"
     },
     "output_type": "display_data"
    }
   ],
   "source": [
    "sns.boxplot(x=df_surf['call_minutes']).set(\n",
    "    xlabel='call_minutes', \n",
    "    ylabel='Values'\n",
    ")\n",
    "plt.title(\"Surf plan call duration value variability\")\n",
    "plt.show()"
   ]
  },
  {
   "cell_type": "code",
   "execution_count": 42,
   "metadata": {},
   "outputs": [
    {
     "data": {
      "text/plain": [
       "52537.03666530514"
      ]
     },
     "execution_count": 42,
     "metadata": {},
     "output_type": "execute_result"
    }
   ],
   "source": [
    "np.var(df_surf['call_minutes'])"
   ]
  },
  {
   "cell_type": "code",
   "execution_count": 43,
   "metadata": {},
   "outputs": [
    {
     "name": "stdout",
     "output_type": "stream",
     "text": [
      "229.20959112852398\n"
     ]
    }
   ],
   "source": [
    "stdev_min_surf = np.std(df_surf['call_minutes'])\n",
    "print(stdev_min_surf)"
   ]
  },
  {
   "cell_type": "markdown",
   "metadata": {},
   "source": [
    "<div class=\"alert alert-success\">\n",
    "<b>Reviewer's comment v1:</b>\n",
    "    \n",
    "It's great that you managed to calculate all the necessary metrics and display them.\n",
    "\n",
    "There is also a way to display all statistical metrics in one table (you can pass all metrics to aggfunc at once.), using, for example, pivot_table:\n",
    "\n",
    "`data.pivot_table(index= 'tariff', values= '...', aggfunc= ['mean', 'var','std', 'median'])`"
   ]
  },
  {
   "cell_type": "code",
   "execution_count": 44,
   "metadata": {},
   "outputs": [
    {
     "name": "stdout",
     "output_type": "stream",
     "text": [
      "Interval: 0 - 1124.1485144858957\n"
     ]
    }
   ],
   "source": [
    "min_bot_surf = df_surf['call_minutes'].mean() -3*stdev_min_surf\n",
    "min_top_surf =df_surf['call_minutes'].mean() +3*stdev_min_surf \n",
    "\n",
    "if min_bot_surf <0:\n",
    "    min_bot_surf =0\n",
    "#minutes can't be negative value\n",
    "\n",
    "print('Interval: '+ str(min_bot_surf) +' - '+str(min_top_surf))"
   ]
  },
  {
   "cell_type": "markdown",
   "metadata": {},
   "source": [
    "The standrt devation is very similar to what the describe method calculated, and considering the interval of values that's quite large standard deviation. (stdev is like more then half the median and mean values, I believe this is called \"plus minus lapot\"(плюс минус лапоть), could not find English analog please forgive me...)  "
   ]
  },
  {
   "cell_type": "code",
   "execution_count": 45,
   "metadata": {
    "scrolled": true
   },
   "outputs": [
    {
     "data": {
      "image/png": "[encoded data removed]",
      "text/plain": [
       "<Figure size 432x288 with 1 Axes>"
      ]
     },
     "metadata": {
      "needs_background": "light"
     },
     "output_type": "display_data"
    }
   ],
   "source": [
    "sns.histplot(data=df_ulti, x=\"call_minutes\")\n",
    "plt.title(\"Ultimate plan call duration distrebution\")\n",
    "plt.show()"
   ]
  },
  {
   "cell_type": "code",
   "execution_count": 46,
   "metadata": {},
   "outputs": [
    {
     "data": {
      "text/plain": [
       "True"
      ]
     },
     "execution_count": 46,
     "metadata": {},
     "output_type": "execute_result"
    }
   ],
   "source": [
    "#histogram is skewed right \n",
    "df_ulti['call_minutes'].mean()>df_ulti['call_minutes'].median()"
   ]
  },
  {
   "cell_type": "code",
   "execution_count": 47,
   "metadata": {},
   "outputs": [
    {
     "data": {
      "text/plain": [
       "count    713.000\n",
       "mean     434.676\n",
       "std      237.852\n",
       "min        0.000\n",
       "25%      263.000\n",
       "50%      425.000\n",
       "75%      566.000\n",
       "max     1369.000\n",
       "Name: call_minutes, dtype: float64"
      ]
     },
     "execution_count": 47,
     "metadata": {},
     "output_type": "execute_result"
    }
   ],
   "source": [
    "df_ulti['call_minutes'].describe()"
   ]
  },
  {
   "cell_type": "markdown",
   "metadata": {},
   "source": [
    "As can be seen in this histogram chart most monthly call_minutes duration amount to between 300 and 550 minutes once again (as also can be seen by the positions of Q1 and Q3). With a very similar mean of ~435, and lower then the previous histogram median of 425 call minutes per month, which is within the program limit of 3000 minutes, without overcharge fees. It seems (if judged only by the minutes) that this plan is redundent for some of the custumers the surf plan is better suited for them.   "
   ]
  },
  {
   "cell_type": "code",
   "execution_count": 49,
   "metadata": {},
   "outputs": [
    {
     "data": {
      "image/png": "[encoded data removed]",
      "text/plain": [
       "<Figure size 432x288 with 1 Axes>"
      ]
     },
     "metadata": {
      "needs_background": "light"
     },
     "output_type": "display_data"
    }
   ],
   "source": [
    "sns.boxplot(x=df_ulti['call_minutes']).set(\n",
    "    xlabel='call_minutes', \n",
    "    ylabel='Values'\n",
    ")\n",
    "plt.title(\"Ultimate plan call duration value variability\")\n",
    "plt.show()"
   ]
  },
  {
   "cell_type": "code",
   "execution_count": 50,
   "metadata": {},
   "outputs": [
    {
     "data": {
      "text/plain": [
       "56494.28633925359"
      ]
     },
     "execution_count": 50,
     "metadata": {},
     "output_type": "execute_result"
    }
   ],
   "source": [
    "np.var(df_ulti['call_minutes'])"
   ]
  },
  {
   "cell_type": "code",
   "execution_count": 51,
   "metadata": {},
   "outputs": [
    {
     "name": "stdout",
     "output_type": "stream",
     "text": [
      "237.68526740051345\n"
     ]
    }
   ],
   "source": [
    "stdev_min_ulti = np.std(df_ulti['call_minutes'])\n",
    "print(stdev_min_ulti)"
   ]
  },
  {
   "cell_type": "code",
   "execution_count": 52,
   "metadata": {},
   "outputs": [
    {
     "name": "stdout",
     "output_type": "stream",
     "text": [
      "Interval: 0 - 1147.731819031835\n"
     ]
    }
   ],
   "source": [
    "min_bot_ulti = df_ulti['call_minutes'].mean() -3*stdev_min_ulti\n",
    "min_top_ulti =df_ulti['call_minutes'].mean() +3*stdev_min_ulti \n",
    "\n",
    "if min_bot_ulti <0:\n",
    "    min_bot_ulti =0\n",
    "#minutes can't be negative value\n",
    "\n",
    "print('Interval: '+ str(min_bot_ulti) +' - '+str(min_top_ulti))"
   ]
  },
  {
   "cell_type": "markdown",
   "metadata": {},
   "source": [
    "The standrt devation is again very similar to what the describe method calculated, and considering the interval of values is again quite large standard deviation."
   ]
  },
  {
   "cell_type": "markdown",
   "metadata": {},
   "source": [
    "- as can be seen the minutes per month hisograms are very similar both by how they look and the data they contain.\n",
    "\n",
    "- dispersion minutes per month is also very similar, between the two plans, judgging by box plot. But veriability is very different (52537.037 for surf, and 56494.286 for ultimate), so it's diferent.  \n",
    "\n",
    "- standard deviation in both cases is quite large considering the value dispersion. Considering the variability it's no suprise that the standard deviations are not similar."
   ]
  },
  {
   "cell_type": "code",
   "execution_count": 112,
   "metadata": {},
   "outputs": [
    {
     "data": {
      "image/png": "[encoded data removed]",
      "text/plain": [
       "<Figure size 432x288 with 1 Axes>"
      ]
     },
     "metadata": {
      "needs_background": "light"
     },
     "output_type": "display_data"
    }
   ],
   "source": [
    "fig, ax = plt.subplots()\n",
    "sns.histplot(\n",
    "    data=pd.concat([df_surf, df_ulti]), x='call_minutes', hue='plan', multiple='dodge',\n",
    "    bins=range(1, 110, 10), ax=ax\n",
    ")\n",
    "plt.title(\"Plan call duration value disrebution\")\n",
    "plt.show()"
   ]
  },
  {
   "cell_type": "code",
   "execution_count": 103,
   "metadata": {},
   "outputs": [
    {
     "data": {
      "image/png": "[encoded data removed]",
      "text/plain": [
       "<Figure size 432x288 with 1 Axes>"
      ]
     },
     "metadata": {
      "needs_background": "light"
     },
     "output_type": "display_data"
    }
   ],
   "source": [
    "sns.boxplot(data=pd.concat([df_surf, df_ulti]),y='call_minutes',x='plan',hue='plan')\n",
    "plt.title(\"Plan call duration value variability\")\n",
    "plt.show()"
   ]
  },
  {
   "cell_type": "markdown",
   "metadata": {},
   "source": [
    "#### messages per month"
   ]
  },
  {
   "cell_type": "code",
   "execution_count": 53,
   "metadata": {},
   "outputs": [
    {
     "data": {
      "image/png": "[encoded data removed]",
      "text/plain": [
       "<Figure size 432x288 with 1 Axes>"
      ]
     },
     "metadata": {
      "needs_background": "light"
     },
     "output_type": "display_data"
    }
   ],
   "source": [
    "sns.histplot(data=df_surf, x=\"messages\")\n",
    "plt.title(\"Surf plan message per month value distrebution\")\n",
    "plt.show()"
   ]
  },
  {
   "cell_type": "code",
   "execution_count": 54,
   "metadata": {},
   "outputs": [
    {
     "data": {
      "text/plain": [
       "True"
      ]
     },
     "execution_count": 54,
     "metadata": {},
     "output_type": "execute_result"
    }
   ],
   "source": [
    "#histogram is strongly skewed right \n",
    "df_surf['messages'].mean()>df_surf['messages'].median()"
   ]
  },
  {
   "cell_type": "code",
   "execution_count": 55,
   "metadata": {},
   "outputs": [
    {
     "data": {
      "text/plain": [
       "count   1222.000\n",
       "mean      40.110\n",
       "std       33.035\n",
       "min        1.000\n",
       "25%       16.000\n",
       "50%       32.000\n",
       "75%       54.000\n",
       "max      266.000\n",
       "Name: messages, dtype: float64"
      ]
     },
     "execution_count": 55,
     "metadata": {},
     "output_type": "execute_result"
    }
   ],
   "source": [
    "df_surf['messages'].describe()"
   ]
  },
  {
   "cell_type": "markdown",
   "metadata": {},
   "source": [
    "As can be seen in the histogram chart most monthly custumers send between 15 and 50 messages per month (also can be seen by the positions of Q1 and Q3). With a mean of ~40, and median of 32 messages per month, which is within the program limit of 50 messagess, without overcharge fees. "
   ]
  },
  {
   "cell_type": "code",
   "execution_count": 56,
   "metadata": {},
   "outputs": [
    {
     "data": {
      "image/png": "[encoded data removed]",
      "text/plain": [
       "<Figure size 432x288 with 1 Axes>"
      ]
     },
     "metadata": {
      "needs_background": "light"
     },
     "output_type": "display_data"
    }
   ],
   "source": [
    "sns.boxplot(x=df_surf['messages']).set(\n",
    "    xlabel='messages', \n",
    "    ylabel='Values'\n",
    ")\n",
    "plt.title(\"Surf plan messages per month value variability\")\n",
    "plt.show()"
   ]
  },
  {
   "cell_type": "code",
   "execution_count": 57,
   "metadata": {},
   "outputs": [
    {
     "data": {
      "text/plain": [
       "1090.4511506183685"
      ]
     },
     "execution_count": 57,
     "metadata": {},
     "output_type": "execute_result"
    }
   ],
   "source": [
    "np.var(df_surf['messages'])"
   ]
  },
  {
   "cell_type": "code",
   "execution_count": 58,
   "metadata": {},
   "outputs": [
    {
     "name": "stdout",
     "output_type": "stream",
     "text": [
      "33.02197981070137\n"
     ]
    }
   ],
   "source": [
    "stdev_mess_surf = np.std(df_surf['messages'])\n",
    "print(stdev_mess_surf)"
   ]
  },
  {
   "cell_type": "code",
   "execution_count": 59,
   "metadata": {},
   "outputs": [
    {
     "name": "stdout",
     "output_type": "stream",
     "text": [
      "Interval: 0 - 139.17559573324976\n"
     ]
    }
   ],
   "source": [
    "mess_bot_surf = df_surf['messages'].mean() -3*stdev_mess_surf\n",
    "mess_top_surf = df_surf['messages'].mean() +3*stdev_mess_surf\n",
    "\n",
    "if mess_bot_surf  <0:\n",
    "    mess_bot_surf  =0\n",
    "#minutes can't be negative value\n",
    "\n",
    "print('Interval: '+ str(mess_bot_surf ) +' - '+str(mess_top_surf))"
   ]
  },
  {
   "cell_type": "markdown",
   "metadata": {},
   "source": [
    "this stdev is larger then the median (and almost as large as the mean), so it is also large, as can be seen by the destribution of values in the boxplot (and the calculated interval)."
   ]
  },
  {
   "cell_type": "code",
   "execution_count": 60,
   "metadata": {},
   "outputs": [
    {
     "data": {
      "image/png": "[encoded data removed]",
      "text/plain": [
       "<Figure size 432x288 with 1 Axes>"
      ]
     },
     "metadata": {
      "needs_background": "light"
     },
     "output_type": "display_data"
    }
   ],
   "source": [
    "sns.histplot(data=df_ulti, x=\"messages\")\n",
    "plt.title(\"Ultimate plan message per month value distrebution\")\n",
    "plt.show()"
   ]
  },
  {
   "cell_type": "code",
   "execution_count": 61,
   "metadata": {},
   "outputs": [
    {
     "data": {
      "text/plain": [
       "True"
      ]
     },
     "execution_count": 61,
     "metadata": {},
     "output_type": "execute_result"
    }
   ],
   "source": [
    "#histogram is skewed right \n",
    "df_ulti['messages'].mean()>df_ulti['messages'].median()"
   ]
  },
  {
   "cell_type": "code",
   "execution_count": 62,
   "metadata": {},
   "outputs": [
    {
     "data": {
      "text/plain": [
       "count   584.000\n",
       "mean     46.296\n",
       "std      32.942\n",
       "min       1.000\n",
       "25%      21.000\n",
       "50%      41.000\n",
       "75%      66.000\n",
       "max     166.000\n",
       "Name: messages, dtype: float64"
      ]
     },
     "execution_count": 62,
     "metadata": {},
     "output_type": "execute_result"
    }
   ],
   "source": [
    "df_ulti['messages'].describe()"
   ]
  },
  {
   "cell_type": "markdown",
   "metadata": {},
   "source": [
    "As can be seen in the histogram chart most monthly custumers send between 20 and 70 messages per month (also can be seen by the positions of Q1 and Q3). With a mean of ~46, and median of 41 messages per month, which is within the program limit of 1000 messagess, without overcharge fees. In fact all of the values fall within that limit with a maximal value at 166 messages which is like 0.2 of the plan limit."
   ]
  },
  {
   "cell_type": "code",
   "execution_count": 63,
   "metadata": {},
   "outputs": [
    {
     "data": {
      "image/png": "[encoded data removed]",
      "text/plain": [
       "<Figure size 432x288 with 1 Axes>"
      ]
     },
     "metadata": {
      "needs_background": "light"
     },
     "output_type": "display_data"
    }
   ],
   "source": [
    "sns.boxplot(x=df_ulti['messages']).set(\n",
    "    xlabel='messages', \n",
    "    ylabel='Values'\n",
    ")\n",
    "plt.title(\"ultimate plan message per month value veriability\")\n",
    "plt.show()"
   ]
  },
  {
   "cell_type": "code",
   "execution_count": 64,
   "metadata": {},
   "outputs": [
    {
     "data": {
      "text/plain": [
       "1083.3249173156314"
      ]
     },
     "execution_count": 64,
     "metadata": {},
     "output_type": "execute_result"
    }
   ],
   "source": [
    "np.var(df_ulti['messages'])"
   ]
  },
  {
   "cell_type": "code",
   "execution_count": 65,
   "metadata": {},
   "outputs": [
    {
     "name": "stdout",
     "output_type": "stream",
     "text": [
      "32.91390158148425\n"
     ]
    }
   ],
   "source": [
    "stdev_mess_ulti = np.std(df_ulti['messages'])\n",
    "print(stdev_mess_ulti)"
   ]
  },
  {
   "cell_type": "code",
   "execution_count": 66,
   "metadata": {},
   "outputs": [
    {
     "name": "stdout",
     "output_type": "stream",
     "text": [
      "Interval: 0 - 145.03793762116507\n"
     ]
    }
   ],
   "source": [
    "mess_bot_ulti = df_ulti['messages'].mean() -3*stdev_mess_ulti\n",
    "mess_top_ulti = df_ulti['messages'].mean() +3*stdev_mess_ulti\n",
    "\n",
    "if mess_bot_ulti  <0:\n",
    "    mess_bot_ulti  =0\n",
    "#minutes can't be negative value\n",
    "\n",
    "print('Interval: '+ str(mess_bot_ulti ) +' - '+str(mess_top_ulti))"
   ]
  },
  {
   "cell_type": "markdown",
   "metadata": {},
   "source": [
    "this stdev is quite large, it's more then half (3/4) of the median value, it can be seen by the destribution of values in the boxplot (and the calculated interval). Its much better then that of the surf plan, considering the values. And it's quite similar to it (33 for surf, 32.9 for ulti, very similar). "
   ]
  },
  {
   "cell_type": "markdown",
   "metadata": {},
   "source": [
    "- as can be seen the messages per month hisograms look very similar. But the values show that the messages per month of ultimate plan users are a wee bit higher (20 to 70 messages), then those of surf plan users (15 to 50 messages). As can also be testified by the higher mean and median values. But judging by those same values (mean and median) they are not that diferent.\n",
    "\n",
    "- dispersion of messages per month is very different as can be seen in the box plots, while values of ultimate plan users tend to be higher (in all quartiles). And more or less between the quartiles, with few vry high values and max around 166, the surf data goes up to 266, and shows a much more values not between Q1 and Q3. Veriabilty close but also diferent (1090.451 and 1083.325).  \n",
    "\n",
    "- standard deviation in both cases is quite large considering the value dispersion. And very similar between the two plans."
   ]
  },
  {
   "cell_type": "code",
   "execution_count": 110,
   "metadata": {},
   "outputs": [
    {
     "data": {
      "image/png": "[encoded data removed]",
      "text/plain": [
       "<Figure size 432x288 with 1 Axes>"
      ]
     },
     "metadata": {
      "needs_background": "light"
     },
     "output_type": "display_data"
    }
   ],
   "source": [
    "fig, ax = plt.subplots()\n",
    "sns.histplot(\n",
    "    data=pd.concat([df_surf, df_ulti]), x='messages', hue='plan', multiple='dodge',\n",
    "    bins=range(1, 110, 10), ax=ax\n",
    ")\n",
    "plt.title(\"Plan message per month value disrebution\")\n",
    "plt.show()"
   ]
  },
  {
   "cell_type": "code",
   "execution_count": 104,
   "metadata": {},
   "outputs": [
    {
     "data": {
      "image/png": "[encoded data removed]",
      "text/plain": [
       "<Figure size 432x288 with 1 Axes>"
      ]
     },
     "metadata": {
      "needs_background": "light"
     },
     "output_type": "display_data"
    }
   ],
   "source": [
    "sns.boxplot(data=pd.concat([df_surf, df_ulti]),y='messages',x='plan',hue='plan')\n",
    "plt.title(\"Plan message per month value variability\")\n",
    "plt.show()"
   ]
  },
  {
   "cell_type": "markdown",
   "metadata": {},
   "source": [
    "####  Gb per month"
   ]
  },
  {
   "cell_type": "code",
   "execution_count": 68,
   "metadata": {},
   "outputs": [
    {
     "data": {
      "image/png": "[encoded data removed]",
      "text/plain": [
       "<Figure size 432x288 with 1 Axes>"
      ]
     },
     "metadata": {
      "needs_background": "light"
     },
     "output_type": "display_data"
    }
   ],
   "source": [
    "sns.histplot(data=df_surf, x=\"gb_used\")\n",
    "plt.title(\"Surf plan monthly data usage value distrebution\")\n",
    "plt.show()"
   ]
  },
  {
   "cell_type": "code",
   "execution_count": 69,
   "metadata": {},
   "outputs": [
    {
     "data": {
      "text/plain": [
       "True"
      ]
     },
     "execution_count": 69,
     "metadata": {},
     "output_type": "execute_result"
    }
   ],
   "source": [
    "#histogram is very sligtly skewed left, almost identical (mean 16.8 and median 17) \n",
    "df_surf['gb_used'].mean()<df_surf['gb_used'].median()"
   ]
  },
  {
   "cell_type": "code",
   "execution_count": 70,
   "metadata": {},
   "outputs": [
    {
     "data": {
      "text/plain": [
       "count   1558.000\n",
       "mean      16.831\n",
       "std        7.712\n",
       "min        1.000\n",
       "25%       12.000\n",
       "50%       17.000\n",
       "75%       21.000\n",
       "max       70.000\n",
       "Name: gb_used, dtype: float64"
      ]
     },
     "execution_count": 70,
     "metadata": {},
     "output_type": "execute_result"
    }
   ],
   "source": [
    "df_surf['gb_used'].describe()"
   ]
  },
  {
   "cell_type": "markdown",
   "metadata": {},
   "source": [
    "As can be seen in the histogram chart most monthly custumers use somthing between 12 and 22 gigabites of data per month (similar to the quartiles in describe method). With a mean of ~17, and median of 17 gigabites of data per month, which is very nice becuse it reminds normal disrebution chart (gausian bell chart). But it's not within the plan limit of 15360 mb (which are 15 Gb), which means overcharge fees for more then half the plan users.\n"
   ]
  },
  {
   "cell_type": "code",
   "execution_count": 71,
   "metadata": {},
   "outputs": [
    {
     "data": {
      "image/png": "[encoded data removed]",
      "text/plain": [
       "<Figure size 432x288 with 1 Axes>"
      ]
     },
     "metadata": {
      "needs_background": "light"
     },
     "output_type": "display_data"
    }
   ],
   "source": [
    "sns.boxplot(x=df_surf['gb_used']).set(\n",
    "    xlabel='gb_used', \n",
    "    ylabel='Values'\n",
    ")\n",
    "plt.title(\"Surf plan monthly data usage value veriability\")\n",
    "plt.show()"
   ]
  },
  {
   "cell_type": "code",
   "execution_count": 72,
   "metadata": {},
   "outputs": [
    {
     "data": {
      "text/plain": [
       "59.43556096242673"
      ]
     },
     "execution_count": 72,
     "metadata": {},
     "output_type": "execute_result"
    }
   ],
   "source": [
    "np.var(df_surf['gb_used'])"
   ]
  },
  {
   "cell_type": "code",
   "execution_count": 73,
   "metadata": {},
   "outputs": [
    {
     "name": "stdout",
     "output_type": "stream",
     "text": [
      "7.709446216326223\n"
     ]
    }
   ],
   "source": [
    "stdev_giga_surf = np.std(df_surf['gb_used'])\n",
    "print(stdev_giga_surf)"
   ]
  },
  {
   "cell_type": "code",
   "execution_count": 74,
   "metadata": {},
   "outputs": [
    {
     "name": "stdout",
     "output_type": "stream",
     "text": [
      "Interval: 0 - 39.95953248723284\n"
     ]
    }
   ],
   "source": [
    "giga_bot_surf = df_surf['gb_used'].mean() -3*stdev_giga_surf\n",
    "giga_top_surf = df_surf['gb_used'].mean() +3*stdev_giga_surf\n",
    "\n",
    "if giga_bot_surf  <0:\n",
    "    giga_bot_surf  =0\n",
    "#minutes can't be negative value\n",
    "\n",
    "print('Interval: '+ str(giga_bot_surf ) +' - '+str(giga_top_surf))"
   ]
  },
  {
   "cell_type": "markdown",
   "metadata": {},
   "source": [
    "The standrt devation is very similar to what the describe method calculated, and considering the interval of values that's quite large standard deviation. "
   ]
  },
  {
   "cell_type": "code",
   "execution_count": 75,
   "metadata": {},
   "outputs": [
    {
     "data": {
      "image/png": "[encoded data removed]",
      "text/plain": [
       "<Figure size 432x288 with 1 Axes>"
      ]
     },
     "metadata": {
      "needs_background": "light"
     },
     "output_type": "display_data"
    }
   ],
   "source": [
    "sns.histplot(data=df_ulti, x=\"gb_used\")\n",
    "plt.title(\"Ultimate plan monthly data usage value distrebution\")\n",
    "plt.show()"
   ]
  },
  {
   "cell_type": "code",
   "execution_count": 76,
   "metadata": {},
   "outputs": [
    {
     "data": {
      "text/plain": [
       "False"
      ]
     },
     "execution_count": 76,
     "metadata": {},
     "output_type": "execute_result"
    }
   ],
   "source": [
    "#histogram is very sligtly skewed right, almost identical (mean 17.3 and median 17) \n",
    "df_ulti['gb_used'].mean()<df_ulti['gb_used'].median()"
   ]
  },
  {
   "cell_type": "code",
   "execution_count": 77,
   "metadata": {},
   "outputs": [
    {
     "data": {
      "text/plain": [
       "count   719.000\n",
       "mean     17.331\n",
       "std       7.648\n",
       "min       1.000\n",
       "25%      13.000\n",
       "50%      17.000\n",
       "75%      21.000\n",
       "max      46.000\n",
       "Name: gb_used, dtype: float64"
      ]
     },
     "execution_count": 77,
     "metadata": {},
     "output_type": "execute_result"
    }
   ],
   "source": [
    "df_ulti['gb_used'].describe()"
   ]
  },
  {
   "cell_type": "markdown",
   "metadata": {},
   "source": [
    "As can be seen in the histogram chart most monthly custumers use somthing between 15 and 20 gigabites of data per month (quite similar to the quartiles in describe method). With a mean of ~17, and median of 17 gigabites of data per month, which is very nice becuse it reminds normal disrebution chart (gausian bell chart). And it's within the plan limit of 30720 mb (which are 30 Gb), which means no overcharge fees for most plan users."
   ]
  },
  {
   "cell_type": "code",
   "execution_count": 79,
   "metadata": {},
   "outputs": [
    {
     "data": {
      "image/png": "[encoded data removed]",
      "text/plain": [
       "<Figure size 432x288 with 1 Axes>"
      ]
     },
     "metadata": {
      "needs_background": "light"
     },
     "output_type": "display_data"
    }
   ],
   "source": [
    "sns.boxplot(x=df_ulti['gb_used']).set(\n",
    "    xlabel='gb_used', \n",
    "    ylabel='Values'\n",
    ")\n",
    "plt.title(\"Ultimate plan monthly data usage value verability\")\n",
    "plt.show()"
   ]
  },
  {
   "cell_type": "code",
   "execution_count": 80,
   "metadata": {},
   "outputs": [
    {
     "data": {
      "text/plain": [
       "58.413377411448835"
      ]
     },
     "execution_count": 80,
     "metadata": {},
     "output_type": "execute_result"
    }
   ],
   "source": [
    "np.var(df_ulti['gb_used'])"
   ]
  },
  {
   "cell_type": "code",
   "execution_count": 81,
   "metadata": {},
   "outputs": [
    {
     "name": "stdout",
     "output_type": "stream",
     "text": [
      "7.709446216326223\n"
     ]
    }
   ],
   "source": [
    "stdev_giga_ulti = np.std(df_ulti['gb_used'])\n",
    "print(stdev_giga_surf)"
   ]
  },
  {
   "cell_type": "code",
   "execution_count": 82,
   "metadata": {},
   "outputs": [
    {
     "name": "stdout",
     "output_type": "stream",
     "text": [
      "Interval: 0 - 40.25960872956725\n"
     ]
    }
   ],
   "source": [
    "giga_bot_ulti = df_ulti['gb_used'].mean() -3*stdev_giga_ulti\n",
    "giga_top_ulti = df_ulti['gb_used'].mean() +3*stdev_giga_ulti\n",
    "\n",
    "if giga_bot_ulti <0:\n",
    "    giga_bot_ulti  =0\n",
    "#minutes can't be negative value\n",
    "\n",
    "print('Interval: '+ str(giga_bot_ulti) +' - '+str(giga_top_ulti))"
   ]
  },
  {
   "cell_type": "markdown",
   "metadata": {},
   "source": [
    "The standrt devation is very similar to what the describe method calculated, and considering the interval of values that's quite large standard deviation. And its identical between surf plan and ultimate plan, which is very interesting for further statistical analysys."
   ]
  },
  {
   "cell_type": "markdown",
   "metadata": {},
   "source": [
    "- as can be seen the data use per month hisograms look very similar. Though the max value of surf plan data usege is much higher (70 for surf compered to 46 for ultimate). All othe values are very similar as can be seen by the identical median, the very close mean values 16.8 and 17.3, and the positions of the quartiles (first(0.25) 12 and 13, third(0.75) both at 21).\n",
    "\n",
    "- dispersion of data use per month is very similar as can be seen in the box plots, the surf data goes up to 70, and shows a much more values not between Q1 and Q3 (so caled outliers), but other then that most of the data is very similar. Veriability not equal, but also very close (59.436 surf, 58.413 ulti).\n",
    "\n",
    "- standard deviation in both cases is quite large considering the value dispersion. And it's identical (~7.709 in both plans)."
   ]
  },
  {
   "cell_type": "code",
   "execution_count": 113,
   "metadata": {},
   "outputs": [
    {
     "data": {
      "image/png": "[encoded data removed]",
      "text/plain": [
       "<Figure size 432x288 with 1 Axes>"
      ]
     },
     "metadata": {
      "needs_background": "light"
     },
     "output_type": "display_data"
    }
   ],
   "source": [
    "fig, ax = plt.subplots()\n",
    "sns.histplot(\n",
    "    data=pd.concat([df_surf, df_ulti]), x='gb_used', hue='plan', multiple='dodge',\n",
    "    bins=range(1, 110, 10), ax=ax\n",
    ")\n",
    "plt.title(\"Plan monthly data usage value disrebution\")\n",
    "plt.show()"
   ]
  },
  {
   "cell_type": "code",
   "execution_count": 114,
   "metadata": {},
   "outputs": [
    {
     "data": {
      "image/png": "[encoded data removed]",
      "text/plain": [
       "<Figure size 432x288 with 1 Axes>"
      ]
     },
     "metadata": {
      "needs_background": "light"
     },
     "output_type": "display_data"
    }
   ],
   "source": [
    "sns.boxplot(data=pd.concat([df_surf, df_ulti]),y='gb_used',x='plan',hue='plan')\n",
    "plt.title(\"Plan monthly data usage value variability\")\n",
    "plt.show()"
   ]
  },
  {
   "cell_type": "markdown",
   "metadata": {},
   "source": [
    "<b>intermidiate conclusions based on analysys of the data<b>\n",
    "\n",
    "- Minutes: As can be seen the minutes per month hisograms are very similar as is the distrebution minutes per month, between the two plans. standard deviation in both cases is quite large considering the value distrebuion. Veriabilty is obviously not equal considering the differance in stendard deviations, so the value dispersion is diferent.\n",
    "    \n",
    "\n",
    "- Messages: as can be seen the messages per month hisograms look very similar. But the values show that the messages per month of ultimate plan users are a wee bit higher (20 to 70 messages), then those of surf plan users (15 to 50 messages). As can also be testified by the higher mean and median values. But judging by those same values (mean and median) they are not that diferent. dispersion of messages per month is very different as can be seen in the box plots, while values of ultimate plan users tend to be higher (in all quartiles). And more or less between the quartiles, with few vry high values and max around 166, the surf data goes up to 266, and show much more values not between Q1 and Q3. standard deviation in both cases is quite large considering the value dispersion. And is very similar between the two plans (33 for surf, 32.9 for ulti, almost identical). Veriability is not equal, but very close to it (considering that it is sqere of standard deviation).\n",
    "\n",
    "    \n",
    "- Data usage(Gb): As can be seen the data use per month hisograms look very similar. Though the max value of surf plan data usege is much higher (70 for surf compered to 46 for ultimate). All othe values are very similar as can be seen by the identical median, the very close mean values 16.8 and 17.3, and the positions of the quartiles (first(0.25) 12 and 13, third(0.75) both at 21).  dispersion of data use per month is very similar as can be seen in the box plots, the surf data goes up to 70, and shows a much more values not between Q1 and Q3 (so caled outliers), but other then that most of the data is very similar. standard deviation in both cases is quite large considering the value dispersion. And it's in fact identical (~7.709 in both plans). Thogh revenue vise most surf plan users will need to pay overcharge as the median 17Gb is higher then the 15Gb included in the plan. Veriability is obviously equal(7.709^2 is equal to itself), average data use might just be equal between the plans (it can be tested, but why should it). \n",
    "\n",
    "    \n",
    "In conclusion the two plans have alot of similarities in many things (calls, messages, data usage), but the data also shows clear diferances (aspecialy in minutes per month) as testified by the diferent variabilities. However the data usage is clearly very similar, that needs to be analysed because in that aspect users of both plans might have similar behaviour. "
   ]
  },
  {
   "cell_type": "markdown",
   "metadata": {},
   "source": [
    "<div class=\"alert alert-success\">\n",
    "<b>Reviewer's comment v1:</b>\n",
    "    \n",
    "- I will write overall thoughts about the data analysis section:\n",
    "- Very nice visualization of the data. Great that you used different graph types to check available data.\n",
    "- Additionally could be great to add both plans on one graph.\n",
    "- If you have time and willing to practice, you can display two charts (histogram and a box plot) using a two-column subplot.\n",
    "\n",
    "```\n",
    "    # Create one row with 2 columns\n",
    "\t  fig, axes = plt.subplots(1, 2, figsize=(16, 5))\n",
    "\n",
    "\t  # Create a histogram for the surf plan\n",
    "\t  sns.distplot(... ax=axes[0])\n",
    "\t  # Create a histogram for the second plan\n",
    "\t  sns.distplot(... ax=axes[0])\n",
    "\t\n",
    "\t  # Create a boxplot for both plans\n",
    "\t  sns.boxplot(... ax=axes[1])\n",
    "```"
   ]
  },
  {
   "cell_type": "markdown",
   "metadata": {},
   "source": [
    "<div class=\"alert alert-block alert-info\">\n",
    "<b>Student answer.</b> <a class=\"tocSkip\"></a>\n",
    "    Thanks, I will try to do that.\n",
    "</div>\n"
   ]
  },
  {
   "cell_type": "markdown",
   "metadata": {},
   "source": [
    "### Test the hypotheses"
   ]
  },
  {
   "cell_type": "code",
   "execution_count": 73,
   "metadata": {},
   "outputs": [],
   "source": [
    "alpha = 0.05 # like almost always"
   ]
  },
  {
   "cell_type": "markdown",
   "metadata": {},
   "source": [
    "#### The average revenue from users of Ultimate and Surf calling plans differs."
   ]
  },
  {
   "cell_type": "code",
   "execution_count": 74,
   "metadata": {},
   "outputs": [
    {
     "data": {
      "text/plain": [
       "3065.8848438690247"
      ]
     },
     "execution_count": 74,
     "metadata": {},
     "output_type": "execute_result"
    }
   ],
   "source": [
    "np.var(df_surf['revenue'])"
   ]
  },
  {
   "cell_type": "code",
   "execution_count": 75,
   "metadata": {},
   "outputs": [
    {
     "data": {
      "text/plain": [
       "129.66814043209877"
      ]
     },
     "execution_count": 75,
     "metadata": {},
     "output_type": "execute_result"
    }
   ],
   "source": [
    "np.var(df_ulti['revenue'])"
   ]
  },
  {
   "cell_type": "code",
   "execution_count": 76,
   "metadata": {},
   "outputs": [
    {
     "data": {
      "text/plain": [
       "False"
      ]
     },
     "execution_count": 76,
     "metadata": {},
     "output_type": "execute_result"
    }
   ],
   "source": [
    "np.var(df_surf['revenue']) == np.var(df_ulti['revenue'])"
   ]
  },
  {
   "cell_type": "markdown",
   "metadata": {},
   "source": [
    "Variability values of revenue values of the diferent plans are Not equal."
   ]
  },
  {
   "cell_type": "code",
   "execution_count": 77,
   "metadata": {},
   "outputs": [
    {
     "data": {
      "text/plain": [
       "LeveneResult(statistic=594.6026163420061, pvalue=5.915081558303153e-117)"
      ]
     },
     "execution_count": 77,
     "metadata": {},
     "output_type": "execute_result"
    }
   ],
   "source": [
    "# to be certain (it didn't work before...)\n",
    "st.levene(df_surf['revenue'], df_ulti['revenue'], center='mean' )"
   ]
  },
  {
   "cell_type": "markdown",
   "metadata": {},
   "source": [
    "pvalue on Levene test for equal variances is small so they are not equal."
   ]
  },
  {
   "cell_type": "code",
   "execution_count": 78,
   "metadata": {},
   "outputs": [],
   "source": [
    "results1 = st.ttest_ind(df_surf['revenue'], df_ulti['revenue'], equal_var = False)\n",
    "# this tests the hypothesis that the means of the two independent populations are equal...I think"
   ]
  },
  {
   "cell_type": "code",
   "execution_count": 79,
   "metadata": {},
   "outputs": [
    {
     "name": "stdout",
     "output_type": "stream",
     "text": [
      "p-value: 3.17039054811355e-15\n"
     ]
    }
   ],
   "source": [
    "print('p-value:', results1.pvalue)"
   ]
  },
  {
   "cell_type": "code",
   "execution_count": 80,
   "metadata": {},
   "outputs": [
    {
     "name": "stdout",
     "output_type": "stream",
     "text": [
      "We reject the null hypothesis\n"
     ]
    }
   ],
   "source": [
    "if (results1.pvalue < alpha):\n",
    "    print(\"We reject the null hypothesis\")\n",
    "else:\n",
    "    print(\"We can't reject the null hypothesis\")"
   ]
  },
  {
   "cell_type": "markdown",
   "metadata": {},
   "source": [
    "That means that average revenue from users of Ultimate and Surf calling plans differs, which needed to be proven. \n",
    "And it was proven, because the null hypotesis was rejected."
   ]
  },
  {
   "cell_type": "markdown",
   "metadata": {},
   "source": [
    "<b> Essentially, a t-test allows us to compare the average values of the two data sets and determine if they came from the same population. So mathematically, the t-test takes a sample from each of the two sets and establishes the problem statement by assuming a null hypothesis that the two means are equal. So basicaly what was needed, if null hypotesis is rejected then the average values are certenly not equal, like in this case.\n",
    "    \n",
    "The alternative hypothesis, is that Ultimate plan users are more profitable. As t-test proved they are indeed different.  <b>\n",
    "\n",
    "    "
   ]
  },
  {
   "cell_type": "markdown",
   "metadata": {},
   "source": [
    "<div class=\"alert alert-block alert-warning\">\n",
    "<b>Reviewer's comment v1</b>\n",
    " \n",
    "Can you please also formulate an alternative hypothesis in addition to the null hypotheses?"
   ]
  },
  {
   "cell_type": "markdown",
   "metadata": {},
   "source": [
    "<div class=\"alert alert-block alert-info\">\n",
    "<b>Student answer.</b> <a class=\"tocSkip\"></a>\n",
    "    Done.\n",
    "</div>"
   ]
  },
  {
   "cell_type": "code",
   "execution_count": 81,
   "metadata": {},
   "outputs": [
    {
     "data": {
      "text/plain": [
       "True"
      ]
     },
     "execution_count": 81,
     "metadata": {},
     "output_type": "execute_result"
    }
   ],
   "source": [
    "#df_surf['revenue'].mean() < df_ulti['revenue'].mean()"
   ]
  },
  {
   "cell_type": "markdown",
   "metadata": {},
   "source": [
    "<div class=\"alert alert-block alert-warning\">\n",
    "<b>Reviewer's comment v1</b>\n",
    " \n",
    "Unfortunately, it is not possible to make this decision based on the  two-tailed test. You can only confirm that revenue is different and proceed with one-tailed test to determine a sign. "
   ]
  },
  {
   "cell_type": "markdown",
   "metadata": {},
   "source": [
    "<div class=\"alert alert-block alert-info\">\n",
    "<b>Student answer.</b> <a class=\"tocSkip\"></a>\n",
    "    Thanks, undersood, I will remove that part.\n",
    "</div>"
   ]
  },
  {
   "cell_type": "markdown",
   "metadata": {},
   "source": [
    "#### The average revenue from users in NY-NJ area is different from that of the users from other regions."
   ]
  },
  {
   "cell_type": "code",
   "execution_count": 82,
   "metadata": {},
   "outputs": [],
   "source": [
    "df_nynj = df_merged_plan[df_merged_plan['city'].str.contains('NJ|NY', regex=True) == True]\n",
    "                        \n",
    "df_other = df_merged_plan[df_merged_plan['city'].str.contains('NJ|NY', regex=True) == False]"
   ]
  },
  {
   "cell_type": "code",
   "execution_count": 83,
   "metadata": {},
   "outputs": [
    {
     "name": "stdout",
     "output_type": "stream",
     "text": [
      "    user_id  call_minutes  messages  gb_used first_name last_name  age  \\\n",
      "56     1014       163.000     9.000    2.000    Edmundo     Simon   61   \n",
      "57     1014      1114.000    64.000    8.000    Edmundo     Simon   61   \n",
      "75     1022       302.000       nan    5.000         Bo      Snow   73   \n",
      "76     1022       490.000       nan   23.000         Bo      Snow   73   \n",
      "77     1022       475.000       nan   10.000         Bo      Snow   73   \n",
      "\n",
      "                                         city   reg_date  plan  churn_date  \\\n",
      "56  New York-Newark-Jersey City, NY-NJ-PA MSA 2018-11-25  surf         NaN   \n",
      "57  New York-Newark-Jersey City, NY-NJ-PA MSA 2018-11-25  surf         NaN   \n",
      "75  New York-Newark-Jersey City, NY-NJ-PA MSA 2018-04-20  surf  2018-09-07   \n",
      "76  New York-Newark-Jersey City, NY-NJ-PA MSA 2018-04-20  surf  2018-09-07   \n",
      "77  New York-Newark-Jersey City, NY-NJ-PA MSA 2018-04-20  surf  2018-09-07   \n",
      "\n",
      "    revenue  \n",
      "56   20.000  \n",
      "57   38.840  \n",
      "75   20.000  \n",
      "76  100.000  \n",
      "77   20.000  \n"
     ]
    }
   ],
   "source": [
    "print(df_nynj.head())"
   ]
  },
  {
   "cell_type": "code",
   "execution_count": 84,
   "metadata": {},
   "outputs": [
    {
     "name": "stdout",
     "output_type": "stream",
     "text": [
      "   user_id  call_minutes  messages  gb_used first_name  last_name  age  \\\n",
      "0     1000       124.000    11.000    2.000   Anamaria      Bauer   45   \n",
      "1     1001       182.000    30.000    7.000     Mickey  Wilkerson   28   \n",
      "2     1001       315.000    44.000   14.000     Mickey  Wilkerson   28   \n",
      "3     1001       393.000    53.000   22.000     Mickey  Wilkerson   28   \n",
      "4     1001       426.000    36.000   19.000     Mickey  Wilkerson   28   \n",
      "\n",
      "                                    city   reg_date      plan churn_date  \\\n",
      "0  Atlanta-Sandy Springs-Roswell, GA MSA 2018-12-24  ultimate        NaN   \n",
      "1        Seattle-Tacoma-Bellevue, WA MSA 2018-08-13      surf        NaN   \n",
      "2        Seattle-Tacoma-Bellevue, WA MSA 2018-08-13      surf        NaN   \n",
      "3        Seattle-Tacoma-Bellevue, WA MSA 2018-08-13      surf        NaN   \n",
      "4        Seattle-Tacoma-Bellevue, WA MSA 2018-08-13      surf        NaN   \n",
      "\n",
      "   revenue  \n",
      "0   70.000  \n",
      "1   20.000  \n",
      "2   20.000  \n",
      "3   90.090  \n",
      "4   60.000  \n"
     ]
    }
   ],
   "source": [
    "print(df_other.head())"
   ]
  },
  {
   "cell_type": "code",
   "execution_count": 85,
   "metadata": {},
   "outputs": [
    {
     "data": {
      "text/plain": [
       "2105.8745274388602"
      ]
     },
     "execution_count": 85,
     "metadata": {},
     "output_type": "execute_result"
    }
   ],
   "source": [
    "np.var(df_nynj['revenue'])"
   ]
  },
  {
   "cell_type": "code",
   "execution_count": 86,
   "metadata": {},
   "outputs": [
    {
     "data": {
      "text/plain": [
       "2187.994397562204"
      ]
     },
     "execution_count": 86,
     "metadata": {},
     "output_type": "execute_result"
    }
   ],
   "source": [
    "np.var(df_other['revenue'])"
   ]
  },
  {
   "cell_type": "code",
   "execution_count": 87,
   "metadata": {},
   "outputs": [
    {
     "data": {
      "text/plain": [
       "False"
      ]
     },
     "execution_count": 87,
     "metadata": {},
     "output_type": "execute_result"
    }
   ],
   "source": [
    "np.var(df_nynj['revenue']) == np.var(df_other['revenue'])"
   ]
  },
  {
   "cell_type": "code",
   "execution_count": 88,
   "metadata": {},
   "outputs": [
    {
     "data": {
      "text/plain": [
       "LeveneResult(statistic=8.8153187695944, pvalue=0.00301811812896882)"
      ]
     },
     "execution_count": 88,
     "metadata": {},
     "output_type": "execute_result"
    }
   ],
   "source": [
    "st.levene(df_nynj['revenue'], df_other['revenue'], center='mean' )"
   ]
  },
  {
   "cell_type": "markdown",
   "metadata": {},
   "source": [
    "Variability values of NY-NJ region and other regions are Not equal."
   ]
  },
  {
   "cell_type": "code",
   "execution_count": 89,
   "metadata": {},
   "outputs": [],
   "source": [
    "results2 = st.ttest_ind(df_nynj['revenue'], df_other['revenue'], equal_var = False)\n"
   ]
  },
  {
   "cell_type": "code",
   "execution_count": 90,
   "metadata": {},
   "outputs": [
    {
     "name": "stdout",
     "output_type": "stream",
     "text": [
      "p-value: 0.10667494170371572\n"
     ]
    }
   ],
   "source": [
    "print('p-value:', results2.pvalue)"
   ]
  },
  {
   "cell_type": "code",
   "execution_count": 91,
   "metadata": {},
   "outputs": [
    {
     "name": "stdout",
     "output_type": "stream",
     "text": [
      "We can't reject the null hypothesis\n"
     ]
    }
   ],
   "source": [
    "if (results2.pvalue < alpha):\n",
    "    print(\"We reject the null hypothesis\")\n",
    "else:\n",
    "    print(\"We can't reject the null hypothesis\")"
   ]
  },
  {
   "cell_type": "markdown",
   "metadata": {},
   "source": [
    "The average revenue from users in NY-NJ area is probably not different from that of the users from other regions, as the null hypotesis could not be rejected. "
   ]
  },
  {
   "cell_type": "markdown",
   "metadata": {},
   "source": [
    "<b> Failing to reject the null indicates that our sample did not provide sufficient evidence to conclude that the effect exists. However, at the same time, that lack of evidence doesn’t prove that the effect does not exist.\n",
    "    \n",
    "So NY-NJ region might be as profitable as the other regions, which is logical after all why shold it be more or less profitable then other regions. <b>\n",
    "    \n",
    "\n"
   ]
  },
  {
   "cell_type": "markdown",
   "metadata": {},
   "source": [
    "<div class=\"alert alert-success\">\n",
    "<b>Reviewer's comment v1:</b>\n",
    "    \n",
    "- Overall great job!  Great that you additionally checked data that has been used for the test. \n",
    "- Your conclusions based on the results are also correct.\n",
    "- Great that you additionally correctly compared the variances using Levene test."
   ]
  },
  {
   "cell_type": "markdown",
   "metadata": {},
   "source": [
    "### Overall conclusion"
   ]
  },
  {
   "cell_type": "markdown",
   "metadata": {},
   "source": [
    "The analysis showed that:\n",
    "\n",
    "- Minutes: As can be seen the minutes per month hisograms are very similar as is the distrebution minutes per month, between the two plans. standard deviation in both cases is quite large considering the value distrebuion. Veriabilty is obviously not equal considering the differance in stendard deviations, so the value dispersion is diferent.\n",
    "\n",
    "\n",
    "- Messages: as can be seen the messages per month hisograms look very similar. But the values show that the messages per month of ultimate plan users are a wee bit higher (20 to 70 messages), then those of surf plan users (15 to 50 messages). As can also be testified by the higher mean and median values. But judging by those same values (mean and median) they are not that diferent. dispersion of messages per month is very different as can be seen in the box plots, while values of ultimate plan users tend to be higher (in all quartiles). And more or less between the quartiles, with few vry high values and max around 166, the surf data goes up to 266, and show much more values not between Q1 and Q3. standard deviation in both cases is quite large considering the value dispersion. And is very similar between the two plans (33 for surf, 32.9 for ulti, almost identical). Veriability is not equal, but very close to it (considering that it is sqere of standard deviation).\n",
    "\n",
    "\n",
    "- Data usage(Gb): As can be seen the data use per month hisograms look very similar. Though the max value of surf plan data usege is much higher (70 for surf compered to 46 for ultimate). All othe values are very similar as can be seen by the identical median, the very close mean values 16.8 and 17.3, and the positions of the quartiles (first(0.25) 12 and 13, third(0.75) both at 21). dispersion of data use per month is very similar as can be seen in the box plots, the surf data goes up to 70, and shows a much more values not between Q1 and Q3 (so caled outliers), but other then that most of the data is very similar. standard deviation in both cases is quite large considering the value dispersion. And it's in fact identical (~7.709 in both plans). Thogh revenue vise most surf plan users will need to pay overcharge as the median 17Gb is higher then the 15Gb included in the plan. Veriability is obviously equal(7.709^2 is equal to itself), average data use might just be equal between \n",
    "the plans (it can be tested, but why should it).\n",
    "\n",
    "The hypotesis testing showed that:\n",
    "\n",
    "- T-test allowed us to compare the average revenue values of the two data sets and determine that they differ(reject the null hypothesis), and find out Ultimate plan users are more profitable.\n",
    "\n",
    "\n",
    "- Failing to reject the null indicated that our sample did not provide sufficient evidence to conclude that the effect exists. However, at the same time, that lack of evidence doesn’t prove that the effect does not exist. So NY-NJ region might be as profitable as the other regions, which is logical after all why should it be more or less profitable then other regions.\n",
    "\n",
    "so the ultimate conclusion is that:\n",
    "\n",
    "- The behaviour of Ultimate and Surf plan users is diferent in call duration and number of sent messages, but it's similar in the data usage(Gb used).\n",
    "\n",
    "-  Ultimate plan users are more profitable, more people should be prosuaded to use the Ultimate plan.\n",
    "\n",
    "- NY-NJ region is prabably (can't reject the null hypothesis...) not diferent in regards to average revenue then other regions, though it has a diferent veriability(levene test showed that), so dispersion of values is different."
   ]
  },
  {
   "cell_type": "markdown",
   "metadata": {},
   "source": [
    "<div class=\"alert alert-success\" role=\"alert\">\n",
    "<b>Reviewer's comment v1:</b>\n",
    "    \n",
    "- You conducted an outstanding research with correct interim findings, clean code and nice visualisation.\n",
    "- I also like your overall conclusion. It is very structured and provides insights and recommendations to the business."
   ]
  },
  {
   "cell_type": "markdown",
   "metadata": {},
   "source": [
    "<div class=\"alert alert-block alert-info\">\n",
    "<b>Student answer.</b> <a class=\"tocSkip\"></a>\n",
    "    Thanks for your help, I hope that now it is better.\n",
    "</div>"
   ]
  },
  {
   "cell_type": "markdown",
   "metadata": {},
   "source": [
    "<div class=\"alert alert-block alert-success\">\n",
    "<b>Reviewer's comment v2</b>\n",
    "\n",
    "Happy that smth was useful for you, and glad that you found time and energy to try new methods in this project. \n",
    "    \n",
    "Please keep up a great work and good luck with the next sprints 🔥"
   ]
  }
 ],
 "metadata": {
  "ExecuteTimeLog": [
   {
    "duration": 1534,
    "start_time": "2022-02-12T15:01:15.656Z"
   },
   {
    "duration": 4,
    "start_time": "2022-02-12T15:01:17.242Z"
   },
   {
    "duration": 325,
    "start_time": "2022-02-12T15:01:18.850Z"
   },
   {
    "duration": 300,
    "start_time": "2022-02-12T15:01:35.032Z"
   },
   {
    "duration": 262,
    "start_time": "2022-02-12T15:01:49.668Z"
   },
   {
    "duration": 184,
    "start_time": "2022-02-12T15:02:48.756Z"
   },
   {
    "duration": 194,
    "start_time": "2022-02-12T15:03:59.274Z"
   },
   {
    "duration": 28,
    "start_time": "2022-02-12T15:16:32.513Z"
   },
   {
    "duration": 67,
    "start_time": "2022-02-12T15:23:59.172Z"
   },
   {
    "duration": 30,
    "start_time": "2022-02-12T15:24:29.350Z"
   },
   {
    "duration": 45,
    "start_time": "2022-02-12T15:25:54.729Z"
   },
   {
    "duration": 18,
    "start_time": "2022-02-12T15:26:30.738Z"
   },
   {
    "duration": 38,
    "start_time": "2022-02-12T15:27:32.403Z"
   },
   {
    "duration": 12,
    "start_time": "2022-02-12T15:28:46.049Z"
   },
   {
    "duration": 7,
    "start_time": "2022-02-12T15:30:16.736Z"
   },
   {
    "duration": 1495,
    "start_time": "2022-02-12T15:32:55.362Z"
   },
   {
    "duration": 12,
    "start_time": "2022-02-12T15:32:56.860Z"
   },
   {
    "duration": 324,
    "start_time": "2022-02-12T15:32:56.875Z"
   },
   {
    "duration": 22,
    "start_time": "2022-02-12T15:32:57.622Z"
   },
   {
    "duration": 57,
    "start_time": "2022-02-12T15:33:00.577Z"
   },
   {
    "duration": 382,
    "start_time": "2022-02-12T15:33:03.049Z"
   },
   {
    "duration": 19,
    "start_time": "2022-02-12T15:33:04.739Z"
   },
   {
    "duration": 45,
    "start_time": "2022-02-12T15:33:05.928Z"
   },
   {
    "duration": 248,
    "start_time": "2022-02-12T15:33:07.051Z"
   },
   {
    "duration": 18,
    "start_time": "2022-02-12T15:33:09.324Z"
   },
   {
    "duration": 35,
    "start_time": "2022-02-12T15:33:11.650Z"
   },
   {
    "duration": 179,
    "start_time": "2022-02-12T15:33:12.418Z"
   },
   {
    "duration": 223,
    "start_time": "2022-02-12T15:33:15.014Z"
   },
   {
    "duration": 10,
    "start_time": "2022-02-12T15:33:17.388Z"
   },
   {
    "duration": 6,
    "start_time": "2022-02-12T15:33:19.828Z"
   },
   {
    "duration": 376,
    "start_time": "2022-02-12T15:34:47.716Z"
   },
   {
    "duration": 1569,
    "start_time": "2022-02-12T15:34:54.294Z"
   },
   {
    "duration": 4,
    "start_time": "2022-02-12T15:34:55.866Z"
   },
   {
    "duration": 355,
    "start_time": "2022-02-12T15:34:56.020Z"
   },
   {
    "duration": 34,
    "start_time": "2022-02-12T15:34:56.385Z"
   },
   {
    "duration": 77,
    "start_time": "2022-02-12T15:34:57.330Z"
   },
   {
    "duration": 306,
    "start_time": "2022-02-12T15:35:00.183Z"
   },
   {
    "duration": 19,
    "start_time": "2022-02-12T15:35:00.562Z"
   },
   {
    "duration": 44,
    "start_time": "2022-02-12T15:35:01.058Z"
   },
   {
    "duration": 253,
    "start_time": "2022-02-12T15:35:01.390Z"
   },
   {
    "duration": 30,
    "start_time": "2022-02-12T15:35:01.736Z"
   },
   {
    "duration": 36,
    "start_time": "2022-02-12T15:35:02.515Z"
   },
   {
    "duration": 209,
    "start_time": "2022-02-12T15:35:05.434Z"
   },
   {
    "duration": 287,
    "start_time": "2022-02-12T15:35:05.921Z"
   },
   {
    "duration": 10,
    "start_time": "2022-02-12T15:35:07.356Z"
   },
   {
    "duration": 4,
    "start_time": "2022-02-12T15:35:10.292Z"
   },
   {
    "duration": 328,
    "start_time": "2022-02-12T15:36:36.184Z"
   },
   {
    "duration": 1549,
    "start_time": "2022-02-12T15:36:40.835Z"
   },
   {
    "duration": 4,
    "start_time": "2022-02-12T15:36:42.386Z"
   },
   {
    "duration": 328,
    "start_time": "2022-02-12T15:36:42.393Z"
   },
   {
    "duration": 22,
    "start_time": "2022-02-12T15:36:42.724Z"
   },
   {
    "duration": 73,
    "start_time": "2022-02-12T15:36:42.749Z"
   },
   {
    "duration": 286,
    "start_time": "2022-02-12T15:36:42.824Z"
   },
   {
    "duration": 19,
    "start_time": "2022-02-12T15:36:43.113Z"
   },
   {
    "duration": 44,
    "start_time": "2022-02-12T15:36:43.652Z"
   },
   {
    "duration": 278,
    "start_time": "2022-02-12T15:36:44.440Z"
   },
   {
    "duration": 16,
    "start_time": "2022-02-12T15:36:44.860Z"
   },
   {
    "duration": 36,
    "start_time": "2022-02-12T15:36:45.420Z"
   },
   {
    "duration": 193,
    "start_time": "2022-02-12T15:36:46.195Z"
   },
   {
    "duration": 202,
    "start_time": "2022-02-12T15:36:46.659Z"
   },
   {
    "duration": 9,
    "start_time": "2022-02-12T15:36:50.430Z"
   },
   {
    "duration": 11,
    "start_time": "2022-02-12T15:36:51.296Z"
   },
   {
    "duration": 369,
    "start_time": "2022-02-12T15:39:43.773Z"
   },
   {
    "duration": 1949,
    "start_time": "2022-02-12T15:39:53.080Z"
   },
   {
    "duration": 4,
    "start_time": "2022-02-12T15:39:55.033Z"
   },
   {
    "duration": 371,
    "start_time": "2022-02-12T15:39:55.040Z"
   },
   {
    "duration": 27,
    "start_time": "2022-02-12T15:39:55.415Z"
   },
   {
    "duration": 61,
    "start_time": "2022-02-12T15:39:55.497Z"
   },
   {
    "duration": 390,
    "start_time": "2022-02-12T15:39:55.817Z"
   },
   {
    "duration": 28,
    "start_time": "2022-02-12T15:39:56.210Z"
   },
   {
    "duration": 75,
    "start_time": "2022-02-12T15:39:56.242Z"
   },
   {
    "duration": 239,
    "start_time": "2022-02-12T15:39:56.410Z"
   },
   {
    "duration": 17,
    "start_time": "2022-02-12T15:39:56.651Z"
   },
   {
    "duration": 34,
    "start_time": "2022-02-12T15:39:57.041Z"
   },
   {
    "duration": 203,
    "start_time": "2022-02-12T15:39:57.273Z"
   },
   {
    "duration": 285,
    "start_time": "2022-02-12T15:39:57.498Z"
   },
   {
    "duration": 10,
    "start_time": "2022-02-12T15:39:57.785Z"
   },
   {
    "duration": 12,
    "start_time": "2022-02-12T15:39:57.933Z"
   },
   {
    "duration": 1887,
    "start_time": "2022-02-12T15:40:28.962Z"
   },
   {
    "duration": 3,
    "start_time": "2022-02-12T15:40:30.852Z"
   },
   {
    "duration": 335,
    "start_time": "2022-02-12T15:40:30.871Z"
   },
   {
    "duration": 22,
    "start_time": "2022-02-12T15:40:31.209Z"
   },
   {
    "duration": 61,
    "start_time": "2022-02-12T15:40:32.115Z"
   },
   {
    "duration": 294,
    "start_time": "2022-02-12T15:40:32.549Z"
   },
   {
    "duration": 19,
    "start_time": "2022-02-12T15:40:32.906Z"
   },
   {
    "duration": 43,
    "start_time": "2022-02-12T15:40:33.459Z"
   },
   {
    "duration": 253,
    "start_time": "2022-02-12T15:40:33.893Z"
   },
   {
    "duration": 15,
    "start_time": "2022-02-12T15:40:34.299Z"
   },
   {
    "duration": 35,
    "start_time": "2022-02-12T15:40:34.706Z"
   },
   {
    "duration": 184,
    "start_time": "2022-02-12T15:40:34.947Z"
   },
   {
    "duration": 201,
    "start_time": "2022-02-12T15:40:35.355Z"
   },
   {
    "duration": 10,
    "start_time": "2022-02-12T15:40:36.247Z"
   },
   {
    "duration": 12,
    "start_time": "2022-02-12T15:40:39.226Z"
   },
   {
    "duration": 7,
    "start_time": "2022-02-12T15:46:01.953Z"
   },
   {
    "duration": 324,
    "start_time": "2022-02-12T15:48:22.929Z"
   },
   {
    "duration": 1617,
    "start_time": "2022-02-12T15:48:31.383Z"
   },
   {
    "duration": 4,
    "start_time": "2022-02-12T15:48:33.003Z"
   },
   {
    "duration": 392,
    "start_time": "2022-02-12T15:48:33.010Z"
   },
   {
    "duration": 34,
    "start_time": "2022-02-12T15:48:33.405Z"
   },
   {
    "duration": 100,
    "start_time": "2022-02-12T15:48:33.442Z"
   },
   {
    "duration": 298,
    "start_time": "2022-02-12T15:48:33.545Z"
   },
   {
    "duration": 31,
    "start_time": "2022-02-12T15:48:33.846Z"
   },
   {
    "duration": 44,
    "start_time": "2022-02-12T15:48:33.881Z"
   },
   {
    "duration": 277,
    "start_time": "2022-02-12T15:48:33.928Z"
   },
   {
    "duration": 23,
    "start_time": "2022-02-12T15:48:34.208Z"
   },
   {
    "duration": 55,
    "start_time": "2022-02-12T15:48:34.233Z"
   },
   {
    "duration": 222,
    "start_time": "2022-02-12T15:48:34.291Z"
   },
   {
    "duration": 227,
    "start_time": "2022-02-12T15:48:34.515Z"
   },
   {
    "duration": 9,
    "start_time": "2022-02-12T15:48:34.746Z"
   },
   {
    "duration": 13,
    "start_time": "2022-02-12T15:48:34.758Z"
   },
   {
    "duration": 330,
    "start_time": "2022-02-12T15:50:26.239Z"
   },
   {
    "duration": 1601,
    "start_time": "2022-02-12T15:50:36.494Z"
   },
   {
    "duration": 4,
    "start_time": "2022-02-12T15:50:38.097Z"
   },
   {
    "duration": 382,
    "start_time": "2022-02-12T15:50:38.106Z"
   },
   {
    "duration": 29,
    "start_time": "2022-02-12T15:50:38.491Z"
   },
   {
    "duration": 84,
    "start_time": "2022-02-12T15:50:38.523Z"
   },
   {
    "duration": 341,
    "start_time": "2022-02-12T15:50:38.610Z"
   },
   {
    "duration": 37,
    "start_time": "2022-02-12T15:50:38.954Z"
   },
   {
    "duration": 76,
    "start_time": "2022-02-12T15:50:38.996Z"
   },
   {
    "duration": 296,
    "start_time": "2022-02-12T15:50:39.078Z"
   },
   {
    "duration": 17,
    "start_time": "2022-02-12T15:50:39.376Z"
   },
   {
    "duration": 41,
    "start_time": "2022-02-12T15:50:39.396Z"
   },
   {
    "duration": 226,
    "start_time": "2022-02-12T15:50:39.440Z"
   },
   {
    "duration": 207,
    "start_time": "2022-02-12T15:50:39.669Z"
   },
   {
    "duration": 12,
    "start_time": "2022-02-12T15:50:40.320Z"
   },
   {
    "duration": 12,
    "start_time": "2022-02-12T15:50:40.542Z"
   },
   {
    "duration": 337,
    "start_time": "2022-02-12T15:54:24.826Z"
   },
   {
    "duration": 1565,
    "start_time": "2022-02-12T15:54:31.459Z"
   },
   {
    "duration": 4,
    "start_time": "2022-02-12T15:54:33.027Z"
   },
   {
    "duration": 324,
    "start_time": "2022-02-12T15:54:33.033Z"
   },
   {
    "duration": 38,
    "start_time": "2022-02-12T15:54:33.361Z"
   },
   {
    "duration": 100,
    "start_time": "2022-02-12T15:54:33.402Z"
   },
   {
    "duration": 358,
    "start_time": "2022-02-12T15:54:33.505Z"
   },
   {
    "duration": 27,
    "start_time": "2022-02-12T15:54:33.870Z"
   },
   {
    "duration": 79,
    "start_time": "2022-02-12T15:54:33.901Z"
   },
   {
    "duration": 281,
    "start_time": "2022-02-12T15:54:33.984Z"
   },
   {
    "duration": 23,
    "start_time": "2022-02-12T15:54:34.270Z"
   },
   {
    "duration": 48,
    "start_time": "2022-02-12T15:54:34.296Z"
   },
   {
    "duration": 233,
    "start_time": "2022-02-12T15:54:34.348Z"
   },
   {
    "duration": 232,
    "start_time": "2022-02-12T15:54:34.585Z"
   },
   {
    "duration": 9,
    "start_time": "2022-02-12T15:54:34.842Z"
   },
   {
    "duration": 14,
    "start_time": "2022-02-12T15:54:35.779Z"
   },
   {
    "duration": 339,
    "start_time": "2022-02-12T15:54:36.058Z"
   },
   {
    "duration": 87,
    "start_time": "2022-02-12T15:57:57.178Z"
   },
   {
    "duration": 1482,
    "start_time": "2022-02-12T15:58:06.425Z"
   },
   {
    "duration": 326,
    "start_time": "2022-02-12T16:00:50.375Z"
   },
   {
    "duration": 1547,
    "start_time": "2022-02-12T16:01:33.856Z"
   },
   {
    "duration": 4,
    "start_time": "2022-02-12T16:01:35.406Z"
   },
   {
    "duration": 333,
    "start_time": "2022-02-12T16:01:35.412Z"
   },
   {
    "duration": 28,
    "start_time": "2022-02-12T16:01:35.748Z"
   },
   {
    "duration": 63,
    "start_time": "2022-02-12T16:01:35.779Z"
   },
   {
    "duration": 360,
    "start_time": "2022-02-12T16:01:35.845Z"
   },
   {
    "duration": 18,
    "start_time": "2022-02-12T16:01:36.208Z"
   },
   {
    "duration": 75,
    "start_time": "2022-02-12T16:01:36.228Z"
   },
   {
    "duration": 233,
    "start_time": "2022-02-12T16:01:36.307Z"
   },
   {
    "duration": 29,
    "start_time": "2022-02-12T16:01:36.544Z"
   },
   {
    "duration": 42,
    "start_time": "2022-02-12T16:01:36.581Z"
   },
   {
    "duration": 184,
    "start_time": "2022-02-12T16:01:36.626Z"
   },
   {
    "duration": 198,
    "start_time": "2022-02-12T16:01:36.812Z"
   },
   {
    "duration": 9,
    "start_time": "2022-02-12T16:01:37.013Z"
   },
   {
    "duration": 13,
    "start_time": "2022-02-12T16:01:37.025Z"
   },
   {
    "duration": 326,
    "start_time": "2022-02-12T16:01:51.765Z"
   },
   {
    "duration": 1674,
    "start_time": "2022-02-12T16:01:58.029Z"
   },
   {
    "duration": 4,
    "start_time": "2022-02-12T16:01:59.706Z"
   },
   {
    "duration": 369,
    "start_time": "2022-02-12T16:01:59.714Z"
   },
   {
    "duration": 26,
    "start_time": "2022-02-12T16:02:00.086Z"
   },
   {
    "duration": 93,
    "start_time": "2022-02-12T16:02:00.115Z"
   },
   {
    "duration": 302,
    "start_time": "2022-02-12T16:02:00.211Z"
   },
   {
    "duration": 19,
    "start_time": "2022-02-12T16:02:00.516Z"
   },
   {
    "duration": 67,
    "start_time": "2022-02-12T16:02:00.537Z"
   },
   {
    "duration": 246,
    "start_time": "2022-02-12T16:02:00.607Z"
   },
   {
    "duration": 18,
    "start_time": "2022-02-12T16:02:00.856Z"
   },
   {
    "duration": 43,
    "start_time": "2022-02-12T16:02:01.270Z"
   },
   {
    "duration": 191,
    "start_time": "2022-02-12T16:02:01.485Z"
   },
   {
    "duration": 210,
    "start_time": "2022-02-12T16:02:01.686Z"
   },
   {
    "duration": 9,
    "start_time": "2022-02-12T16:02:01.899Z"
   },
   {
    "duration": 14,
    "start_time": "2022-02-12T16:02:02.580Z"
   },
   {
    "duration": 326,
    "start_time": "2022-02-12T16:02:09.760Z"
   },
   {
    "duration": 270,
    "start_time": "2022-02-12T16:02:21.167Z"
   },
   {
    "duration": 1562,
    "start_time": "2022-02-12T16:02:28.965Z"
   },
   {
    "duration": 3,
    "start_time": "2022-02-12T16:02:30.530Z"
   },
   {
    "duration": 348,
    "start_time": "2022-02-12T16:02:30.536Z"
   },
   {
    "duration": 22,
    "start_time": "2022-02-12T16:02:30.887Z"
   },
   {
    "duration": 81,
    "start_time": "2022-02-12T16:02:30.911Z"
   },
   {
    "duration": 318,
    "start_time": "2022-02-12T16:02:30.995Z"
   },
   {
    "duration": 18,
    "start_time": "2022-02-12T16:02:31.316Z"
   },
   {
    "duration": 65,
    "start_time": "2022-02-12T16:02:31.338Z"
   },
   {
    "duration": 253,
    "start_time": "2022-02-12T16:02:31.405Z"
   },
   {
    "duration": 16,
    "start_time": "2022-02-12T16:02:31.661Z"
   },
   {
    "duration": 38,
    "start_time": "2022-02-12T16:02:31.682Z"
   },
   {
    "duration": 229,
    "start_time": "2022-02-12T16:02:31.723Z"
   },
   {
    "duration": 208,
    "start_time": "2022-02-12T16:02:31.955Z"
   },
   {
    "duration": 14,
    "start_time": "2022-02-12T16:02:32.166Z"
   },
   {
    "duration": 14,
    "start_time": "2022-02-12T16:02:32.278Z"
   },
   {
    "duration": 336,
    "start_time": "2022-02-12T16:06:16.297Z"
   },
   {
    "duration": 1691,
    "start_time": "2022-02-12T16:06:23.412Z"
   },
   {
    "duration": 4,
    "start_time": "2022-02-12T16:06:25.106Z"
   },
   {
    "duration": 362,
    "start_time": "2022-02-12T16:06:25.113Z"
   },
   {
    "duration": 29,
    "start_time": "2022-02-12T16:06:25.481Z"
   },
   {
    "duration": 73,
    "start_time": "2022-02-12T16:06:25.512Z"
   },
   {
    "duration": 298,
    "start_time": "2022-02-12T16:06:25.588Z"
   },
   {
    "duration": 21,
    "start_time": "2022-02-12T16:06:25.888Z"
   },
   {
    "duration": 76,
    "start_time": "2022-02-12T16:06:25.913Z"
   },
   {
    "duration": 258,
    "start_time": "2022-02-12T16:06:25.998Z"
   },
   {
    "duration": 15,
    "start_time": "2022-02-12T16:06:26.258Z"
   },
   {
    "duration": 41,
    "start_time": "2022-02-12T16:06:26.276Z"
   },
   {
    "duration": 179,
    "start_time": "2022-02-12T16:06:26.320Z"
   },
   {
    "duration": 195,
    "start_time": "2022-02-12T16:06:26.794Z"
   },
   {
    "duration": 10,
    "start_time": "2022-02-12T16:06:27.010Z"
   },
   {
    "duration": 13,
    "start_time": "2022-02-12T16:06:27.196Z"
   },
   {
    "duration": 525,
    "start_time": "2022-02-12T16:06:54.764Z"
   },
   {
    "duration": 1867,
    "start_time": "2022-02-12T16:07:00.602Z"
   },
   {
    "duration": 7,
    "start_time": "2022-02-12T16:07:02.472Z"
   },
   {
    "duration": 511,
    "start_time": "2022-02-12T16:07:02.485Z"
   },
   {
    "duration": 32,
    "start_time": "2022-02-12T16:07:03.000Z"
   },
   {
    "duration": 80,
    "start_time": "2022-02-12T16:07:03.035Z"
   },
   {
    "duration": 406,
    "start_time": "2022-02-12T16:07:03.118Z"
   },
   {
    "duration": 19,
    "start_time": "2022-02-12T16:07:03.527Z"
   },
   {
    "duration": 68,
    "start_time": "2022-02-12T16:07:03.551Z"
   },
   {
    "duration": 386,
    "start_time": "2022-02-12T16:07:03.623Z"
   },
   {
    "duration": 18,
    "start_time": "2022-02-12T16:07:04.012Z"
   },
   {
    "duration": 66,
    "start_time": "2022-02-12T16:07:04.033Z"
   },
   {
    "duration": 393,
    "start_time": "2022-02-12T16:07:04.101Z"
   },
   {
    "duration": 309,
    "start_time": "2022-02-12T16:07:04.497Z"
   },
   {
    "duration": 10,
    "start_time": "2022-02-12T16:07:04.809Z"
   },
   {
    "duration": 17,
    "start_time": "2022-02-12T16:07:04.823Z"
   },
   {
    "duration": 1506,
    "start_time": "2022-02-12T16:07:04.843Z"
   },
   {
    "duration": 567,
    "start_time": "2022-02-12T16:07:06.352Z"
   },
   {
    "duration": 351,
    "start_time": "2022-02-12T16:08:56.117Z"
   },
   {
    "duration": 1557,
    "start_time": "2022-02-12T16:09:15.243Z"
   },
   {
    "duration": 5,
    "start_time": "2022-02-12T16:09:16.803Z"
   },
   {
    "duration": 383,
    "start_time": "2022-02-12T16:09:16.813Z"
   },
   {
    "duration": 33,
    "start_time": "2022-02-12T16:09:17.199Z"
   },
   {
    "duration": 81,
    "start_time": "2022-02-12T16:09:17.234Z"
   },
   {
    "duration": 301,
    "start_time": "2022-02-12T16:09:17.318Z"
   },
   {
    "duration": 18,
    "start_time": "2022-02-12T16:09:17.621Z"
   },
   {
    "duration": 72,
    "start_time": "2022-02-12T16:09:17.642Z"
   },
   {
    "duration": 246,
    "start_time": "2022-02-12T16:09:17.717Z"
   },
   {
    "duration": 20,
    "start_time": "2022-02-12T16:09:17.966Z"
   },
   {
    "duration": 37,
    "start_time": "2022-02-12T16:09:17.989Z"
   },
   {
    "duration": 197,
    "start_time": "2022-02-12T16:09:18.195Z"
   },
   {
    "duration": 204,
    "start_time": "2022-02-12T16:09:18.457Z"
   },
   {
    "duration": 10,
    "start_time": "2022-02-12T16:09:19.106Z"
   },
   {
    "duration": 12,
    "start_time": "2022-02-12T16:09:19.632Z"
   },
   {
    "duration": 1525,
    "start_time": "2022-02-12T16:09:19.652Z"
   },
   {
    "duration": 4,
    "start_time": "2022-02-12T16:09:21.180Z"
   },
   {
    "duration": 359,
    "start_time": "2022-02-12T16:19:58.490Z"
   },
   {
    "duration": 1492,
    "start_time": "2022-02-12T16:20:09.724Z"
   },
   {
    "duration": 4,
    "start_time": "2022-02-12T16:20:11.220Z"
   },
   {
    "duration": 329,
    "start_time": "2022-02-12T16:20:11.227Z"
   },
   {
    "duration": 33,
    "start_time": "2022-02-12T16:20:11.558Z"
   },
   {
    "duration": 58,
    "start_time": "2022-02-12T16:20:11.593Z"
   },
   {
    "duration": 356,
    "start_time": "2022-02-12T16:20:11.653Z"
   },
   {
    "duration": 55,
    "start_time": "2022-02-12T16:20:12.013Z"
   },
   {
    "duration": 50,
    "start_time": "2022-02-12T16:20:13.839Z"
   },
   {
    "duration": 278,
    "start_time": "2022-02-12T16:20:15.687Z"
   },
   {
    "duration": 22,
    "start_time": "2022-02-12T16:20:16.838Z"
   },
   {
    "duration": 36,
    "start_time": "2022-02-12T16:20:18.704Z"
   },
   {
    "duration": 17,
    "start_time": "2022-02-12T16:20:21.343Z"
   },
   {
    "duration": 26,
    "start_time": "2022-02-12T16:20:55.062Z"
   },
   {
    "duration": 25,
    "start_time": "2022-02-12T16:22:23.615Z"
   },
   {
    "duration": 27,
    "start_time": "2022-02-12T16:23:39.054Z"
   },
   {
    "duration": 368,
    "start_time": "2022-02-14T15:14:28.716Z"
   },
   {
    "duration": 1531,
    "start_time": "2022-02-14T15:14:33.756Z"
   },
   {
    "duration": 4,
    "start_time": "2022-02-14T15:14:35.290Z"
   },
   {
    "duration": 345,
    "start_time": "2022-02-14T15:14:35.297Z"
   },
   {
    "duration": 22,
    "start_time": "2022-02-14T15:14:36.468Z"
   },
   {
    "duration": 20,
    "start_time": "2022-02-14T15:14:39.843Z"
   },
   {
    "duration": 32,
    "start_time": "2022-02-14T15:15:55.984Z"
   },
   {
    "duration": 30,
    "start_time": "2022-02-14T15:16:29.779Z"
   },
   {
    "duration": 343,
    "start_time": "2022-02-14T15:18:03.083Z"
   },
   {
    "duration": 57,
    "start_time": "2022-02-14T15:18:09.004Z"
   },
   {
    "duration": 37,
    "start_time": "2022-02-14T15:18:09.685Z"
   },
   {
    "duration": 298,
    "start_time": "2022-02-14T15:18:10.418Z"
   },
   {
    "duration": 18,
    "start_time": "2022-02-14T15:18:14.123Z"
   },
   {
    "duration": 25,
    "start_time": "2022-02-14T15:18:15.034Z"
   },
   {
    "duration": 44,
    "start_time": "2022-02-14T15:19:39.252Z"
   },
   {
    "duration": 33,
    "start_time": "2022-02-14T15:19:39.573Z"
   },
   {
    "duration": 351,
    "start_time": "2022-02-14T15:19:40.594Z"
   },
   {
    "duration": 31,
    "start_time": "2022-02-14T15:19:40.949Z"
   },
   {
    "duration": 25,
    "start_time": "2022-02-14T15:19:43.604Z"
   },
   {
    "duration": 45,
    "start_time": "2022-02-14T15:19:44.372Z"
   },
   {
    "duration": 20,
    "start_time": "2022-02-14T15:19:45.170Z"
   },
   {
    "duration": 262,
    "start_time": "2022-02-14T15:19:45.883Z"
   },
   {
    "duration": 15,
    "start_time": "2022-02-14T15:19:48.490Z"
   },
   {
    "duration": 19,
    "start_time": "2022-02-14T15:19:49.193Z"
   },
   {
    "duration": 36,
    "start_time": "2022-02-14T15:19:51.682Z"
   },
   {
    "duration": 275,
    "start_time": "2022-02-14T15:26:59.489Z"
   },
   {
    "duration": 296,
    "start_time": "2022-02-14T15:27:15.833Z"
   },
   {
    "duration": 279,
    "start_time": "2022-02-14T15:28:04.809Z"
   },
   {
    "duration": 7,
    "start_time": "2022-02-14T15:28:11.872Z"
   },
   {
    "duration": 289,
    "start_time": "2022-02-14T15:28:16.208Z"
   },
   {
    "duration": 10,
    "start_time": "2022-02-14T15:31:46.230Z"
   },
   {
    "duration": 260,
    "start_time": "2022-02-14T15:35:35.507Z"
   },
   {
    "duration": 25,
    "start_time": "2022-02-14T15:36:21.198Z"
   },
   {
    "duration": 24,
    "start_time": "2022-02-14T15:37:11.126Z"
   },
   {
    "duration": 29,
    "start_time": "2022-02-14T15:41:15.389Z"
   },
   {
    "duration": 43,
    "start_time": "2022-02-14T15:45:17.649Z"
   },
   {
    "duration": 464,
    "start_time": "2022-02-14T15:46:59.474Z"
   },
   {
    "duration": 572,
    "start_time": "2022-02-14T15:50:27.399Z"
   },
   {
    "duration": 20,
    "start_time": "2022-02-14T15:58:22.862Z"
   },
   {
    "duration": 40,
    "start_time": "2022-02-14T15:58:44.172Z"
   },
   {
    "duration": 338,
    "start_time": "2022-02-14T15:58:50.335Z"
   },
   {
    "duration": 61,
    "start_time": "2022-02-14T15:58:59.382Z"
   },
   {
    "duration": 14,
    "start_time": "2022-02-14T15:59:02.663Z"
   },
   {
    "duration": 16,
    "start_time": "2022-02-14T16:03:06.027Z"
   },
   {
    "duration": 14,
    "start_time": "2022-02-14T16:04:38.650Z"
   },
   {
    "duration": 12,
    "start_time": "2022-02-14T16:08:30.797Z"
   },
   {
    "duration": 68,
    "start_time": "2022-02-14T16:48:45.652Z"
   },
   {
    "duration": 9,
    "start_time": "2022-02-14T17:20:34.830Z"
   },
   {
    "duration": 288,
    "start_time": "2022-02-14T17:20:39.231Z"
   },
   {
    "duration": 195,
    "start_time": "2022-02-14T17:21:01.392Z"
   },
   {
    "duration": 206,
    "start_time": "2022-02-14T17:21:04.398Z"
   },
   {
    "duration": 10,
    "start_time": "2022-02-14T17:21:06.727Z"
   },
   {
    "duration": 12,
    "start_time": "2022-02-14T17:21:07.470Z"
   },
   {
    "duration": 21,
    "start_time": "2022-02-14T17:21:12.719Z"
   },
   {
    "duration": 281,
    "start_time": "2022-02-14T17:23:39.997Z"
   },
   {
    "duration": 23,
    "start_time": "2022-02-14T17:24:02.226Z"
   },
   {
    "duration": 8,
    "start_time": "2022-02-14T17:25:31.445Z"
   },
   {
    "duration": 17,
    "start_time": "2022-02-14T17:25:47.372Z"
   },
   {
    "duration": 1344,
    "start_time": "2022-02-14T17:27:11.628Z"
   },
   {
    "duration": 1519,
    "start_time": "2022-02-14T17:27:37.044Z"
   },
   {
    "duration": 6,
    "start_time": "2022-02-14T17:27:38.566Z"
   },
   {
    "duration": 307,
    "start_time": "2022-02-14T17:27:38.576Z"
   },
   {
    "duration": 23,
    "start_time": "2022-02-14T17:27:38.886Z"
   },
   {
    "duration": 27,
    "start_time": "2022-02-14T17:27:38.912Z"
   },
   {
    "duration": 81,
    "start_time": "2022-02-14T17:27:38.942Z"
   },
   {
    "duration": 11,
    "start_time": "2022-02-14T17:27:39.025Z"
   },
   {
    "duration": 53,
    "start_time": "2022-02-14T17:27:39.039Z"
   },
   {
    "duration": 284,
    "start_time": "2022-02-14T17:27:39.095Z"
   },
   {
    "duration": 18,
    "start_time": "2022-02-14T17:27:39.381Z"
   },
   {
    "duration": 23,
    "start_time": "2022-02-14T17:27:39.401Z"
   },
   {
    "duration": 71,
    "start_time": "2022-02-14T17:27:39.426Z"
   },
   {
    "duration": 27,
    "start_time": "2022-02-14T17:27:39.499Z"
   },
   {
    "duration": 233,
    "start_time": "2022-02-14T17:27:39.529Z"
   },
   {
    "duration": 14,
    "start_time": "2022-02-14T17:27:39.765Z"
   },
   {
    "duration": 24,
    "start_time": "2022-02-14T17:27:39.782Z"
   },
   {
    "duration": 32,
    "start_time": "2022-02-14T17:27:39.809Z"
   },
   {
    "duration": 43,
    "start_time": "2022-02-14T17:27:39.844Z"
   },
   {
    "duration": 179,
    "start_time": "2022-02-14T17:27:39.889Z"
   },
   {
    "duration": 202,
    "start_time": "2022-02-14T17:27:40.070Z"
   },
   {
    "duration": 9,
    "start_time": "2022-02-14T17:27:40.275Z"
   },
   {
    "duration": 16,
    "start_time": "2022-02-14T17:27:40.286Z"
   },
   {
    "duration": 86,
    "start_time": "2022-02-14T17:27:40.306Z"
   },
   {
    "duration": 9,
    "start_time": "2022-02-14T17:27:40.395Z"
   },
   {
    "duration": 517,
    "start_time": "2022-02-14T17:56:50.497Z"
   },
   {
    "duration": 283,
    "start_time": "2022-02-14T17:57:04.098Z"
   },
   {
    "duration": 244,
    "start_time": "2022-02-14T17:58:11.123Z"
   },
   {
    "duration": 22,
    "start_time": "2022-02-14T17:58:27.843Z"
   },
   {
    "duration": 18,
    "start_time": "2022-02-14T17:59:25.242Z"
   },
   {
    "duration": 89,
    "start_time": "2022-02-14T18:01:51.961Z"
   },
   {
    "duration": 18,
    "start_time": "2022-02-14T18:01:57.688Z"
   },
   {
    "duration": 10,
    "start_time": "2022-02-14T18:06:02.032Z"
   },
   {
    "duration": 266,
    "start_time": "2022-02-14T18:06:36.515Z"
   },
   {
    "duration": 8,
    "start_time": "2022-02-14T18:06:45.769Z"
   },
   {
    "duration": 295,
    "start_time": "2022-02-14T18:08:16.488Z"
   },
   {
    "duration": 304,
    "start_time": "2022-02-14T18:11:56.413Z"
   },
   {
    "duration": 7,
    "start_time": "2022-02-14T18:14:02.733Z"
   },
   {
    "duration": 6715,
    "start_time": "2022-02-14T18:16:47.948Z"
   },
   {
    "duration": 266,
    "start_time": "2022-02-14T18:19:03.578Z"
   },
   {
    "duration": 5,
    "start_time": "2022-02-14T19:06:16.618Z"
   },
   {
    "duration": 542,
    "start_time": "2022-02-14T19:06:17.323Z"
   },
   {
    "duration": 4,
    "start_time": "2022-02-14T19:06:35.221Z"
   },
   {
    "duration": 536,
    "start_time": "2022-02-14T19:06:36.696Z"
   },
   {
    "duration": 5,
    "start_time": "2022-02-14T19:07:09.977Z"
   },
   {
    "duration": 624,
    "start_time": "2022-02-14T19:07:10.577Z"
   },
   {
    "duration": 8,
    "start_time": "2022-02-14T19:19:07.514Z"
   },
   {
    "duration": 6671,
    "start_time": "2022-02-14T19:19:37.273Z"
   },
   {
    "duration": 18,
    "start_time": "2022-02-14T19:20:50.628Z"
   },
   {
    "duration": 17,
    "start_time": "2022-02-14T19:21:22.923Z"
   },
   {
    "duration": 23,
    "start_time": "2022-02-14T19:21:43.141Z"
   },
   {
    "duration": 104,
    "start_time": "2022-02-14T19:57:18.880Z"
   },
   {
    "duration": 10,
    "start_time": "2022-02-14T19:57:51.488Z"
   },
   {
    "duration": 144,
    "start_time": "2022-02-14T20:00:04.537Z"
   },
   {
    "duration": 6,
    "start_time": "2022-02-14T20:10:21.800Z"
   },
   {
    "duration": 142,
    "start_time": "2022-02-14T20:10:22.781Z"
   },
   {
    "duration": 145,
    "start_time": "2022-02-14T20:10:38.626Z"
   },
   {
    "duration": 18,
    "start_time": "2022-02-14T20:14:16.471Z"
   },
   {
    "duration": 14,
    "start_time": "2022-02-14T20:15:03.865Z"
   },
   {
    "duration": 746,
    "start_time": "2022-02-15T10:36:07.349Z"
   },
   {
    "duration": 1356,
    "start_time": "2022-02-15T10:36:14.636Z"
   },
   {
    "duration": 4,
    "start_time": "2022-02-15T10:36:15.995Z"
   },
   {
    "duration": 2943,
    "start_time": "2022-02-15T10:36:16.007Z"
   },
   {
    "duration": 17,
    "start_time": "2022-02-15T10:36:18.953Z"
   },
   {
    "duration": 28,
    "start_time": "2022-02-15T10:36:18.972Z"
   },
   {
    "duration": 22,
    "start_time": "2022-02-15T10:36:19.007Z"
   },
   {
    "duration": 47,
    "start_time": "2022-02-15T10:36:19.031Z"
   },
   {
    "duration": 7,
    "start_time": "2022-02-15T10:36:19.080Z"
   },
   {
    "duration": 39,
    "start_time": "2022-02-15T10:36:19.088Z"
   },
   {
    "duration": 452,
    "start_time": "2022-02-15T10:36:19.128Z"
   },
   {
    "duration": 14,
    "start_time": "2022-02-15T10:36:19.582Z"
   },
   {
    "duration": 30,
    "start_time": "2022-02-15T10:36:19.598Z"
   },
   {
    "duration": 31,
    "start_time": "2022-02-15T10:36:19.630Z"
   },
   {
    "duration": 19,
    "start_time": "2022-02-15T10:36:19.663Z"
   },
   {
    "duration": 226,
    "start_time": "2022-02-15T10:36:19.684Z"
   },
   {
    "duration": 14,
    "start_time": "2022-02-15T10:36:19.912Z"
   },
   {
    "duration": 15,
    "start_time": "2022-02-15T10:36:19.929Z"
   },
   {
    "duration": 31,
    "start_time": "2022-02-15T10:36:19.948Z"
   },
   {
    "duration": 37,
    "start_time": "2022-02-15T10:36:19.981Z"
   },
   {
    "duration": 207,
    "start_time": "2022-02-15T10:36:20.020Z"
   },
   {
    "duration": 200,
    "start_time": "2022-02-15T10:36:20.229Z"
   },
   {
    "duration": 6,
    "start_time": "2022-02-15T10:36:20.431Z"
   },
   {
    "duration": 24,
    "start_time": "2022-02-15T10:36:20.439Z"
   },
   {
    "duration": 53,
    "start_time": "2022-02-15T10:36:20.465Z"
   },
   {
    "duration": 7,
    "start_time": "2022-02-15T10:36:20.520Z"
   },
   {
    "duration": 15,
    "start_time": "2022-02-15T10:36:20.779Z"
   },
   {
    "duration": 7,
    "start_time": "2022-02-15T10:36:20.972Z"
   },
   {
    "duration": 98,
    "start_time": "2022-02-15T10:36:21.171Z"
   },
   {
    "duration": 8,
    "start_time": "2022-02-15T10:36:22.946Z"
   },
   {
    "duration": 18,
    "start_time": "2022-02-15T10:41:08.896Z"
   },
   {
    "duration": 312,
    "start_time": "2022-02-15T10:42:20.367Z"
   },
   {
    "duration": 4158,
    "start_time": "2022-02-15T10:43:00.640Z"
   },
   {
    "duration": 6,
    "start_time": "2022-02-15T10:45:37.103Z"
   },
   {
    "duration": 3,
    "start_time": "2022-02-15T10:45:37.518Z"
   },
   {
    "duration": 3253,
    "start_time": "2022-02-15T10:45:37.863Z"
   },
   {
    "duration": 313,
    "start_time": "2022-02-15T10:45:41.119Z"
   },
   {
    "duration": 21,
    "start_time": "2022-02-15T10:45:41.435Z"
   },
   {
    "duration": 13,
    "start_time": "2022-02-15T10:45:41.458Z"
   },
   {
    "duration": 51,
    "start_time": "2022-02-15T10:45:41.473Z"
   },
   {
    "duration": 41,
    "start_time": "2022-02-15T10:45:41.526Z"
   },
   {
    "duration": 7,
    "start_time": "2022-02-15T10:45:41.569Z"
   },
   {
    "duration": 45,
    "start_time": "2022-02-15T10:45:41.579Z"
   },
   {
    "duration": 257,
    "start_time": "2022-02-15T10:45:41.627Z"
   },
   {
    "duration": 24,
    "start_time": "2022-02-15T10:45:41.886Z"
   },
   {
    "duration": 25,
    "start_time": "2022-02-15T10:45:41.912Z"
   },
   {
    "duration": 34,
    "start_time": "2022-02-15T10:45:41.940Z"
   },
   {
    "duration": 44,
    "start_time": "2022-02-15T10:45:41.977Z"
   },
   {
    "duration": 229,
    "start_time": "2022-02-15T10:45:42.023Z"
   },
   {
    "duration": 12,
    "start_time": "2022-02-15T10:45:42.254Z"
   },
   {
    "duration": 22,
    "start_time": "2022-02-15T10:45:42.268Z"
   },
   {
    "duration": 39,
    "start_time": "2022-02-15T10:45:42.292Z"
   },
   {
    "duration": 19,
    "start_time": "2022-02-15T10:45:42.333Z"
   },
   {
    "duration": 186,
    "start_time": "2022-02-15T10:45:42.353Z"
   },
   {
    "duration": 194,
    "start_time": "2022-02-15T10:45:42.542Z"
   },
   {
    "duration": 8,
    "start_time": "2022-02-15T10:45:42.738Z"
   },
   {
    "duration": 12,
    "start_time": "2022-02-15T10:45:42.748Z"
   },
   {
    "duration": 46,
    "start_time": "2022-02-15T10:45:42.764Z"
   },
   {
    "duration": 7,
    "start_time": "2022-02-15T10:45:42.812Z"
   },
   {
    "duration": 22,
    "start_time": "2022-02-15T10:45:42.821Z"
   },
   {
    "duration": 5,
    "start_time": "2022-02-15T10:45:42.845Z"
   },
   {
    "duration": 118,
    "start_time": "2022-02-15T10:45:42.853Z"
   },
   {
    "duration": 20,
    "start_time": "2022-02-15T10:45:43.934Z"
   },
   {
    "duration": 356,
    "start_time": "2022-02-15T10:45:45.841Z"
   },
   {
    "duration": 426,
    "start_time": "2022-02-15T10:45:52.626Z"
   },
   {
    "duration": 285,
    "start_time": "2022-02-15T10:58:06.475Z"
   },
   {
    "duration": 1206,
    "start_time": "2022-02-15T10:58:13.836Z"
   },
   {
    "duration": 4,
    "start_time": "2022-02-15T10:58:16.507Z"
   },
   {
    "duration": 293,
    "start_time": "2022-02-15T10:58:23.179Z"
   },
   {
    "duration": 275,
    "start_time": "2022-02-15T10:58:34.446Z"
   },
   {
    "duration": 19,
    "start_time": "2022-02-15T10:58:34.731Z"
   },
   {
    "duration": 16,
    "start_time": "2022-02-15T10:58:34.971Z"
   },
   {
    "duration": 25,
    "start_time": "2022-02-15T10:58:35.419Z"
   },
   {
    "duration": 43,
    "start_time": "2022-02-15T10:58:35.627Z"
   },
   {
    "duration": 8,
    "start_time": "2022-02-15T10:58:35.923Z"
   },
   {
    "duration": 22,
    "start_time": "2022-02-15T10:58:36.163Z"
   },
   {
    "duration": 269,
    "start_time": "2022-02-15T10:58:36.355Z"
   },
   {
    "duration": 14,
    "start_time": "2022-02-15T10:58:36.627Z"
   },
   {
    "duration": 19,
    "start_time": "2022-02-15T10:58:36.739Z"
   },
   {
    "duration": 32,
    "start_time": "2022-02-15T10:58:37.659Z"
   },
   {
    "duration": 18,
    "start_time": "2022-02-15T10:58:37.827Z"
   },
   {
    "duration": 208,
    "start_time": "2022-02-15T10:58:38.328Z"
   },
   {
    "duration": 12,
    "start_time": "2022-02-15T10:58:38.538Z"
   },
   {
    "duration": 32,
    "start_time": "2022-02-15T10:58:38.552Z"
   },
   {
    "duration": 27,
    "start_time": "2022-02-15T10:58:38.659Z"
   },
   {
    "duration": 17,
    "start_time": "2022-02-15T10:58:38.835Z"
   },
   {
    "duration": 197,
    "start_time": "2022-02-15T10:58:39.011Z"
   },
   {
    "duration": 234,
    "start_time": "2022-02-15T10:58:39.210Z"
   },
   {
    "duration": 7,
    "start_time": "2022-02-15T10:58:39.447Z"
   },
   {
    "duration": 10,
    "start_time": "2022-02-15T10:58:39.539Z"
   },
   {
    "duration": 55,
    "start_time": "2022-02-15T10:58:40.089Z"
   },
   {
    "duration": 8,
    "start_time": "2022-02-15T10:58:40.813Z"
   },
   {
    "duration": 15,
    "start_time": "2022-02-15T10:58:41.267Z"
   },
   {
    "duration": 5,
    "start_time": "2022-02-15T10:58:41.460Z"
   },
   {
    "duration": 96,
    "start_time": "2022-02-15T10:58:42.067Z"
   },
   {
    "duration": 22,
    "start_time": "2022-02-15T10:58:44.395Z"
   },
   {
    "duration": 251,
    "start_time": "2022-02-15T10:58:45.051Z"
   },
   {
    "duration": 232,
    "start_time": "2022-02-15T11:00:55.512Z"
   },
   {
    "duration": 6,
    "start_time": "2022-02-15T11:08:18.530Z"
   },
   {
    "duration": 8,
    "start_time": "2022-02-15T11:12:24.103Z"
   },
   {
    "duration": 5,
    "start_time": "2022-02-15T11:25:26.571Z"
   },
   {
    "duration": 6,
    "start_time": "2022-02-15T11:25:43.122Z"
   },
   {
    "duration": 9,
    "start_time": "2022-02-15T11:26:18.220Z"
   },
   {
    "duration": 138,
    "start_time": "2022-02-15T11:55:48.654Z"
   },
   {
    "duration": 132,
    "start_time": "2022-02-15T11:56:11.733Z"
   },
   {
    "duration": 149,
    "start_time": "2022-02-15T11:56:32.381Z"
   },
   {
    "duration": 3,
    "start_time": "2022-02-15T12:02:06.587Z"
   },
   {
    "duration": 4,
    "start_time": "2022-02-15T12:02:24.954Z"
   },
   {
    "duration": 5,
    "start_time": "2022-02-15T12:07:56.592Z"
   },
   {
    "duration": 5,
    "start_time": "2022-02-15T12:08:54.582Z"
   },
   {
    "duration": 5,
    "start_time": "2022-02-15T12:11:58.351Z"
   },
   {
    "duration": 6,
    "start_time": "2022-02-15T12:13:42.376Z"
   },
   {
    "duration": 345,
    "start_time": "2022-02-15T12:18:12.944Z"
   },
   {
    "duration": 6,
    "start_time": "2022-02-15T12:18:37.750Z"
   },
   {
    "duration": 5,
    "start_time": "2022-02-15T12:19:29.967Z"
   },
   {
    "duration": 9,
    "start_time": "2022-02-15T12:19:32.821Z"
   },
   {
    "duration": 227,
    "start_time": "2022-02-15T12:23:54.531Z"
   },
   {
    "duration": 4,
    "start_time": "2022-02-15T12:26:09.091Z"
   },
   {
    "duration": 6,
    "start_time": "2022-02-15T12:28:31.921Z"
   },
   {
    "duration": 232,
    "start_time": "2022-02-15T12:41:12.805Z"
   },
   {
    "duration": 6,
    "start_time": "2022-02-15T12:41:50.998Z"
   },
   {
    "duration": 8,
    "start_time": "2022-02-15T12:42:11.449Z"
   },
   {
    "duration": 327,
    "start_time": "2022-02-15T14:56:44.426Z"
   },
   {
    "duration": 1536,
    "start_time": "2022-02-15T14:56:50.874Z"
   },
   {
    "duration": 5,
    "start_time": "2022-02-15T14:56:52.413Z"
   },
   {
    "duration": 4290,
    "start_time": "2022-02-15T14:56:52.421Z"
   },
   {
    "duration": 317,
    "start_time": "2022-02-15T14:56:56.714Z"
   },
   {
    "duration": 22,
    "start_time": "2022-02-15T14:56:57.034Z"
   },
   {
    "duration": 18,
    "start_time": "2022-02-15T14:56:57.070Z"
   },
   {
    "duration": 29,
    "start_time": "2022-02-15T14:56:57.090Z"
   },
   {
    "duration": 81,
    "start_time": "2022-02-15T14:56:57.123Z"
   },
   {
    "duration": 8,
    "start_time": "2022-02-15T14:56:57.208Z"
   },
   {
    "duration": 51,
    "start_time": "2022-02-15T14:56:57.218Z"
   },
   {
    "duration": 291,
    "start_time": "2022-02-15T14:56:57.271Z"
   },
   {
    "duration": 18,
    "start_time": "2022-02-15T14:56:57.569Z"
   },
   {
    "duration": 22,
    "start_time": "2022-02-15T14:56:57.590Z"
   },
   {
    "duration": 82,
    "start_time": "2022-02-15T14:56:57.615Z"
   },
   {
    "duration": 24,
    "start_time": "2022-02-15T14:56:57.700Z"
   },
   {
    "duration": 258,
    "start_time": "2022-02-15T14:56:57.726Z"
   },
   {
    "duration": 16,
    "start_time": "2022-02-15T14:56:57.986Z"
   },
   {
    "duration": 18,
    "start_time": "2022-02-15T14:56:58.004Z"
   },
   {
    "duration": 68,
    "start_time": "2022-02-15T14:56:58.025Z"
   },
   {
    "duration": 23,
    "start_time": "2022-02-15T14:56:58.095Z"
   },
   {
    "duration": 196,
    "start_time": "2022-02-15T14:56:58.121Z"
   },
   {
    "duration": 204,
    "start_time": "2022-02-15T14:56:58.319Z"
   },
   {
    "duration": 9,
    "start_time": "2022-02-15T14:56:58.529Z"
   },
   {
    "duration": 14,
    "start_time": "2022-02-15T14:56:58.541Z"
   },
   {
    "duration": 84,
    "start_time": "2022-02-15T14:56:58.557Z"
   },
   {
    "duration": 10,
    "start_time": "2022-02-15T14:56:58.644Z"
   },
   {
    "duration": 25,
    "start_time": "2022-02-15T14:56:58.669Z"
   },
   {
    "duration": 7,
    "start_time": "2022-02-15T14:56:58.697Z"
   },
   {
    "duration": 169,
    "start_time": "2022-02-15T14:56:58.706Z"
   },
   {
    "duration": 28,
    "start_time": "2022-02-15T14:56:58.878Z"
   },
   {
    "duration": 318,
    "start_time": "2022-02-15T14:56:58.909Z"
   },
   {
    "duration": 1612,
    "start_time": "2022-02-15T14:56:57.618Z"
   },
   {
    "duration": 1611,
    "start_time": "2022-02-15T14:56:57.620Z"
   },
   {
    "duration": 1611,
    "start_time": "2022-02-15T14:56:57.622Z"
   },
   {
    "duration": 1610,
    "start_time": "2022-02-15T14:56:57.624Z"
   },
   {
    "duration": 1610,
    "start_time": "2022-02-15T14:56:57.626Z"
   },
   {
    "duration": 1609,
    "start_time": "2022-02-15T14:56:57.628Z"
   },
   {
    "duration": 1604,
    "start_time": "2022-02-15T14:56:57.634Z"
   },
   {
    "duration": 1604,
    "start_time": "2022-02-15T14:56:57.636Z"
   },
   {
    "duration": 1604,
    "start_time": "2022-02-15T14:56:57.638Z"
   },
   {
    "duration": 1603,
    "start_time": "2022-02-15T14:56:57.640Z"
   },
   {
    "duration": 1603,
    "start_time": "2022-02-15T14:56:57.642Z"
   },
   {
    "duration": 1598,
    "start_time": "2022-02-15T14:56:57.648Z"
   },
   {
    "duration": 1596,
    "start_time": "2022-02-15T14:56:57.651Z"
   },
   {
    "duration": 1596,
    "start_time": "2022-02-15T14:56:57.653Z"
   },
   {
    "duration": 1595,
    "start_time": "2022-02-15T14:56:57.655Z"
   },
   {
    "duration": 1589,
    "start_time": "2022-02-15T14:56:57.662Z"
   },
   {
    "duration": 1589,
    "start_time": "2022-02-15T14:56:57.664Z"
   },
   {
    "duration": 1587,
    "start_time": "2022-02-15T14:56:57.667Z"
   },
   {
    "duration": 1586,
    "start_time": "2022-02-15T14:56:57.669Z"
   },
   {
    "duration": 1586,
    "start_time": "2022-02-15T14:56:57.671Z"
   },
   {
    "duration": 1585,
    "start_time": "2022-02-15T14:56:57.673Z"
   },
   {
    "duration": 260,
    "start_time": "2022-02-15T14:57:11.719Z"
   },
   {
    "duration": 8,
    "start_time": "2022-02-15T14:57:31.491Z"
   },
   {
    "duration": 4,
    "start_time": "2022-02-15T14:57:34.359Z"
   },
   {
    "duration": 328,
    "start_time": "2022-02-15T14:57:37.295Z"
   },
   {
    "duration": 21,
    "start_time": "2022-02-15T14:57:37.626Z"
   },
   {
    "duration": 13,
    "start_time": "2022-02-15T14:57:38.096Z"
   },
   {
    "duration": 29,
    "start_time": "2022-02-15T14:57:38.156Z"
   },
   {
    "duration": 51,
    "start_time": "2022-02-15T14:57:38.187Z"
   },
   {
    "duration": 30,
    "start_time": "2022-02-15T14:57:38.241Z"
   },
   {
    "duration": 27,
    "start_time": "2022-02-15T14:57:38.273Z"
   },
   {
    "duration": 344,
    "start_time": "2022-02-15T14:57:38.302Z"
   },
   {
    "duration": 26,
    "start_time": "2022-02-15T14:57:38.649Z"
   },
   {
    "duration": 24,
    "start_time": "2022-02-15T14:57:38.679Z"
   },
   {
    "duration": 76,
    "start_time": "2022-02-15T14:57:38.706Z"
   },
   {
    "duration": 21,
    "start_time": "2022-02-15T14:57:38.785Z"
   },
   {
    "duration": 262,
    "start_time": "2022-02-15T14:57:38.809Z"
   },
   {
    "duration": 16,
    "start_time": "2022-02-15T14:57:39.073Z"
   },
   {
    "duration": 21,
    "start_time": "2022-02-15T14:57:39.093Z"
   },
   {
    "duration": 62,
    "start_time": "2022-02-15T14:57:39.117Z"
   },
   {
    "duration": 24,
    "start_time": "2022-02-15T14:57:39.182Z"
   },
   {
    "duration": 189,
    "start_time": "2022-02-15T14:57:39.209Z"
   },
   {
    "duration": 225,
    "start_time": "2022-02-15T14:57:39.400Z"
   },
   {
    "duration": 9,
    "start_time": "2022-02-15T14:57:39.628Z"
   },
   {
    "duration": 14,
    "start_time": "2022-02-15T14:57:39.640Z"
   },
   {
    "duration": 71,
    "start_time": "2022-02-15T14:57:39.657Z"
   },
   {
    "duration": 9,
    "start_time": "2022-02-15T14:57:39.731Z"
   },
   {
    "duration": 40,
    "start_time": "2022-02-15T14:57:39.743Z"
   },
   {
    "duration": 7,
    "start_time": "2022-02-15T14:57:39.786Z"
   },
   {
    "duration": 174,
    "start_time": "2022-02-15T14:57:39.795Z"
   },
   {
    "duration": 25,
    "start_time": "2022-02-15T14:57:39.971Z"
   },
   {
    "duration": 275,
    "start_time": "2022-02-15T14:57:40.000Z"
   },
   {
    "duration": 1621,
    "start_time": "2022-02-15T14:57:38.656Z"
   },
   {
    "duration": 1619,
    "start_time": "2022-02-15T14:57:38.659Z"
   },
   {
    "duration": 1619,
    "start_time": "2022-02-15T14:57:38.661Z"
   },
   {
    "duration": 1618,
    "start_time": "2022-02-15T14:57:38.663Z"
   },
   {
    "duration": 1618,
    "start_time": "2022-02-15T14:57:38.665Z"
   },
   {
    "duration": 272,
    "start_time": "2022-02-15T14:57:54.967Z"
   },
   {
    "duration": 3456,
    "start_time": "2022-02-15T14:58:00.702Z"
   },
   {
    "duration": 263,
    "start_time": "2022-02-15T14:58:23.063Z"
   },
   {
    "duration": 1478,
    "start_time": "2022-02-15T14:59:29.342Z"
   },
   {
    "duration": 4,
    "start_time": "2022-02-15T14:59:30.822Z"
   },
   {
    "duration": 334,
    "start_time": "2022-02-15T14:59:35.116Z"
   },
   {
    "duration": 24,
    "start_time": "2022-02-15T14:59:41.307Z"
   },
   {
    "duration": 27,
    "start_time": "2022-02-15T14:59:41.817Z"
   },
   {
    "duration": 49,
    "start_time": "2022-02-15T14:59:41.880Z"
   },
   {
    "duration": 91,
    "start_time": "2022-02-15T14:59:41.933Z"
   },
   {
    "duration": 11,
    "start_time": "2022-02-15T14:59:42.028Z"
   },
   {
    "duration": 50,
    "start_time": "2022-02-15T14:59:42.042Z"
   },
   {
    "duration": 289,
    "start_time": "2022-02-15T14:59:42.094Z"
   },
   {
    "duration": 18,
    "start_time": "2022-02-15T14:59:42.385Z"
   },
   {
    "duration": 31,
    "start_time": "2022-02-15T14:59:42.405Z"
   },
   {
    "duration": 63,
    "start_time": "2022-02-15T14:59:42.438Z"
   },
   {
    "duration": 22,
    "start_time": "2022-02-15T14:59:42.504Z"
   },
   {
    "duration": 241,
    "start_time": "2022-02-15T14:59:42.529Z"
   },
   {
    "duration": 14,
    "start_time": "2022-02-15T14:59:42.774Z"
   },
   {
    "duration": 19,
    "start_time": "2022-02-15T14:59:42.791Z"
   },
   {
    "duration": 61,
    "start_time": "2022-02-15T14:59:42.812Z"
   },
   {
    "duration": 23,
    "start_time": "2022-02-15T14:59:42.875Z"
   },
   {
    "duration": 190,
    "start_time": "2022-02-15T14:59:42.900Z"
   },
   {
    "duration": 195,
    "start_time": "2022-02-15T14:59:43.093Z"
   },
   {
    "duration": 9,
    "start_time": "2022-02-15T14:59:43.291Z"
   },
   {
    "duration": 14,
    "start_time": "2022-02-15T14:59:43.302Z"
   },
   {
    "duration": 90,
    "start_time": "2022-02-15T14:59:43.319Z"
   },
   {
    "duration": 9,
    "start_time": "2022-02-15T14:59:43.412Z"
   },
   {
    "duration": 45,
    "start_time": "2022-02-15T14:59:43.424Z"
   },
   {
    "duration": 8,
    "start_time": "2022-02-15T14:59:43.472Z"
   },
   {
    "duration": 161,
    "start_time": "2022-02-15T14:59:43.482Z"
   },
   {
    "duration": 37,
    "start_time": "2022-02-15T14:59:43.647Z"
   },
   {
    "duration": 421,
    "start_time": "2022-02-15T14:59:43.687Z"
   },
   {
    "duration": 7,
    "start_time": "2022-02-15T14:59:44.110Z"
   },
   {
    "duration": 19,
    "start_time": "2022-02-15T14:59:44.119Z"
   },
   {
    "duration": 232,
    "start_time": "2022-02-15T14:59:44.140Z"
   },
   {
    "duration": 5,
    "start_time": "2022-02-15T14:59:44.374Z"
   },
   {
    "duration": 18,
    "start_time": "2022-02-15T14:59:44.381Z"
   },
   {
    "duration": 373,
    "start_time": "2022-02-15T14:59:44.401Z"
   },
   {
    "duration": 7,
    "start_time": "2022-02-15T14:59:44.776Z"
   },
   {
    "duration": 31,
    "start_time": "2022-02-15T14:59:44.786Z"
   },
   {
    "duration": 225,
    "start_time": "2022-02-15T14:59:44.820Z"
   },
   {
    "duration": 5,
    "start_time": "2022-02-15T14:59:45.047Z"
   },
   {
    "duration": 13,
    "start_time": "2022-02-15T14:59:45.069Z"
   },
   {
    "duration": 396,
    "start_time": "2022-02-15T14:59:45.085Z"
   },
   {
    "duration": 7,
    "start_time": "2022-02-15T14:59:49.894Z"
   },
   {
    "duration": 12,
    "start_time": "2022-02-15T14:59:50.406Z"
   },
   {
    "duration": 219,
    "start_time": "2022-02-15T14:59:50.468Z"
   },
   {
    "duration": 6,
    "start_time": "2022-02-15T14:59:50.690Z"
   },
   {
    "duration": 17,
    "start_time": "2022-02-15T14:59:50.699Z"
   },
   {
    "duration": 452,
    "start_time": "2022-02-15T14:59:50.719Z"
   },
   {
    "duration": 8,
    "start_time": "2022-02-15T14:59:51.174Z"
   },
   {
    "duration": 23,
    "start_time": "2022-02-15T14:59:51.184Z"
   },
   {
    "duration": 223,
    "start_time": "2022-02-15T14:59:51.210Z"
   },
   {
    "duration": 5,
    "start_time": "2022-02-15T15:00:20.260Z"
   },
   {
    "duration": 6,
    "start_time": "2022-02-15T15:01:35.627Z"
   },
   {
    "duration": 7,
    "start_time": "2022-02-15T15:02:23.261Z"
   },
   {
    "duration": 444,
    "start_time": "2022-02-15T15:34:36.038Z"
   },
   {
    "duration": 9,
    "start_time": "2022-02-15T15:36:03.461Z"
   },
   {
    "duration": 6,
    "start_time": "2022-02-15T15:36:28.328Z"
   },
   {
    "duration": 10,
    "start_time": "2022-02-15T15:36:52.725Z"
   },
   {
    "duration": 355,
    "start_time": "2022-02-15T15:48:39.761Z"
   },
   {
    "duration": 229,
    "start_time": "2022-02-15T15:50:39.206Z"
   },
   {
    "duration": 417,
    "start_time": "2022-02-15T15:52:49.183Z"
   },
   {
    "duration": 6,
    "start_time": "2022-02-15T15:52:55.320Z"
   },
   {
    "duration": 7,
    "start_time": "2022-02-15T15:52:57.105Z"
   },
   {
    "duration": 6,
    "start_time": "2022-02-15T15:55:39.337Z"
   },
   {
    "duration": 11,
    "start_time": "2022-02-15T15:55:42.023Z"
   },
   {
    "duration": 208,
    "start_time": "2022-02-15T16:07:05.072Z"
   },
   {
    "duration": 5,
    "start_time": "2022-02-15T16:07:12.045Z"
   },
   {
    "duration": 6,
    "start_time": "2022-02-15T16:07:14.994Z"
   },
   {
    "duration": 6,
    "start_time": "2022-02-15T18:28:51.730Z"
   },
   {
    "duration": 6,
    "start_time": "2022-02-15T18:29:09.671Z"
   },
   {
    "duration": 291,
    "start_time": "2022-02-15T18:40:30.106Z"
   },
   {
    "duration": 6,
    "start_time": "2022-02-15T18:42:33.812Z"
   },
   {
    "duration": 5,
    "start_time": "2022-02-15T18:42:40.124Z"
   },
   {
    "duration": 4,
    "start_time": "2022-02-15T18:42:42.987Z"
   },
   {
    "duration": 277,
    "start_time": "2022-02-15T18:42:45.715Z"
   },
   {
    "duration": 5,
    "start_time": "2022-02-15T18:42:50.849Z"
   },
   {
    "duration": 5,
    "start_time": "2022-02-15T18:42:54.115Z"
   },
   {
    "duration": 7,
    "start_time": "2022-02-15T18:52:20.827Z"
   },
   {
    "duration": 6,
    "start_time": "2022-02-15T18:53:33.551Z"
   },
   {
    "duration": 7,
    "start_time": "2022-02-15T18:56:12.680Z"
   },
   {
    "duration": 7,
    "start_time": "2022-02-15T18:56:45.556Z"
   },
   {
    "duration": 36,
    "start_time": "2022-02-15T18:59:11.105Z"
   },
   {
    "duration": 6,
    "start_time": "2022-02-15T18:59:49.101Z"
   },
   {
    "duration": 16,
    "start_time": "2022-02-15T19:23:30.857Z"
   },
   {
    "duration": 12,
    "start_time": "2022-02-15T19:23:33.196Z"
   },
   {
    "duration": 14,
    "start_time": "2022-02-15T19:24:17.715Z"
   },
   {
    "duration": 7,
    "start_time": "2022-02-15T19:25:50.923Z"
   },
   {
    "duration": 8,
    "start_time": "2022-02-15T19:28:42.472Z"
   },
   {
    "duration": 7,
    "start_time": "2022-02-15T19:28:56.873Z"
   },
   {
    "duration": 6,
    "start_time": "2022-02-15T19:29:38.075Z"
   },
   {
    "duration": 5,
    "start_time": "2022-02-15T19:47:42.658Z"
   },
   {
    "duration": 6,
    "start_time": "2022-02-15T19:48:50.394Z"
   },
   {
    "duration": 5,
    "start_time": "2022-02-15T19:48:50.716Z"
   },
   {
    "duration": 4,
    "start_time": "2022-02-15T19:48:51.354Z"
   },
   {
    "duration": 13,
    "start_time": "2022-02-15T19:49:05.632Z"
   },
   {
    "duration": 13,
    "start_time": "2022-02-15T19:49:06.002Z"
   },
   {
    "duration": 15,
    "start_time": "2022-02-15T19:49:10.465Z"
   },
   {
    "duration": 8,
    "start_time": "2022-02-15T19:49:13.858Z"
   },
   {
    "duration": 7,
    "start_time": "2022-02-15T19:49:15.034Z"
   },
   {
    "duration": 9,
    "start_time": "2022-02-15T19:49:15.554Z"
   },
   {
    "duration": 8,
    "start_time": "2022-02-15T19:49:25.667Z"
   },
   {
    "duration": 5,
    "start_time": "2022-02-15T19:49:27.823Z"
   },
   {
    "duration": 5,
    "start_time": "2022-02-15T19:49:29.297Z"
   },
   {
    "duration": 5,
    "start_time": "2022-02-15T19:49:53.417Z"
   },
   {
    "duration": 6,
    "start_time": "2022-02-15T20:17:39.001Z"
   },
   {
    "duration": 78,
    "start_time": "2022-02-15T20:18:21.224Z"
   },
   {
    "duration": 6,
    "start_time": "2022-02-15T20:19:50.480Z"
   },
   {
    "duration": 7,
    "start_time": "2022-02-15T20:27:12.851Z"
   },
   {
    "duration": 9,
    "start_time": "2022-02-15T20:31:23.011Z"
   },
   {
    "duration": 8,
    "start_time": "2022-02-15T20:42:27.111Z"
   },
   {
    "duration": 6,
    "start_time": "2022-02-15T20:42:51.384Z"
   },
   {
    "duration": 8,
    "start_time": "2022-02-15T20:43:42.158Z"
   },
   {
    "duration": 5,
    "start_time": "2022-02-15T20:49:59.622Z"
   },
   {
    "duration": 6,
    "start_time": "2022-02-15T20:50:12.592Z"
   },
   {
    "duration": 5,
    "start_time": "2022-02-15T20:50:13.118Z"
   },
   {
    "duration": 5,
    "start_time": "2022-02-15T20:50:14.931Z"
   },
   {
    "duration": 1161,
    "start_time": "2022-02-16T17:20:55.202Z"
   },
   {
    "duration": 3,
    "start_time": "2022-02-16T17:20:56.364Z"
   },
   {
    "duration": 105522,
    "start_time": "2022-02-16T17:20:56.369Z"
   },
   {
    "duration": 221,
    "start_time": "2022-02-16T17:22:41.894Z"
   },
   {
    "duration": 18,
    "start_time": "2022-02-16T17:22:42.117Z"
   },
   {
    "duration": 13,
    "start_time": "2022-02-16T17:22:42.137Z"
   },
   {
    "duration": 22,
    "start_time": "2022-02-16T17:22:42.152Z"
   },
   {
    "duration": 61,
    "start_time": "2022-02-16T17:22:42.178Z"
   },
   {
    "duration": 7,
    "start_time": "2022-02-16T17:22:42.241Z"
   },
   {
    "duration": 28,
    "start_time": "2022-02-16T17:22:42.249Z"
   },
   {
    "duration": 1089,
    "start_time": "2022-02-16T17:22:42.279Z"
   },
   {
    "duration": 13,
    "start_time": "2022-02-16T17:22:43.370Z"
   },
   {
    "duration": 20,
    "start_time": "2022-02-16T17:22:43.385Z"
   },
   {
    "duration": 45,
    "start_time": "2022-02-16T17:22:43.406Z"
   },
   {
    "duration": 17,
    "start_time": "2022-02-16T17:22:43.453Z"
   },
   {
    "duration": 151,
    "start_time": "2022-02-16T17:22:43.471Z"
   },
   {
    "duration": 11,
    "start_time": "2022-02-16T17:22:43.624Z"
   },
   {
    "duration": 14,
    "start_time": "2022-02-16T17:22:43.637Z"
   },
   {
    "duration": 24,
    "start_time": "2022-02-16T17:22:43.653Z"
   },
   {
    "duration": 14,
    "start_time": "2022-02-16T17:22:43.679Z"
   },
   {
    "duration": 109,
    "start_time": "2022-02-16T17:22:43.695Z"
   },
   {
    "duration": 127,
    "start_time": "2022-02-16T17:22:43.806Z"
   },
   {
    "duration": 6,
    "start_time": "2022-02-16T17:22:43.937Z"
   },
   {
    "duration": 20,
    "start_time": "2022-02-16T17:22:43.946Z"
   },
   {
    "duration": 51,
    "start_time": "2022-02-16T17:22:43.968Z"
   },
   {
    "duration": 12,
    "start_time": "2022-02-16T17:22:44.021Z"
   },
   {
    "duration": 16,
    "start_time": "2022-02-16T17:22:44.035Z"
   },
   {
    "duration": 5,
    "start_time": "2022-02-16T17:22:44.053Z"
   },
   {
    "duration": 104,
    "start_time": "2022-02-16T17:22:44.059Z"
   },
   {
    "duration": 17,
    "start_time": "2022-02-16T17:22:44.165Z"
   },
   {
    "duration": 255,
    "start_time": "2022-02-16T17:22:44.184Z"
   },
   {
    "duration": -148,
    "start_time": "2022-02-16T17:22:44.590Z"
   },
   {
    "duration": -166,
    "start_time": "2022-02-16T17:22:44.609Z"
   },
   {
    "duration": -187,
    "start_time": "2022-02-16T17:22:44.631Z"
   },
   {
    "duration": -221,
    "start_time": "2022-02-16T17:22:44.666Z"
   },
   {
    "duration": -228,
    "start_time": "2022-02-16T17:22:44.674Z"
   },
   {
    "duration": -234,
    "start_time": "2022-02-16T17:22:44.681Z"
   },
   {
    "duration": -238,
    "start_time": "2022-02-16T17:22:44.687Z"
   },
   {
    "duration": -247,
    "start_time": "2022-02-16T17:22:44.697Z"
   },
   {
    "duration": -254,
    "start_time": "2022-02-16T17:22:44.705Z"
   },
   {
    "duration": -262,
    "start_time": "2022-02-16T17:22:44.713Z"
   },
   {
    "duration": -266,
    "start_time": "2022-02-16T17:22:44.719Z"
   },
   {
    "duration": -276,
    "start_time": "2022-02-16T17:22:44.729Z"
   },
   {
    "duration": -283,
    "start_time": "2022-02-16T17:22:44.737Z"
   },
   {
    "duration": -298,
    "start_time": "2022-02-16T17:22:44.753Z"
   },
   {
    "duration": -303,
    "start_time": "2022-02-16T17:22:44.759Z"
   },
   {
    "duration": -311,
    "start_time": "2022-02-16T17:22:44.768Z"
   },
   {
    "duration": -318,
    "start_time": "2022-02-16T17:22:44.776Z"
   },
   {
    "duration": -325,
    "start_time": "2022-02-16T17:22:44.784Z"
   },
   {
    "duration": -333,
    "start_time": "2022-02-16T17:22:44.793Z"
   },
   {
    "duration": -339,
    "start_time": "2022-02-16T17:22:44.800Z"
   },
   {
    "duration": -347,
    "start_time": "2022-02-16T17:22:44.809Z"
   },
   {
    "duration": -352,
    "start_time": "2022-02-16T17:22:44.815Z"
   },
   {
    "duration": -357,
    "start_time": "2022-02-16T17:22:44.821Z"
   },
   {
    "duration": -365,
    "start_time": "2022-02-16T17:22:44.830Z"
   },
   {
    "duration": -378,
    "start_time": "2022-02-16T17:22:44.844Z"
   },
   {
    "duration": -399,
    "start_time": "2022-02-16T17:22:44.866Z"
   },
   {
    "duration": -409,
    "start_time": "2022-02-16T17:22:44.877Z"
   },
   {
    "duration": -421,
    "start_time": "2022-02-16T17:22:44.890Z"
   },
   {
    "duration": -425,
    "start_time": "2022-02-16T17:22:44.895Z"
   },
   {
    "duration": -432,
    "start_time": "2022-02-16T17:22:44.902Z"
   },
   {
    "duration": -438,
    "start_time": "2022-02-16T17:22:44.909Z"
   },
   {
    "duration": -445,
    "start_time": "2022-02-16T17:22:44.917Z"
   },
   {
    "duration": -450,
    "start_time": "2022-02-16T17:22:44.923Z"
   },
   {
    "duration": -457,
    "start_time": "2022-02-16T17:22:44.931Z"
   },
   {
    "duration": -461,
    "start_time": "2022-02-16T17:22:44.936Z"
   },
   {
    "duration": -467,
    "start_time": "2022-02-16T17:22:44.943Z"
   },
   {
    "duration": -471,
    "start_time": "2022-02-16T17:22:44.949Z"
   },
   {
    "duration": -476,
    "start_time": "2022-02-16T17:22:44.955Z"
   },
   {
    "duration": -483,
    "start_time": "2022-02-16T17:22:44.963Z"
   },
   {
    "duration": -489,
    "start_time": "2022-02-16T17:22:44.970Z"
   },
   {
    "duration": -493,
    "start_time": "2022-02-16T17:22:44.975Z"
   },
   {
    "duration": -498,
    "start_time": "2022-02-16T17:22:44.981Z"
   },
   {
    "duration": -502,
    "start_time": "2022-02-16T17:22:44.985Z"
   },
   {
    "duration": -508,
    "start_time": "2022-02-16T17:22:44.992Z"
   },
   {
    "duration": -512,
    "start_time": "2022-02-16T17:22:44.997Z"
   },
   {
    "duration": -473,
    "start_time": "2022-02-16T17:22:45.003Z"
   },
   {
    "duration": -477,
    "start_time": "2022-02-16T17:22:45.008Z"
   },
   {
    "duration": -480,
    "start_time": "2022-02-16T17:22:45.013Z"
   },
   {
    "duration": -484,
    "start_time": "2022-02-16T17:22:45.018Z"
   },
   {
    "duration": -489,
    "start_time": "2022-02-16T17:22:45.024Z"
   },
   {
    "duration": -493,
    "start_time": "2022-02-16T17:22:45.029Z"
   },
   {
    "duration": -498,
    "start_time": "2022-02-16T17:22:45.035Z"
   },
   {
    "duration": -502,
    "start_time": "2022-02-16T17:22:45.040Z"
   },
   {
    "duration": -507,
    "start_time": "2022-02-16T17:22:45.046Z"
   },
   {
    "duration": -512,
    "start_time": "2022-02-16T17:22:45.052Z"
   },
   {
    "duration": -517,
    "start_time": "2022-02-16T17:22:45.058Z"
   },
   {
    "duration": -521,
    "start_time": "2022-02-16T17:22:45.063Z"
   },
   {
    "duration": -529,
    "start_time": "2022-02-16T17:22:45.072Z"
   },
   {
    "duration": -533,
    "start_time": "2022-02-16T17:22:45.077Z"
   },
   {
    "duration": -541,
    "start_time": "2022-02-16T17:22:45.085Z"
   },
   {
    "duration": 1096,
    "start_time": "2022-02-16T17:36:27.263Z"
   },
   {
    "duration": 3,
    "start_time": "2022-02-16T17:36:28.361Z"
   },
   {
    "duration": 105261,
    "start_time": "2022-02-16T17:36:28.367Z"
   },
   {
    "duration": 213,
    "start_time": "2022-02-16T17:38:13.630Z"
   },
   {
    "duration": 16,
    "start_time": "2022-02-16T17:38:13.844Z"
   },
   {
    "duration": 16,
    "start_time": "2022-02-16T17:38:13.862Z"
   },
   {
    "duration": 20,
    "start_time": "2022-02-16T17:38:13.880Z"
   },
   {
    "duration": 63,
    "start_time": "2022-02-16T17:38:13.902Z"
   },
   {
    "duration": 6,
    "start_time": "2022-02-16T17:38:13.967Z"
   },
   {
    "duration": 23,
    "start_time": "2022-02-16T17:38:13.975Z"
   },
   {
    "duration": 190,
    "start_time": "2022-02-16T17:38:13.999Z"
   },
   {
    "duration": 13,
    "start_time": "2022-02-16T17:38:14.191Z"
   },
   {
    "duration": 28,
    "start_time": "2022-02-16T17:38:14.206Z"
   },
   {
    "duration": 29,
    "start_time": "2022-02-16T17:38:14.235Z"
   },
   {
    "duration": 17,
    "start_time": "2022-02-16T17:38:14.266Z"
   },
   {
    "duration": 171,
    "start_time": "2022-02-16T17:38:14.284Z"
   },
   {
    "duration": 12,
    "start_time": "2022-02-16T17:38:14.457Z"
   },
   {
    "duration": 14,
    "start_time": "2022-02-16T17:38:14.471Z"
   },
   {
    "duration": 47,
    "start_time": "2022-02-16T17:38:14.487Z"
   },
   {
    "duration": 15,
    "start_time": "2022-02-16T17:38:14.536Z"
   },
   {
    "duration": 119,
    "start_time": "2022-02-16T17:38:14.552Z"
   },
   {
    "duration": 129,
    "start_time": "2022-02-16T17:38:14.673Z"
   },
   {
    "duration": 6,
    "start_time": "2022-02-16T17:38:14.804Z"
   },
   {
    "duration": 11,
    "start_time": "2022-02-16T17:38:14.811Z"
   },
   {
    "duration": 49,
    "start_time": "2022-02-16T17:38:14.824Z"
   },
   {
    "duration": 6,
    "start_time": "2022-02-16T17:38:14.875Z"
   },
   {
    "duration": 24,
    "start_time": "2022-02-16T17:38:14.886Z"
   },
   {
    "duration": 16,
    "start_time": "2022-02-16T17:38:14.914Z"
   },
   {
    "duration": 156,
    "start_time": "2022-02-16T17:38:14.933Z"
   },
   {
    "duration": 25,
    "start_time": "2022-02-16T17:38:15.091Z"
   },
   {
    "duration": 261,
    "start_time": "2022-02-16T17:38:15.118Z"
   },
   {
    "duration": -485,
    "start_time": "2022-02-16T17:38:15.866Z"
   },
   {
    "duration": -488,
    "start_time": "2022-02-16T17:38:15.871Z"
   },
   {
    "duration": -491,
    "start_time": "2022-02-16T17:38:15.875Z"
   },
   {
    "duration": -493,
    "start_time": "2022-02-16T17:38:15.879Z"
   },
   {
    "duration": -499,
    "start_time": "2022-02-16T17:38:15.886Z"
   },
   {
    "duration": -503,
    "start_time": "2022-02-16T17:38:15.891Z"
   },
   {
    "duration": -547,
    "start_time": "2022-02-16T17:38:15.937Z"
   },
   {
    "duration": -552,
    "start_time": "2022-02-16T17:38:15.943Z"
   },
   {
    "duration": -556,
    "start_time": "2022-02-16T17:38:15.949Z"
   },
   {
    "duration": -560,
    "start_time": "2022-02-16T17:38:15.954Z"
   },
   {
    "duration": -564,
    "start_time": "2022-02-16T17:38:15.959Z"
   },
   {
    "duration": -567,
    "start_time": "2022-02-16T17:38:15.964Z"
   },
   {
    "duration": -571,
    "start_time": "2022-02-16T17:38:15.969Z"
   },
   {
    "duration": -574,
    "start_time": "2022-02-16T17:38:15.974Z"
   },
   {
    "duration": -578,
    "start_time": "2022-02-16T17:38:15.979Z"
   },
   {
    "duration": -582,
    "start_time": "2022-02-16T17:38:15.984Z"
   },
   {
    "duration": -585,
    "start_time": "2022-02-16T17:38:15.989Z"
   },
   {
    "duration": -588,
    "start_time": "2022-02-16T17:38:15.993Z"
   },
   {
    "duration": -592,
    "start_time": "2022-02-16T17:38:15.998Z"
   },
   {
    "duration": -595,
    "start_time": "2022-02-16T17:38:16.003Z"
   },
   {
    "duration": -636,
    "start_time": "2022-02-16T17:38:16.045Z"
   },
   {
    "duration": -639,
    "start_time": "2022-02-16T17:38:16.050Z"
   },
   {
    "duration": -644,
    "start_time": "2022-02-16T17:38:16.056Z"
   },
   {
    "duration": -647,
    "start_time": "2022-02-16T17:38:16.060Z"
   },
   {
    "duration": -651,
    "start_time": "2022-02-16T17:38:16.066Z"
   },
   {
    "duration": -654,
    "start_time": "2022-02-16T17:38:16.070Z"
   },
   {
    "duration": -658,
    "start_time": "2022-02-16T17:38:16.075Z"
   },
   {
    "duration": -661,
    "start_time": "2022-02-16T17:38:16.080Z"
   },
   {
    "duration": -665,
    "start_time": "2022-02-16T17:38:16.085Z"
   },
   {
    "duration": -660,
    "start_time": "2022-02-16T17:38:16.090Z"
   },
   {
    "duration": -664,
    "start_time": "2022-02-16T17:38:16.095Z"
   },
   {
    "duration": -667,
    "start_time": "2022-02-16T17:38:16.100Z"
   },
   {
    "duration": -671,
    "start_time": "2022-02-16T17:38:16.105Z"
   },
   {
    "duration": -674,
    "start_time": "2022-02-16T17:38:16.109Z"
   },
   {
    "duration": -677,
    "start_time": "2022-02-16T17:38:16.114Z"
   },
   {
    "duration": -681,
    "start_time": "2022-02-16T17:38:16.119Z"
   },
   {
    "duration": -683,
    "start_time": "2022-02-16T17:38:16.123Z"
   },
   {
    "duration": -686,
    "start_time": "2022-02-16T17:38:16.127Z"
   },
   {
    "duration": -690,
    "start_time": "2022-02-16T17:38:16.132Z"
   },
   {
    "duration": -693,
    "start_time": "2022-02-16T17:38:16.137Z"
   },
   {
    "duration": -698,
    "start_time": "2022-02-16T17:38:16.143Z"
   },
   {
    "duration": -715,
    "start_time": "2022-02-16T17:38:16.162Z"
   },
   {
    "duration": -720,
    "start_time": "2022-02-16T17:38:16.168Z"
   },
   {
    "duration": -724,
    "start_time": "2022-02-16T17:38:16.173Z"
   },
   {
    "duration": -728,
    "start_time": "2022-02-16T17:38:16.179Z"
   },
   {
    "duration": -732,
    "start_time": "2022-02-16T17:38:16.184Z"
   },
   {
    "duration": -737,
    "start_time": "2022-02-16T17:38:16.190Z"
   },
   {
    "duration": -741,
    "start_time": "2022-02-16T17:38:16.195Z"
   },
   {
    "duration": -745,
    "start_time": "2022-02-16T17:38:16.201Z"
   },
   {
    "duration": -749,
    "start_time": "2022-02-16T17:38:16.206Z"
   },
   {
    "duration": -752,
    "start_time": "2022-02-16T17:38:16.211Z"
   },
   {
    "duration": -757,
    "start_time": "2022-02-16T17:38:16.217Z"
   },
   {
    "duration": -762,
    "start_time": "2022-02-16T17:38:16.223Z"
   },
   {
    "duration": -765,
    "start_time": "2022-02-16T17:38:16.228Z"
   },
   {
    "duration": -770,
    "start_time": "2022-02-16T17:38:16.234Z"
   },
   {
    "duration": -774,
    "start_time": "2022-02-16T17:38:16.239Z"
   },
   {
    "duration": -778,
    "start_time": "2022-02-16T17:38:16.245Z"
   },
   {
    "duration": -782,
    "start_time": "2022-02-16T17:38:16.250Z"
   },
   {
    "duration": -728,
    "start_time": "2022-02-16T17:38:16.257Z"
   },
   {
    "duration": -745,
    "start_time": "2022-02-16T17:38:16.276Z"
   },
   {
    "duration": 38726,
    "start_time": "2022-02-16T17:40:04.847Z"
   },
   {
    "duration": 1094,
    "start_time": "2022-02-16T17:40:49.342Z"
   },
   {
    "duration": 3,
    "start_time": "2022-02-16T17:40:50.438Z"
   },
   {
    "duration": 85604,
    "start_time": "2022-02-16T17:40:50.444Z"
   },
   {
    "duration": 212,
    "start_time": "2022-02-16T17:42:16.050Z"
   },
   {
    "duration": 16,
    "start_time": "2022-02-16T17:42:16.264Z"
   },
   {
    "duration": 12,
    "start_time": "2022-02-16T17:42:16.282Z"
   },
   {
    "duration": 35,
    "start_time": "2022-02-16T17:42:16.296Z"
   },
   {
    "duration": 38,
    "start_time": "2022-02-16T17:42:16.334Z"
   },
   {
    "duration": 6,
    "start_time": "2022-02-16T17:42:16.374Z"
   },
   {
    "duration": 20,
    "start_time": "2022-02-16T17:42:16.381Z"
   },
   {
    "duration": 186,
    "start_time": "2022-02-16T17:42:16.403Z"
   },
   {
    "duration": 13,
    "start_time": "2022-02-16T17:42:16.591Z"
   },
   {
    "duration": 29,
    "start_time": "2022-02-16T17:42:16.606Z"
   },
   {
    "duration": 29,
    "start_time": "2022-02-16T17:42:16.637Z"
   },
   {
    "duration": 17,
    "start_time": "2022-02-16T17:42:16.667Z"
   },
   {
    "duration": 160,
    "start_time": "2022-02-16T17:42:16.686Z"
   },
   {
    "duration": 10,
    "start_time": "2022-02-16T17:42:16.848Z"
   },
   {
    "duration": 12,
    "start_time": "2022-02-16T17:42:16.860Z"
   },
   {
    "duration": 23,
    "start_time": "2022-02-16T17:42:16.873Z"
   },
   {
    "duration": 35,
    "start_time": "2022-02-16T17:42:16.898Z"
   },
   {
    "duration": 121,
    "start_time": "2022-02-16T17:42:16.935Z"
   },
   {
    "duration": 149,
    "start_time": "2022-02-16T17:42:17.057Z"
   },
   {
    "duration": 6,
    "start_time": "2022-02-16T17:42:17.210Z"
   },
   {
    "duration": 13,
    "start_time": "2022-02-16T17:42:17.219Z"
   },
   {
    "duration": 47,
    "start_time": "2022-02-16T17:42:17.234Z"
   },
   {
    "duration": 7,
    "start_time": "2022-02-16T17:42:17.283Z"
   },
   {
    "duration": 39,
    "start_time": "2022-02-16T17:42:17.292Z"
   },
   {
    "duration": 5,
    "start_time": "2022-02-16T17:42:17.333Z"
   },
   {
    "duration": 94,
    "start_time": "2022-02-16T17:42:17.340Z"
   },
   {
    "duration": 16,
    "start_time": "2022-02-16T17:42:17.436Z"
   },
   {
    "duration": 240,
    "start_time": "2022-02-16T17:42:17.454Z"
   },
   {
    "duration": 4,
    "start_time": "2022-02-16T17:42:17.696Z"
   },
   {
    "duration": 9,
    "start_time": "2022-02-16T17:42:17.702Z"
   },
   {
    "duration": 144,
    "start_time": "2022-02-16T17:42:17.712Z"
   },
   {
    "duration": 5,
    "start_time": "2022-02-16T17:42:17.858Z"
   },
   {
    "duration": 8,
    "start_time": "2022-02-16T17:42:17.865Z"
   },
   {
    "duration": 7,
    "start_time": "2022-02-16T17:42:17.874Z"
   },
   {
    "duration": 223,
    "start_time": "2022-02-16T17:42:17.883Z"
   },
   {
    "duration": 4,
    "start_time": "2022-02-16T17:42:18.108Z"
   },
   {
    "duration": 17,
    "start_time": "2022-02-16T17:42:18.114Z"
   },
   {
    "duration": 135,
    "start_time": "2022-02-16T17:42:18.133Z"
   },
   {
    "duration": 4,
    "start_time": "2022-02-16T17:42:18.270Z"
   },
   {
    "duration": 5,
    "start_time": "2022-02-16T17:42:18.276Z"
   },
   {
    "duration": 6,
    "start_time": "2022-02-16T17:42:18.283Z"
   },
   {
    "duration": 362,
    "start_time": "2022-02-16T17:42:18.291Z"
   },
   {
    "duration": 5,
    "start_time": "2022-02-16T17:42:18.655Z"
   },
   {
    "duration": 13,
    "start_time": "2022-02-16T17:42:18.662Z"
   },
   {
    "duration": 135,
    "start_time": "2022-02-16T17:42:18.677Z"
   },
   {
    "duration": 4,
    "start_time": "2022-02-16T17:42:18.813Z"
   },
   {
    "duration": 12,
    "start_time": "2022-02-16T17:42:18.819Z"
   },
   {
    "duration": 6,
    "start_time": "2022-02-16T17:42:18.833Z"
   },
   {
    "duration": 284,
    "start_time": "2022-02-16T17:42:18.841Z"
   },
   {
    "duration": 5,
    "start_time": "2022-02-16T17:42:19.129Z"
   },
   {
    "duration": 11,
    "start_time": "2022-02-16T17:42:19.136Z"
   },
   {
    "duration": 136,
    "start_time": "2022-02-16T17:42:19.148Z"
   },
   {
    "duration": 5,
    "start_time": "2022-02-16T17:42:19.285Z"
   },
   {
    "duration": 7,
    "start_time": "2022-02-16T17:42:19.291Z"
   },
   {
    "duration": 7,
    "start_time": "2022-02-16T17:42:19.299Z"
   },
   {
    "duration": 261,
    "start_time": "2022-02-16T17:42:19.307Z"
   },
   {
    "duration": 4,
    "start_time": "2022-02-16T17:42:19.569Z"
   },
   {
    "duration": 8,
    "start_time": "2022-02-16T17:42:19.575Z"
   },
   {
    "duration": 138,
    "start_time": "2022-02-16T17:42:19.585Z"
   },
   {
    "duration": 8,
    "start_time": "2022-02-16T17:42:19.724Z"
   },
   {
    "duration": 5,
    "start_time": "2022-02-16T17:42:19.733Z"
   },
   {
    "duration": 8,
    "start_time": "2022-02-16T17:42:19.740Z"
   },
   {
    "duration": 210,
    "start_time": "2022-02-16T17:42:19.749Z"
   },
   {
    "duration": 4,
    "start_time": "2022-02-16T17:42:19.961Z"
   },
   {
    "duration": 7,
    "start_time": "2022-02-16T17:42:19.970Z"
   },
   {
    "duration": 145,
    "start_time": "2022-02-16T17:42:19.979Z"
   },
   {
    "duration": 6,
    "start_time": "2022-02-16T17:42:20.126Z"
   },
   {
    "duration": 4,
    "start_time": "2022-02-16T17:42:20.134Z"
   },
   {
    "duration": 10,
    "start_time": "2022-02-16T17:42:20.140Z"
   },
   {
    "duration": 5,
    "start_time": "2022-02-16T17:42:20.151Z"
   },
   {
    "duration": 6,
    "start_time": "2022-02-16T17:42:20.158Z"
   },
   {
    "duration": 7,
    "start_time": "2022-02-16T17:42:20.165Z"
   },
   {
    "duration": 5,
    "start_time": "2022-02-16T17:42:20.174Z"
   },
   {
    "duration": 6,
    "start_time": "2022-02-16T17:42:20.181Z"
   },
   {
    "duration": 4,
    "start_time": "2022-02-16T17:42:20.189Z"
   },
   {
    "duration": 4,
    "start_time": "2022-02-16T17:42:20.230Z"
   },
   {
    "duration": 6,
    "start_time": "2022-02-16T17:42:20.236Z"
   },
   {
    "duration": 6,
    "start_time": "2022-02-16T17:42:20.243Z"
   },
   {
    "duration": 10,
    "start_time": "2022-02-16T17:42:20.251Z"
   },
   {
    "duration": 9,
    "start_time": "2022-02-16T17:42:20.263Z"
   },
   {
    "duration": 10,
    "start_time": "2022-02-16T17:42:20.274Z"
   },
   {
    "duration": 11,
    "start_time": "2022-02-16T17:42:20.285Z"
   },
   {
    "duration": 33,
    "start_time": "2022-02-16T17:42:20.298Z"
   },
   {
    "duration": 7,
    "start_time": "2022-02-16T17:42:20.333Z"
   },
   {
    "duration": 5,
    "start_time": "2022-02-16T17:42:20.342Z"
   },
   {
    "duration": 4,
    "start_time": "2022-02-16T17:42:20.348Z"
   },
   {
    "duration": 5,
    "start_time": "2022-02-16T17:42:20.353Z"
   },
   {
    "duration": 4,
    "start_time": "2022-02-16T17:42:20.359Z"
   },
   {
    "duration": 14,
    "start_time": "2022-02-16T17:49:02.158Z"
   },
   {
    "duration": 103,
    "start_time": "2022-02-17T08:53:03.611Z"
   },
   {
    "duration": 379,
    "start_time": "2022-02-17T09:15:10.416Z"
   },
   {
    "duration": 1145,
    "start_time": "2022-02-17T09:15:19.898Z"
   },
   {
    "duration": 3,
    "start_time": "2022-02-17T09:15:21.045Z"
   },
   {
    "duration": 319,
    "start_time": "2022-02-17T09:15:24.268Z"
   },
   {
    "duration": 16,
    "start_time": "2022-02-17T09:15:27.572Z"
   },
   {
    "duration": 12,
    "start_time": "2022-02-17T09:15:27.876Z"
   },
   {
    "duration": 20,
    "start_time": "2022-02-17T09:15:28.993Z"
   },
   {
    "duration": 34,
    "start_time": "2022-02-17T09:15:29.029Z"
   },
   {
    "duration": 6,
    "start_time": "2022-02-17T09:15:29.125Z"
   },
   {
    "duration": 18,
    "start_time": "2022-02-17T09:15:29.206Z"
   },
   {
    "duration": 292,
    "start_time": "2022-02-17T09:15:29.243Z"
   },
   {
    "duration": 13,
    "start_time": "2022-02-17T09:15:29.537Z"
   },
   {
    "duration": 16,
    "start_time": "2022-02-17T09:15:29.552Z"
   },
   {
    "duration": 26,
    "start_time": "2022-02-17T09:15:29.570Z"
   },
   {
    "duration": 39,
    "start_time": "2022-02-17T09:15:29.598Z"
   },
   {
    "duration": 270,
    "start_time": "2022-02-17T09:15:29.639Z"
   },
   {
    "duration": 10,
    "start_time": "2022-02-17T09:15:29.910Z"
   },
   {
    "duration": 13,
    "start_time": "2022-02-17T09:15:29.922Z"
   },
   {
    "duration": 21,
    "start_time": "2022-02-17T09:15:29.936Z"
   },
   {
    "duration": 16,
    "start_time": "2022-02-17T09:15:29.959Z"
   },
   {
    "duration": 225,
    "start_time": "2022-02-17T09:15:29.976Z"
   },
   {
    "duration": 235,
    "start_time": "2022-02-17T09:15:30.202Z"
   },
   {
    "duration": 5,
    "start_time": "2022-02-17T09:15:30.439Z"
   },
   {
    "duration": 10,
    "start_time": "2022-02-17T09:15:30.445Z"
   },
   {
    "duration": 42,
    "start_time": "2022-02-17T09:15:30.456Z"
   },
   {
    "duration": 4,
    "start_time": "2022-02-17T09:15:30.500Z"
   },
   {
    "duration": 28,
    "start_time": "2022-02-17T09:15:30.505Z"
   },
   {
    "duration": 4,
    "start_time": "2022-02-17T09:15:30.535Z"
   },
   {
    "duration": 91,
    "start_time": "2022-02-17T09:15:30.541Z"
   },
   {
    "duration": 14,
    "start_time": "2022-02-17T09:17:04.214Z"
   },
   {
    "duration": 334,
    "start_time": "2022-02-17T09:17:07.471Z"
   },
   {
    "duration": 3617,
    "start_time": "2022-02-17T09:17:18.701Z"
   },
   {
    "duration": 1122,
    "start_time": "2022-02-17T09:17:28.597Z"
   },
   {
    "duration": 3,
    "start_time": "2022-02-17T09:17:29.721Z"
   },
   {
    "duration": 2388,
    "start_time": "2022-02-17T09:17:29.726Z"
   },
   {
    "duration": 344,
    "start_time": "2022-02-17T09:17:32.116Z"
   },
   {
    "duration": 16,
    "start_time": "2022-02-17T09:17:32.462Z"
   },
   {
    "duration": 18,
    "start_time": "2022-02-17T09:17:32.479Z"
   },
   {
    "duration": 19,
    "start_time": "2022-02-17T09:17:32.499Z"
   },
   {
    "duration": 37,
    "start_time": "2022-02-17T09:17:32.532Z"
   },
   {
    "duration": 5,
    "start_time": "2022-02-17T09:17:32.571Z"
   },
   {
    "duration": 18,
    "start_time": "2022-02-17T09:17:32.578Z"
   },
   {
    "duration": 288,
    "start_time": "2022-02-17T09:17:32.597Z"
   },
   {
    "duration": 12,
    "start_time": "2022-02-17T09:17:32.887Z"
   },
   {
    "duration": 16,
    "start_time": "2022-02-17T09:17:32.900Z"
   },
   {
    "duration": 56,
    "start_time": "2022-02-17T09:17:32.917Z"
   },
   {
    "duration": 14,
    "start_time": "2022-02-17T09:17:32.974Z"
   },
   {
    "duration": 269,
    "start_time": "2022-02-17T09:17:32.990Z"
   },
   {
    "duration": 10,
    "start_time": "2022-02-17T09:17:33.261Z"
   },
   {
    "duration": 12,
    "start_time": "2022-02-17T09:17:33.273Z"
   },
   {
    "duration": 20,
    "start_time": "2022-02-17T09:17:33.287Z"
   },
   {
    "duration": 30,
    "start_time": "2022-02-17T09:17:33.309Z"
   },
   {
    "duration": 204,
    "start_time": "2022-02-17T09:17:33.340Z"
   },
   {
    "duration": 241,
    "start_time": "2022-02-17T09:17:33.546Z"
   },
   {
    "duration": 6,
    "start_time": "2022-02-17T09:17:33.790Z"
   },
   {
    "duration": 9,
    "start_time": "2022-02-17T09:17:33.798Z"
   },
   {
    "duration": 44,
    "start_time": "2022-02-17T09:17:33.808Z"
   },
   {
    "duration": 5,
    "start_time": "2022-02-17T09:17:33.853Z"
   },
   {
    "duration": 12,
    "start_time": "2022-02-17T09:17:33.860Z"
   },
   {
    "duration": 4,
    "start_time": "2022-02-17T09:17:33.873Z"
   },
   {
    "duration": 92,
    "start_time": "2022-02-17T09:17:33.879Z"
   },
   {
    "duration": 15,
    "start_time": "2022-02-17T09:17:33.972Z"
   },
   {
    "duration": 240,
    "start_time": "2022-02-17T09:17:33.988Z"
   },
   {
    "duration": 5,
    "start_time": "2022-02-17T09:17:34.229Z"
   },
   {
    "duration": 7,
    "start_time": "2022-02-17T09:17:34.235Z"
   },
   {
    "duration": 136,
    "start_time": "2022-02-17T09:17:34.243Z"
   },
   {
    "duration": 4,
    "start_time": "2022-02-17T09:17:34.381Z"
   },
   {
    "duration": 5,
    "start_time": "2022-02-17T09:17:34.387Z"
   },
   {
    "duration": 4,
    "start_time": "2022-02-17T09:17:34.393Z"
   },
   {
    "duration": 215,
    "start_time": "2022-02-17T09:17:34.399Z"
   },
   {
    "duration": 4,
    "start_time": "2022-02-17T09:17:34.616Z"
   },
   {
    "duration": 13,
    "start_time": "2022-02-17T09:17:34.622Z"
   },
   {
    "duration": 135,
    "start_time": "2022-02-17T09:18:27.548Z"
   },
   {
    "duration": 5,
    "start_time": "2022-02-17T09:18:31.139Z"
   },
   {
    "duration": 4,
    "start_time": "2022-02-17T09:18:31.509Z"
   },
   {
    "duration": 5,
    "start_time": "2022-02-17T09:18:49.258Z"
   },
   {
    "duration": 208,
    "start_time": "2022-02-17T09:19:09.102Z"
   },
   {
    "duration": 5,
    "start_time": "2022-02-17T09:19:12.602Z"
   },
   {
    "duration": 8,
    "start_time": "2022-02-17T09:19:13.115Z"
   },
   {
    "duration": 125,
    "start_time": "2022-02-17T09:20:56.267Z"
   },
   {
    "duration": 200,
    "start_time": "2022-02-17T09:21:20.355Z"
   },
   {
    "duration": 4,
    "start_time": "2022-02-17T09:21:23.948Z"
   },
   {
    "duration": 4,
    "start_time": "2022-02-17T09:21:24.202Z"
   },
   {
    "duration": 4,
    "start_time": "2022-02-17T09:21:24.732Z"
   },
   {
    "duration": 225,
    "start_time": "2022-02-17T09:22:45.577Z"
   },
   {
    "duration": 5,
    "start_time": "2022-02-17T09:22:49.044Z"
   },
   {
    "duration": 9,
    "start_time": "2022-02-17T09:22:50.281Z"
   },
   {
    "duration": 116,
    "start_time": "2022-02-17T09:23:21.478Z"
   },
   {
    "duration": 4,
    "start_time": "2022-02-17T09:23:26.998Z"
   },
   {
    "duration": 4,
    "start_time": "2022-02-17T09:23:27.260Z"
   },
   {
    "duration": 4,
    "start_time": "2022-02-17T09:23:27.586Z"
   },
   {
    "duration": 191,
    "start_time": "2022-02-17T09:23:52.242Z"
   },
   {
    "duration": 4,
    "start_time": "2022-02-17T09:23:56.157Z"
   },
   {
    "duration": 8,
    "start_time": "2022-02-17T09:23:56.488Z"
   },
   {
    "duration": 125,
    "start_time": "2022-02-17T09:24:23.054Z"
   },
   {
    "duration": 4,
    "start_time": "2022-02-17T09:24:27.488Z"
   },
   {
    "duration": 4,
    "start_time": "2022-02-17T09:24:28.212Z"
   },
   {
    "duration": 4,
    "start_time": "2022-02-17T09:24:28.980Z"
   },
   {
    "duration": 239,
    "start_time": "2022-02-17T09:25:11.624Z"
   },
   {
    "duration": 258,
    "start_time": "2022-02-17T09:25:20.408Z"
   },
   {
    "duration": 4,
    "start_time": "2022-02-17T09:25:20.669Z"
   },
   {
    "duration": 8,
    "start_time": "2022-02-17T09:25:20.800Z"
   },
   {
    "duration": 125,
    "start_time": "2022-02-17T09:25:45.473Z"
   },
   {
    "duration": 4,
    "start_time": "2022-02-17T09:25:49.835Z"
   },
   {
    "duration": 4,
    "start_time": "2022-02-17T09:25:50.348Z"
   },
   {
    "duration": 5,
    "start_time": "2022-02-17T09:25:54.415Z"
   },
   {
    "duration": 208,
    "start_time": "2022-02-17T09:26:11.237Z"
   },
   {
    "duration": 5,
    "start_time": "2022-02-17T09:26:15.787Z"
   },
   {
    "duration": 7,
    "start_time": "2022-02-17T09:26:16.819Z"
   },
   {
    "duration": 113,
    "start_time": "2022-02-17T09:26:26.161Z"
   },
   {
    "duration": 120,
    "start_time": "2022-02-17T09:26:55.543Z"
   },
   {
    "duration": 4,
    "start_time": "2022-02-17T09:26:58.411Z"
   },
   {
    "duration": 4,
    "start_time": "2022-02-17T09:26:59.250Z"
   },
   {
    "duration": 5,
    "start_time": "2022-02-17T09:27:00.391Z"
   },
   {
    "duration": 389,
    "start_time": "2022-02-17T09:34:36.050Z"
   },
   {
    "duration": 347,
    "start_time": "2022-02-17T09:38:14.915Z"
   },
   {
    "duration": 307,
    "start_time": "2022-02-17T09:41:52.026Z"
   },
   {
    "duration": 841,
    "start_time": "2022-02-17T09:44:05.536Z"
   },
   {
    "duration": 350,
    "start_time": "2022-02-17T09:44:18.575Z"
   },
   {
    "duration": 386,
    "start_time": "2022-02-17T09:44:40.689Z"
   },
   {
    "duration": 124,
    "start_time": "2022-02-17T09:44:53.234Z"
   },
   {
    "duration": 203,
    "start_time": "2022-02-17T09:45:18.914Z"
   },
   {
    "duration": 103,
    "start_time": "2022-02-17T09:49:10.760Z"
   },
   {
    "duration": 121,
    "start_time": "2022-02-17T09:49:15.087Z"
   },
   {
    "duration": 99,
    "start_time": "2022-02-17T09:49:23.340Z"
   },
   {
    "duration": 344,
    "start_time": "2022-02-17T09:49:31.211Z"
   },
   {
    "duration": 402,
    "start_time": "2022-02-17T09:50:25.156Z"
   },
   {
    "duration": 220,
    "start_time": "2022-02-17T09:50:38.548Z"
   },
   {
    "duration": 255,
    "start_time": "2022-02-17T09:50:49.508Z"
   },
   {
    "duration": 140,
    "start_time": "2022-02-17T09:52:18.656Z"
   },
   {
    "duration": 749,
    "start_time": "2022-02-17T09:55:20.695Z"
   },
   {
    "duration": 139,
    "start_time": "2022-02-17T09:55:33.761Z"
   },
   {
    "duration": 309,
    "start_time": "2022-02-17T10:01:18.311Z"
   },
   {
    "duration": 334,
    "start_time": "2022-02-17T10:01:57.134Z"
   },
   {
    "duration": 178,
    "start_time": "2022-02-17T10:02:40.555Z"
   },
   {
    "duration": 161,
    "start_time": "2022-02-17T10:04:25.447Z"
   },
   {
    "duration": 165,
    "start_time": "2022-02-17T10:04:59.239Z"
   },
   {
    "duration": 264,
    "start_time": "2022-02-17T13:16:06.243Z"
   },
   {
    "duration": 337,
    "start_time": "2022-02-17T13:16:24.497Z"
   },
   {
    "duration": 517,
    "start_time": "2022-02-17T13:22:13.076Z"
   },
   {
    "duration": 1312,
    "start_time": "2022-02-17T13:35:18.436Z"
   },
   {
    "duration": 295,
    "start_time": "2022-02-17T13:35:32.448Z"
   },
   {
    "duration": 348,
    "start_time": "2022-02-17T13:37:41.665Z"
   },
   {
    "duration": 237,
    "start_time": "2022-02-17T13:38:09.097Z"
   },
   {
    "duration": 253,
    "start_time": "2022-02-17T13:39:20.289Z"
   },
   {
    "duration": 169,
    "start_time": "2022-02-17T13:39:23.888Z"
   }
  ],
  "kernelspec": {
   "display_name": "Python 3",
   "language": "python",
   "name": "python3"
  },
  "language_info": {
   "codemirror_mode": {
    "name": "ipython",
    "version": 3
   },
   "file_extension": ".py",
   "mimetype": "text/x-python",
   "name": "python",
   "nbconvert_exporter": "python",
   "pygments_lexer": "ipython3",
   "version": "3.8.8"
  },
  "toc": {
   "base_numbering": 1,
   "nav_menu": {},
   "number_sections": true,
   "sideBar": true,
   "skip_h1_title": true,
   "title_cell": "Table of Contents",
   "title_sidebar": "Contents",
   "toc_cell": false,
   "toc_position": {},
   "toc_section_display": true,
   "toc_window_display": false
  }
 },
 "nbformat": 4,
 "nbformat_minor": 2
}
